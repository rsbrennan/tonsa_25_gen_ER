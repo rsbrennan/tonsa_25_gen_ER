{
 "cells": [
  {
   "cell_type": "code",
   "execution_count": 1,
   "metadata": {},
   "outputs": [],
   "source": [
    "import cvtk"
   ]
  },
  {
   "cell_type": "code",
   "execution_count": 2,
   "metadata": {},
   "outputs": [],
   "source": [
    "import os\n",
    "import sys\n",
    "nb_dir = os.path.split(os.getcwd())[0]\n",
    "if nb_dir not in sys.path:\n",
    "    sys.path.append(nb_dir)\n",
    "%load_ext autoreload\n",
    "%autoreload 2\n",
    "%reload_ext autoreload\n",
    "\n",
    "import re\n",
    "import pickle\n",
    "\n",
    "from tqdm import tnrange\n",
    "import pandas as pd\n",
    "import numpy as np\n",
    "import matplotlib.pyplot as plt\n",
    "from matplotlib import cm\n",
    "import statsmodels.api as sm\n",
    "import matplotlib as mpl"
   ]
  },
  {
   "cell_type": "code",
   "execution_count": 3,
   "metadata": {},
   "outputs": [
    {
     "name": "stderr",
     "output_type": "stream",
     "text": [
      "/users/r/b/rbrennan/anaconda3/lib/python3.8/site-packages/cvtkpy-0.0.1-py3.8.egg/cvtk/gintervals.py:138: SyntaxWarning: \"is not\" with a literal. Did you mean \"!=\"?\n",
      "/users/r/b/rbrennan/anaconda3/lib/python3.8/site-packages/cvtkpy-0.0.1-py3.8.egg/cvtk/gintervals.py:138: SyntaxWarning: \"is not\" with a literal. Did you mean \"!=\"?\n"
     ]
    }
   ],
   "source": [
    "from cvtk.cvtk import TemporalFreqs, TiledTemporalFreqs\n",
    "from cvtk.cov import stack_temporal_covariances\n",
    "import cvtk.variant_files as vf\n",
    "from cvtk.gintervals import GenomicIntervals\n",
    "from cvtk.pca import FreqPCA\n",
    "from cvtk.plots import rep_plot_pca, correction_diagnostic_plot\n",
    "from cvtk.utils import integerize\n",
    "from cvtk.utils import extract_empirical_nulls_diagonals, extract_temporal_cov_diagonals\n",
    "from cvtk.cov import stack_replicate_covariances, stack_temporal_covs_by_group"
   ]
  },
  {
   "cell_type": "code",
   "execution_count": 4,
   "metadata": {},
   "outputs": [],
   "source": [
    "%matplotlib inline\n",
    "#%config InlineBackend.figure_format = 'svg'\n",
    "mpl.rcParams['figure.figsize'] = (8.0, 4.0)\n",
    "mpl.rcParams['figure.dpi'] = 200"
   ]
  },
  {
   "cell_type": "code",
   "execution_count": 5,
   "metadata": {},
   "outputs": [],
   "source": [
    "np.random.seed(0)"
   ]
  },
  {
   "cell_type": "markdown",
   "metadata": {},
   "source": [
    "# Data and Annotation Loading\n",
    "\n",
    "## load in allele frequency data\n",
    "\n",
    "Here, we only actually have 1 F0 control. So I needed to duplicate these. This will likely cause problems downstream with the covariance estimations."
   ]
  },
  {
   "cell_type": "code",
   "execution_count": 6,
   "metadata": {},
   "outputs": [
    {
     "name": "stdout",
     "output_type": "stream",
     "text": [
      "reading file '/users/r/b/rbrennan/tonsa_genomics/analysis/atonsa.sync.gz'...\n",
      "file '/users/r/b/rbrennan/tonsa_genomics/analysis/atonsa.sync.gz' loaded.\n",
      "total time to load Sync file: 0.6110623280207316 mins.\n"
     ]
    },
    {
     "data": {
      "text/plain": [
       "VariantFile with 394667 loci and 32 samples."
      ]
     },
     "execution_count": 6,
     "metadata": {},
     "output_type": "execute_result"
    }
   ],
   "source": [
    "SYNC_FILE = '/users/r/b/rbrennan/tonsa_genomics/analysis/atonsa.sync.gz'\n",
    "sf = vf.SyncFile(SYNC_FILE)\n",
    "sf"
   ]
  },
  {
   "cell_type": "markdown",
   "metadata": {},
   "source": [
    "#### Next, need a file that specifies the genome. in format: scaff name, length. tab delimited."
   ]
  },
  {
   "cell_type": "code",
   "execution_count": 7,
   "metadata": {},
   "outputs": [],
   "source": [
    "sf_gi = sf.build_gintervals()\n",
    "sf_gi.seqlens = dict()\n",
    "with open('/users/r/b/rbrennan/tonsa_genomics/analysis/tonsa_seqlens.txt') as f:\n",
    "    for line in f:\n",
    "        seqid, length = line.strip().split('\\t')\n",
    "        sf_gi.seqlens[seqid] = int(length)"
   ]
  },
  {
   "cell_type": "code",
   "execution_count": 8,
   "metadata": {},
   "outputs": [
    {
     "data": {
      "text/plain": [
       "GenomicIntervals — 9771 unique seqids, 394667 features\n",
       "         GenomicInterval\n",
       "0    LS387016.1:[58, 59)\n",
       "1  LS387016.1:[102, 103)\n",
       "2  LS387016.1:[148, 149)\n",
       "3  LS387016.1:[158, 159)\n",
       "4  LS387016.1:[162, 163)\n",
       "[ 394662 more GenomicIntervals ]"
      ]
     },
     "execution_count": 8,
     "metadata": {},
     "output_type": "execute_result"
    }
   ],
   "source": [
    "sf_gi"
   ]
  },
  {
   "cell_type": "markdown",
   "metadata": {},
   "source": [
    "## Study Design"
   ]
  },
  {
   "cell_type": "code",
   "execution_count": 9,
   "metadata": {},
   "outputs": [],
   "source": [
    "RAW_DESIGN_FILE = '/users/r/b/rbrennan/tonsa_genomics/analysis/tonsa_design.csv'\n",
    "sample_names = pd.read_csv(RAW_DESIGN_FILE)\n",
    "#sample_re = re.compile(r\"(?P<species>Dsim)_(?P<pop>Fl)_(?P<selection>Base|Hot)_(F(?P<gen>\\d+)_)?(?P<rep>\\d+)\")\n",
    "#sample_info = [{'name':d, **re.match(sample_re, d).groupdict()} for d in sample_names]\n",
    "design = sample_names"
   ]
  },
  {
   "cell_type": "code",
   "execution_count": 10,
   "metadata": {},
   "outputs": [
    {
     "data": {
      "text/html": [
       "<div>\n",
       "<style scoped>\n",
       "    .dataframe tbody tr th:only-of-type {\n",
       "        vertical-align: middle;\n",
       "    }\n",
       "\n",
       "    .dataframe tbody tr th {\n",
       "        vertical-align: top;\n",
       "    }\n",
       "\n",
       "    .dataframe thead th {\n",
       "        text-align: right;\n",
       "    }\n",
       "</style>\n",
       "<table border=\"1\" class=\"dataframe\">\n",
       "  <thead>\n",
       "    <tr style=\"text-align: right;\">\n",
       "      <th></th>\n",
       "      <th>name</th>\n",
       "      <th>species</th>\n",
       "      <th>pop</th>\n",
       "      <th>selection</th>\n",
       "      <th>gen</th>\n",
       "      <th>rep</th>\n",
       "      <th>id</th>\n",
       "    </tr>\n",
       "  </thead>\n",
       "  <tbody>\n",
       "    <tr>\n",
       "      <th>0</th>\n",
       "      <td>AA_F00_Rep1</td>\n",
       "      <td>Atonsa</td>\n",
       "      <td>LIS</td>\n",
       "      <td>Ambient</td>\n",
       "      <td>0</td>\n",
       "      <td>1</td>\n",
       "      <td>AA-1</td>\n",
       "    </tr>\n",
       "    <tr>\n",
       "      <th>1</th>\n",
       "      <td>AA_F00_Rep2</td>\n",
       "      <td>Atonsa</td>\n",
       "      <td>LIS</td>\n",
       "      <td>Ambient</td>\n",
       "      <td>0</td>\n",
       "      <td>2</td>\n",
       "      <td>AA-2</td>\n",
       "    </tr>\n",
       "    <tr>\n",
       "      <th>2</th>\n",
       "      <td>AA_F00_Rep3</td>\n",
       "      <td>Atonsa</td>\n",
       "      <td>LIS</td>\n",
       "      <td>Ambient</td>\n",
       "      <td>0</td>\n",
       "      <td>3</td>\n",
       "      <td>AA-3</td>\n",
       "    </tr>\n",
       "    <tr>\n",
       "      <th>3</th>\n",
       "      <td>AA_F00_Rep4</td>\n",
       "      <td>Atonsa</td>\n",
       "      <td>LIS</td>\n",
       "      <td>Ambient</td>\n",
       "      <td>0</td>\n",
       "      <td>4</td>\n",
       "      <td>AA-4</td>\n",
       "    </tr>\n",
       "    <tr>\n",
       "      <th>4</th>\n",
       "      <td>AA_F25_Rep1</td>\n",
       "      <td>Atonsa</td>\n",
       "      <td>LIS</td>\n",
       "      <td>Ambient</td>\n",
       "      <td>25</td>\n",
       "      <td>1</td>\n",
       "      <td>AA-1</td>\n",
       "    </tr>\n",
       "    <tr>\n",
       "      <th>5</th>\n",
       "      <td>AA_F25_Rep2</td>\n",
       "      <td>Atonsa</td>\n",
       "      <td>LIS</td>\n",
       "      <td>Ambient</td>\n",
       "      <td>25</td>\n",
       "      <td>2</td>\n",
       "      <td>AA-2</td>\n",
       "    </tr>\n",
       "    <tr>\n",
       "      <th>6</th>\n",
       "      <td>AA_F25_Rep3</td>\n",
       "      <td>Atonsa</td>\n",
       "      <td>LIS</td>\n",
       "      <td>Ambient</td>\n",
       "      <td>25</td>\n",
       "      <td>3</td>\n",
       "      <td>AA-3</td>\n",
       "    </tr>\n",
       "    <tr>\n",
       "      <th>7</th>\n",
       "      <td>AA_F25_Rep4</td>\n",
       "      <td>Atonsa</td>\n",
       "      <td>LIS</td>\n",
       "      <td>Ambient</td>\n",
       "      <td>25</td>\n",
       "      <td>4</td>\n",
       "      <td>AA-4</td>\n",
       "    </tr>\n",
       "    <tr>\n",
       "      <th>8</th>\n",
       "      <td>AA_F00_Rep1</td>\n",
       "      <td>Atonsa</td>\n",
       "      <td>LIS</td>\n",
       "      <td>Acidic</td>\n",
       "      <td>0</td>\n",
       "      <td>1</td>\n",
       "      <td>AH-1</td>\n",
       "    </tr>\n",
       "    <tr>\n",
       "      <th>9</th>\n",
       "      <td>AA_F00_Rep2</td>\n",
       "      <td>Atonsa</td>\n",
       "      <td>LIS</td>\n",
       "      <td>Acidic</td>\n",
       "      <td>0</td>\n",
       "      <td>2</td>\n",
       "      <td>AH-2</td>\n",
       "    </tr>\n",
       "    <tr>\n",
       "      <th>10</th>\n",
       "      <td>AA_F00_Rep3</td>\n",
       "      <td>Atonsa</td>\n",
       "      <td>LIS</td>\n",
       "      <td>Acidic</td>\n",
       "      <td>0</td>\n",
       "      <td>3</td>\n",
       "      <td>AH-3</td>\n",
       "    </tr>\n",
       "    <tr>\n",
       "      <th>11</th>\n",
       "      <td>AA_F00_Rep4</td>\n",
       "      <td>Atonsa</td>\n",
       "      <td>LIS</td>\n",
       "      <td>Acidic</td>\n",
       "      <td>0</td>\n",
       "      <td>4</td>\n",
       "      <td>AH-4</td>\n",
       "    </tr>\n",
       "    <tr>\n",
       "      <th>12</th>\n",
       "      <td>AH_F25_Rep1</td>\n",
       "      <td>Atonsa</td>\n",
       "      <td>LIS</td>\n",
       "      <td>Acidic</td>\n",
       "      <td>25</td>\n",
       "      <td>1</td>\n",
       "      <td>AH-1</td>\n",
       "    </tr>\n",
       "    <tr>\n",
       "      <th>13</th>\n",
       "      <td>AH_F25_Rep2</td>\n",
       "      <td>Atonsa</td>\n",
       "      <td>LIS</td>\n",
       "      <td>Acidic</td>\n",
       "      <td>25</td>\n",
       "      <td>2</td>\n",
       "      <td>AH-2</td>\n",
       "    </tr>\n",
       "    <tr>\n",
       "      <th>14</th>\n",
       "      <td>AH_F25_Rep3</td>\n",
       "      <td>Atonsa</td>\n",
       "      <td>LIS</td>\n",
       "      <td>Acidic</td>\n",
       "      <td>25</td>\n",
       "      <td>3</td>\n",
       "      <td>AH-3</td>\n",
       "    </tr>\n",
       "    <tr>\n",
       "      <th>15</th>\n",
       "      <td>AH_F25_Rep4</td>\n",
       "      <td>Atonsa</td>\n",
       "      <td>LIS</td>\n",
       "      <td>Acidic</td>\n",
       "      <td>25</td>\n",
       "      <td>4</td>\n",
       "      <td>AH-4</td>\n",
       "    </tr>\n",
       "    <tr>\n",
       "      <th>16</th>\n",
       "      <td>HH_F00_Rep1</td>\n",
       "      <td>Atonsa</td>\n",
       "      <td>LIS</td>\n",
       "      <td>Hot</td>\n",
       "      <td>0</td>\n",
       "      <td>1</td>\n",
       "      <td>HA-1</td>\n",
       "    </tr>\n",
       "    <tr>\n",
       "      <th>17</th>\n",
       "      <td>HH_F00_Rep2</td>\n",
       "      <td>Atonsa</td>\n",
       "      <td>LIS</td>\n",
       "      <td>Hot</td>\n",
       "      <td>0</td>\n",
       "      <td>2</td>\n",
       "      <td>HA-2</td>\n",
       "    </tr>\n",
       "    <tr>\n",
       "      <th>18</th>\n",
       "      <td>HH_F00_Rep3</td>\n",
       "      <td>Atonsa</td>\n",
       "      <td>LIS</td>\n",
       "      <td>Hot</td>\n",
       "      <td>0</td>\n",
       "      <td>3</td>\n",
       "      <td>HA-3</td>\n",
       "    </tr>\n",
       "    <tr>\n",
       "      <th>19</th>\n",
       "      <td>HH_F00_Rep4</td>\n",
       "      <td>Atonsa</td>\n",
       "      <td>LIS</td>\n",
       "      <td>Hot</td>\n",
       "      <td>0</td>\n",
       "      <td>4</td>\n",
       "      <td>HA-4</td>\n",
       "    </tr>\n",
       "    <tr>\n",
       "      <th>20</th>\n",
       "      <td>HA_F25_Rep1</td>\n",
       "      <td>Atonsa</td>\n",
       "      <td>LIS</td>\n",
       "      <td>Hot</td>\n",
       "      <td>25</td>\n",
       "      <td>1</td>\n",
       "      <td>HA-1</td>\n",
       "    </tr>\n",
       "    <tr>\n",
       "      <th>21</th>\n",
       "      <td>HA_F25_Rep2</td>\n",
       "      <td>Atonsa</td>\n",
       "      <td>LIS</td>\n",
       "      <td>Hot</td>\n",
       "      <td>25</td>\n",
       "      <td>2</td>\n",
       "      <td>HA-2</td>\n",
       "    </tr>\n",
       "    <tr>\n",
       "      <th>22</th>\n",
       "      <td>HA_F25_Rep3</td>\n",
       "      <td>Atonsa</td>\n",
       "      <td>LIS</td>\n",
       "      <td>Hot</td>\n",
       "      <td>25</td>\n",
       "      <td>3</td>\n",
       "      <td>HA-3</td>\n",
       "    </tr>\n",
       "    <tr>\n",
       "      <th>23</th>\n",
       "      <td>HA_F25_Rep4</td>\n",
       "      <td>Atonsa</td>\n",
       "      <td>LIS</td>\n",
       "      <td>Hot</td>\n",
       "      <td>25</td>\n",
       "      <td>4</td>\n",
       "      <td>HA-4</td>\n",
       "    </tr>\n",
       "    <tr>\n",
       "      <th>24</th>\n",
       "      <td>HH_F00_Rep1</td>\n",
       "      <td>Atonsa</td>\n",
       "      <td>LIS</td>\n",
       "      <td>GH</td>\n",
       "      <td>0</td>\n",
       "      <td>1</td>\n",
       "      <td>HH-1</td>\n",
       "    </tr>\n",
       "    <tr>\n",
       "      <th>25</th>\n",
       "      <td>HH_F00_Rep2</td>\n",
       "      <td>Atonsa</td>\n",
       "      <td>LIS</td>\n",
       "      <td>GH</td>\n",
       "      <td>0</td>\n",
       "      <td>2</td>\n",
       "      <td>HH-2</td>\n",
       "    </tr>\n",
       "    <tr>\n",
       "      <th>26</th>\n",
       "      <td>HH_F00_Rep3</td>\n",
       "      <td>Atonsa</td>\n",
       "      <td>LIS</td>\n",
       "      <td>GH</td>\n",
       "      <td>0</td>\n",
       "      <td>3</td>\n",
       "      <td>HH-3</td>\n",
       "    </tr>\n",
       "    <tr>\n",
       "      <th>27</th>\n",
       "      <td>HH_F00_Rep4</td>\n",
       "      <td>Atonsa</td>\n",
       "      <td>LIS</td>\n",
       "      <td>GH</td>\n",
       "      <td>0</td>\n",
       "      <td>4</td>\n",
       "      <td>HH-4</td>\n",
       "    </tr>\n",
       "    <tr>\n",
       "      <th>28</th>\n",
       "      <td>HH_F25_Rep1</td>\n",
       "      <td>Atonsa</td>\n",
       "      <td>LIS</td>\n",
       "      <td>GH</td>\n",
       "      <td>25</td>\n",
       "      <td>1</td>\n",
       "      <td>HH-1</td>\n",
       "    </tr>\n",
       "    <tr>\n",
       "      <th>29</th>\n",
       "      <td>HH_F25_Rep2</td>\n",
       "      <td>Atonsa</td>\n",
       "      <td>LIS</td>\n",
       "      <td>GH</td>\n",
       "      <td>25</td>\n",
       "      <td>2</td>\n",
       "      <td>HH-2</td>\n",
       "    </tr>\n",
       "    <tr>\n",
       "      <th>30</th>\n",
       "      <td>HH_F25_Rep3</td>\n",
       "      <td>Atonsa</td>\n",
       "      <td>LIS</td>\n",
       "      <td>GH</td>\n",
       "      <td>25</td>\n",
       "      <td>3</td>\n",
       "      <td>HH-3</td>\n",
       "    </tr>\n",
       "    <tr>\n",
       "      <th>31</th>\n",
       "      <td>HH_F25_Rep4</td>\n",
       "      <td>Atonsa</td>\n",
       "      <td>LIS</td>\n",
       "      <td>GH</td>\n",
       "      <td>25</td>\n",
       "      <td>4</td>\n",
       "      <td>HH-4</td>\n",
       "    </tr>\n",
       "  </tbody>\n",
       "</table>\n",
       "</div>"
      ],
      "text/plain": [
       "           name species  pop selection  gen  rep    id\n",
       "0   AA_F00_Rep1  Atonsa  LIS   Ambient    0    1  AA-1\n",
       "1   AA_F00_Rep2  Atonsa  LIS   Ambient    0    2  AA-2\n",
       "2   AA_F00_Rep3  Atonsa  LIS   Ambient    0    3  AA-3\n",
       "3   AA_F00_Rep4  Atonsa  LIS   Ambient    0    4  AA-4\n",
       "4   AA_F25_Rep1  Atonsa  LIS   Ambient   25    1  AA-1\n",
       "5   AA_F25_Rep2  Atonsa  LIS   Ambient   25    2  AA-2\n",
       "6   AA_F25_Rep3  Atonsa  LIS   Ambient   25    3  AA-3\n",
       "7   AA_F25_Rep4  Atonsa  LIS   Ambient   25    4  AA-4\n",
       "8   AA_F00_Rep1  Atonsa  LIS    Acidic    0    1  AH-1\n",
       "9   AA_F00_Rep2  Atonsa  LIS    Acidic    0    2  AH-2\n",
       "10  AA_F00_Rep3  Atonsa  LIS    Acidic    0    3  AH-3\n",
       "11  AA_F00_Rep4  Atonsa  LIS    Acidic    0    4  AH-4\n",
       "12  AH_F25_Rep1  Atonsa  LIS    Acidic   25    1  AH-1\n",
       "13  AH_F25_Rep2  Atonsa  LIS    Acidic   25    2  AH-2\n",
       "14  AH_F25_Rep3  Atonsa  LIS    Acidic   25    3  AH-3\n",
       "15  AH_F25_Rep4  Atonsa  LIS    Acidic   25    4  AH-4\n",
       "16  HH_F00_Rep1  Atonsa  LIS       Hot    0    1  HA-1\n",
       "17  HH_F00_Rep2  Atonsa  LIS       Hot    0    2  HA-2\n",
       "18  HH_F00_Rep3  Atonsa  LIS       Hot    0    3  HA-3\n",
       "19  HH_F00_Rep4  Atonsa  LIS       Hot    0    4  HA-4\n",
       "20  HA_F25_Rep1  Atonsa  LIS       Hot   25    1  HA-1\n",
       "21  HA_F25_Rep2  Atonsa  LIS       Hot   25    2  HA-2\n",
       "22  HA_F25_Rep3  Atonsa  LIS       Hot   25    3  HA-3\n",
       "23  HA_F25_Rep4  Atonsa  LIS       Hot   25    4  HA-4\n",
       "24  HH_F00_Rep1  Atonsa  LIS        GH    0    1  HH-1\n",
       "25  HH_F00_Rep2  Atonsa  LIS        GH    0    2  HH-2\n",
       "26  HH_F00_Rep3  Atonsa  LIS        GH    0    3  HH-3\n",
       "27  HH_F00_Rep4  Atonsa  LIS        GH    0    4  HH-4\n",
       "28  HH_F25_Rep1  Atonsa  LIS        GH   25    1  HH-1\n",
       "29  HH_F25_Rep2  Atonsa  LIS        GH   25    2  HH-2\n",
       "30  HH_F25_Rep3  Atonsa  LIS        GH   25    3  HH-3\n",
       "31  HH_F25_Rep4  Atonsa  LIS        GH   25    4  HH-4"
      ]
     },
     "execution_count": 10,
     "metadata": {},
     "output_type": "execute_result"
    }
   ],
   "source": [
    "design"
   ]
  },
  {
   "cell_type": "markdown",
   "metadata": {},
   "source": [
    "Our TemporalFreqs() and TiledTemporalFreqs() objects take a list of tuples (replicate, timepoint), which we create via the design DataFrame:"
   ]
  },
  {
   "cell_type": "code",
   "execution_count": 11,
   "metadata": {},
   "outputs": [
    {
     "data": {
      "text/plain": [
       "[['AA-1', 0],\n",
       " ['AA-2', 0],\n",
       " ['AA-3', 0],\n",
       " ['AA-4', 0],\n",
       " ['AA-1', 25],\n",
       " ['AA-2', 25],\n",
       " ['AA-3', 25],\n",
       " ['AA-4', 25],\n",
       " ['AH-1', 0],\n",
       " ['AH-2', 0],\n",
       " ['AH-3', 0],\n",
       " ['AH-4', 0],\n",
       " ['AH-1', 25],\n",
       " ['AH-2', 25],\n",
       " ['AH-3', 25],\n",
       " ['AH-4', 25],\n",
       " ['HA-1', 0],\n",
       " ['HA-2', 0],\n",
       " ['HA-3', 0],\n",
       " ['HA-4', 0],\n",
       " ['HA-1', 25],\n",
       " ['HA-2', 25],\n",
       " ['HA-3', 25],\n",
       " ['HA-4', 25],\n",
       " ['HH-1', 0],\n",
       " ['HH-2', 0],\n",
       " ['HH-3', 0],\n",
       " ['HH-4', 0],\n",
       " ['HH-1', 25],\n",
       " ['HH-2', 25],\n",
       " ['HH-3', 25],\n",
       " ['HH-4', 25]]"
      ]
     },
     "execution_count": 11,
     "metadata": {},
     "output_type": "execute_result"
    }
   ],
   "source": [
    "samples = design[['id', 'gen']].copy().values.tolist()\n",
    "\n",
    "#np.shape(samples)\n",
    "#samples = [(t, r) for t, r in (design['id'].values, design['gen'].values)]\n",
    "#samples = design['id','gen'].tolist()\n",
    "#print(design['id'].values)\n",
    "#print(design['gen'].values)\n",
    "samples"
   ]
  },
  {
   "cell_type": "markdown",
   "metadata": {},
   "source": [
    "## Import Annotation\n",
    "These sequence lengths are used for the creation of the tiles."
   ]
  },
  {
   "cell_type": "code",
   "execution_count": 12,
   "metadata": {},
   "outputs": [],
   "source": [
    "gff_file = '/users/r/b/rbrennan/tonsa_annotation/gawn/05_results/GCA_900241095.1_Aton1.0_genomic.fa.gff3'\n",
    "# remove keep seqids, I want to keep all\n",
    "#keep_seqids = set('2L 2R 3L 3R 4 X'.split())\n",
    "#dsim = GenomicIntervals.from_gff(gtf_file, filter_type='exon', filter_seqids=keep_seqids, delims=(' ', '; '))\n",
    "#atonsa = GenomicIntervals.from_gff(gff_file, filter_type='exon')\n",
    "atonsa = GenomicIntervals.from_gff(gff_file)"
   ]
  },
  {
   "cell_type": "code",
   "execution_count": 13,
   "metadata": {},
   "outputs": [],
   "source": [
    "atonsa.infer_seqlens()"
   ]
  },
  {
   "cell_type": "code",
   "execution_count": 14,
   "metadata": {},
   "outputs": [
    {
     "data": {
      "text/plain": [
       "[<matplotlib.lines.Line2D at 0x7ffaf1fd3df0>]"
      ]
     },
     "execution_count": 14,
     "metadata": {},
     "output_type": "execute_result"
    },
    {
     "data": {
      "image/png": "[encoded data removed]",
      "text/plain": [
       "<Figure size 1600x800 with 1 Axes>"
      ]
     },
     "metadata": {
      "needs_background": "light"
     },
     "output_type": "display_data"
    }
   ],
   "source": [
    "fixed = ((sf.freqs == 0.) | (sf.freqs == 1.))\n",
    "# what percent of sites are fixed/lost in each replicate? similar prop?\n",
    "plt.plot(fixed.mean(axis=0))"
   ]
  },
  {
   "cell_type": "code",
   "execution_count": 15,
   "metadata": {},
   "outputs": [],
   "source": [
    "tile_width = 1e4\n",
    "tile_width_label = '1e4'\n",
    "tiles = GenomicIntervals.from_tiles(atonsa.seqlens, width=tile_width, drop_last_tile=False)\n",
    "#tiles.intervals"
   ]
  },
  {
   "cell_type": "code",
   "execution_count": 16,
   "metadata": {},
   "outputs": [],
   "source": [
    "d = TiledTemporalFreqs(tiles, freqs=sf.freqs.T, depths=sf.N.T, diploids=3000, gintervals=sf_gi, samples=samples,\n",
    "                       share_first=True)"
   ]
  },
  {
   "cell_type": "code",
   "execution_count": 17,
   "metadata": {},
   "outputs": [
    {
     "data": {
      "text/plain": [
       "912"
      ]
     },
     "execution_count": 17,
     "metadata": {},
     "output_type": "execute_result"
    }
   ],
   "source": [
    "np.amax(d.depths.flatten())"
   ]
  },
  {
   "cell_type": "code",
   "execution_count": 18,
   "metadata": {},
   "outputs": [
    {
     "data": {
      "text/plain": [
       "40"
      ]
     },
     "execution_count": 18,
     "metadata": {},
     "output_type": "execute_result"
    }
   ],
   "source": [
    "np.amin(d.depths.flatten())"
   ]
  },
  {
   "cell_type": "code",
   "execution_count": 19,
   "metadata": {},
   "outputs": [
    {
     "name": "stdout",
     "output_type": "stream",
     "text": [
      "[912 912 912 ...  40  40  40]\n"
     ]
    }
   ],
   "source": [
    "print(-np.sort(-d.depths.flatten()))"
   ]
  },
  {
   "cell_type": "code",
   "execution_count": 20,
   "metadata": {},
   "outputs": [
    {
     "data": {
      "image/png": "[encoded data removed]",
      "text/plain": [
       "<Figure size 1600x800 with 1 Axes>"
      ]
     },
     "metadata": {
      "needs_background": "light"
     },
     "output_type": "display_data"
    }
   ],
   "source": [
    "plt.hist(d.depths.flatten(), 50)\n",
    "plt.show()"
   ]
  },
  {
   "cell_type": "code",
   "execution_count": 21,
   "metadata": {},
   "outputs": [
    {
     "data": {
      "text/plain": [
       "(16, 2, 394667)"
      ]
     },
     "execution_count": 21,
     "metadata": {},
     "output_type": "execute_result"
    }
   ],
   "source": [
    "d.freqs.shape"
   ]
  },
  {
   "cell_type": "markdown",
   "metadata": {},
   "source": [
    "How many windows and what's the mean and median number of loci per window?"
   ]
  },
  {
   "cell_type": "code",
   "execution_count": 22,
   "metadata": {},
   "outputs": [
    {
     "name": "stdout",
     "output_type": "stream",
     "text": [
      "9416\n",
      "42972\n",
      "mean number of loci: 7.893256073722424\n",
      "median number of loci: 0.0\n"
     ]
    }
   ],
   "source": [
    "nloci = np.array([len(x) for x in d.tile_indices])\n",
    "\n",
    "d_noempty = [ele for ele in d.tile_indices if ele != []]\n",
    "print(len(d_noempty))\n",
    "print(len(d.tile_indices))\n",
    "\n",
    "print(f\"mean number of loci: {nloci.mean()}\")\n",
    "print(f\"median number of loci: {np.median(nloci)}\")"
   ]
  },
  {
   "cell_type": "markdown",
   "metadata": {},
   "source": [
    "## Genome-wide Covariances"
   ]
  },
  {
   "cell_type": "code",
   "execution_count": 23,
   "metadata": {},
   "outputs": [],
   "source": [
    "gw_covs = d.calc_cov(use_masked=True, standardize=True)"
   ]
  },
  {
   "cell_type": "code",
   "execution_count": 24,
   "metadata": {},
   "outputs": [
    {
     "data": {
      "text/plain": [
       "(16, 16)"
      ]
     },
     "execution_count": 24,
     "metadata": {},
     "output_type": "execute_result"
    }
   ],
   "source": [
    "gw_covs.shape"
   ]
  },
  {
   "cell_type": "code",
   "execution_count": 25,
   "metadata": {},
   "outputs": [
    {
     "data": {
      "text/plain": [
       "array([[0.03950117]])"
      ]
     },
     "execution_count": 25,
     "metadata": {},
     "output_type": "execute_result"
    }
   ],
   "source": [
    "stack_temporal_covariances(gw_covs, d.R, d.T).mean(axis=2)"
   ]
  },
  {
   "cell_type": "code",
   "execution_count": 26,
   "metadata": {},
   "outputs": [
    {
     "data": {
      "image/png": "[encoded data removed]",
      "text/plain": [
       "<Figure size 1600x800 with 2 Axes>"
      ]
     },
     "metadata": {
      "needs_background": "light"
     },
     "output_type": "display_data"
    }
   ],
   "source": [
    "np.fill_diagonal(gw_covs, np.nan)\n",
    "fig, ax = plt.subplots()\n",
    "ax.imshow(gw_covs)\n",
    "img1 = ax.imshow(gw_covs)\n",
    "fig.colorbar(img1, ax=ax)\n",
    "sample_names = ['AA-1', 'AA-2', 'AA-3', 'AA-4', 'AH-1', 'AH-2', 'AH-3', 'AH-4', 'HA-1', 'HA-2', 'HA-3', 'HA-4', 'HH-1', 'HH-2', 'HH-3', 'HH-4' ]\n",
    "ax.set_xticklabels(sample_names)\n",
    "ax.set_yticklabels(sample_names)\n",
    "#print( design['name'])\n",
    "ax.set_xticks(np.arange(len(sample_names)))\n",
    "ax.set_yticks(np.arange(len(sample_names)))\n",
    "plt.show()"
   ]
  },
  {
   "cell_type": "markdown",
   "metadata": {},
   "source": [
    "## Filter windows"
   ]
  },
  {
   "cell_type": "code",
   "execution_count": 27,
   "metadata": {},
   "outputs": [
    {
     "name": "stdout",
     "output_type": "stream",
     "text": [
      "Number of scaffolds with at least 1 snp: 8416\n",
      "Number of scaffolds with at least 1 snp and 1kb in length: 8106\n",
      "Number of total tiles: 42972\n"
     ]
    }
   ],
   "source": [
    "#d.tile_df['uniqid'] = d.tile_df['seqid'] + \"_\" + d.tile_df['midpoint'].astype(str)\n",
    "\n",
    "# get chrs at least 1kb, so they can have at least 1 window\n",
    "x2={s:v for s,v in d.tiles.seqlens.items() if v > 999}\n",
    "\n",
    "# can filter by the number of snps \n",
    "## each entry in tile_indices are the snps. \n",
    "## so we can drop any scaffold that has windows with zero snps (or whatever number)\n",
    "min_sites = 0\n",
    "keep_seqids = list(set([str(chr) for chr, indices in zip(d.tile_df['seqid'], d.tile_indices) if len(indices) > min_sites]))\n",
    "#sel_chrs = ['24', '1', '9', '15']\n",
    "#sel_chrs = ['24']\n",
    "sel_chrs = []\n",
    "keep_seqids_nolength = [chr for chr in keep_seqids if chr not in sel_chrs]\n",
    "print(\"Number of scaffolds with at least 1 snp:\",len(keep_seqids))\n",
    "\n",
    "keep_seqids = set(keep_seqids_nolength).intersection(set(x2.keys()))\n",
    "\n",
    "print(\"Number of scaffolds with at least 1 snp and 1kb in length:\",len(keep_seqids))\n",
    "\n",
    "print(\"Number of total tiles:\",len(d.tile_indices))"
   ]
  },
  {
   "cell_type": "code",
   "execution_count": 28,
   "metadata": {},
   "outputs": [
    {
     "name": "stdout",
     "output_type": "stream",
     "text": [
      "Number of scaffolds:  9771\n",
      "Number of scaffolds excluded: 1665\n"
     ]
    }
   ],
   "source": [
    "exclude_seqids = list(set(d.gintervals.keys()) - set(keep_seqids))\n",
    "#len(exclude_seqids)\n",
    "\n",
    "print(\"Number of scaffolds: \", len(set(d.gintervals.keys())))\n",
    "print(\"Number of scaffolds excluded:\", len(exclude_seqids))"
   ]
  },
  {
   "cell_type": "markdown",
   "metadata": {},
   "source": [
    "## Bootstrap whole covaraince matrix."
   ]
  },
  {
   "cell_type": "code",
   "execution_count": 29,
   "metadata": {},
   "outputs": [],
   "source": [
    "# keep_seqids was a set. need to convert\n",
    "keep_seqids=list(keep_seqids)"
   ]
  },
  {
   "cell_type": "code",
   "execution_count": 30,
   "metadata": {},
   "outputs": [
    {
     "name": "stderr",
     "output_type": "stream",
     "text": [
      "/users/r/b/rbrennan/anaconda3/lib/python3.8/site-packages/cvtkpy-0.0.1-py3.8.egg/cvtk/cov.py:316: RuntimeWarning: Mean of empty slice\n",
      "/users/r/b/rbrennan/anaconda3/lib/python3.8/site-packages/cvtkpy-0.0.1-py3.8.egg/cvtk/cov.py:375: RuntimeWarning: Mean of empty slice\n"
     ]
    },
    {
     "data": {
      "application/vnd.jupyter.widget-view+json": {
       "model_id": "c2b51a94a6ac45a486bceede410e4bf8",
       "version_major": 2,
       "version_minor": 0
      },
      "text/plain": [
       "HBox(children=(FloatProgress(value=0.0, description='bootstraps', max=1000.0, style=ProgressStyle(description_…"
      ]
     },
     "metadata": {},
     "output_type": "display_data"
    },
    {
     "name": "stdout",
     "output_type": "stream",
     "text": [
      "\n"
     ]
    }
   ],
   "source": [
    "# need to use CI method \"standard\" to deal with bias in the bootstrap\n",
    "gw_covs_cis = d.bootstrap_cov(B=1000, progress_bar=True, keep_seqids=keep_seqids,\n",
    "                              average_replicates=False, use_masked=True, ci_method=\"standard\")"
   ]
  },
  {
   "cell_type": "code",
   "execution_count": 31,
   "metadata": {},
   "outputs": [],
   "source": [
    "# save values:\n",
    "sample_names = ['AA-1', 'AA-2', 'AA-3', 'AA-4', 'AH-1', 'AH-2', 'AH-3', 'AH-4', 'HA-1', 'HA-2', 'HA-3', 'HA-4', 'HH-1', 'HH-2', 'HH-3', 'HH-4' ]\n",
    "\n",
    "rows, cols = np.triu_indices(gw_covs_cis.shape[1], k=1)\n",
    "lower, mean, upper = [gw_covs_cis[i, rows, cols].ravel() for i in np.arange(3)]\n",
    "all_labels = [sample_names[i] + \" \" + sample_names[j] for i, j in zip(rows, cols)]\n",
    "lower, upper = mean-lower, upper-mean\n",
    "\n",
    "output = pd.DataFrame(\n",
    "    {'labels': all_labels,\n",
    "     'lower': lower,\n",
    "     'upper': upper,\n",
    "     'mean': mean\n",
    "    })\n",
    "\n",
    "output.to_csv('/users/r/b/rbrennan/tonsa_genomics/analysis/covariance_pairwise.csv', index=False)"
   ]
  },
  {
   "cell_type": "code",
   "execution_count": 32,
   "metadata": {},
   "outputs": [
    {
     "data": {
      "text/plain": [
       "array([0.0162338 , 0.01913293, 0.02203207])"
      ]
     },
     "execution_count": 32,
     "metadata": {},
     "output_type": "execute_result"
    }
   ],
   "source": [
    "gw_covs_cis[:,0,1]"
   ]
  },
  {
   "cell_type": "code",
   "execution_count": 33,
   "metadata": {},
   "outputs": [
    {
     "data": {
      "application/vnd.jupyter.widget-view+json": {
       "model_id": "747cc7ea5efd4d309ffa68cc3091c2cd",
       "version_major": 2,
       "version_minor": 0
      },
      "text/plain": [
       "HBox(children=(FloatProgress(value=0.0, description='bootstraps', max=1000.0, style=ProgressStyle(description_…"
      ]
     },
     "metadata": {},
     "output_type": "display_data"
    },
    {
     "name": "stdout",
     "output_type": "stream",
     "text": [
      "\n"
     ]
    },
    {
     "ename": "KeyboardInterrupt",
     "evalue": "",
     "output_type": "error",
     "traceback": [
      "\u001b[0;31m---------------------------------------------------------------------------\u001b[0m",
      "\u001b[0;31mKeyboardInterrupt\u001b[0m                         Traceback (most recent call last)",
      "\u001b[0;32m<ipython-input-33-1dc21b3f33c7>\u001b[0m in \u001b[0;36m<module>\u001b[0;34m\u001b[0m\n\u001b[1;32m      1\u001b[0m \u001b[0;31m# get the bootstrap vals\u001b[0m\u001b[0;34m\u001b[0m\u001b[0;34m\u001b[0m\u001b[0;34m\u001b[0m\u001b[0m\n\u001b[0;32m----> 2\u001b[0;31m gw_covs_straps = d.bootstrap_cov(B=1000, progress_bar=True, keep_seqids=keep_seqids,\n\u001b[0m\u001b[1;32m      3\u001b[0m                               \u001b[0maverage_replicates\u001b[0m\u001b[0;34m=\u001b[0m\u001b[0;32mFalse\u001b[0m\u001b[0;34m,\u001b[0m \u001b[0muse_masked\u001b[0m\u001b[0;34m=\u001b[0m\u001b[0;32mTrue\u001b[0m\u001b[0;34m,\u001b[0m\u001b[0;34m\u001b[0m\u001b[0;34m\u001b[0m\u001b[0m\n\u001b[1;32m      4\u001b[0m                              return_straps=True)\n",
      "\u001b[0;32m~/anaconda3/lib/python3.8/site-packages/cvtkpy-0.0.1-py3.8.egg/cvtk/cvtk.py\u001b[0m in \u001b[0;36mbootstrap_cov\u001b[0;34m(self, B, alpha, keep_seqids, progress_bar, average_replicates, return_straps, ci_method, use_bs_estimate, **kwargs)\u001b[0m\n\u001b[1;32m    336\u001b[0m         \u001b[0;32mif\u001b[0m \u001b[0muse_bs_estimate\u001b[0m\u001b[0;34m:\u001b[0m\u001b[0;34m\u001b[0m\u001b[0;34m\u001b[0m\u001b[0m\n\u001b[1;32m    337\u001b[0m             \u001b[0mcov\u001b[0m \u001b[0;34m=\u001b[0m \u001b[0;32mNone\u001b[0m\u001b[0;34m\u001b[0m\u001b[0;34m\u001b[0m\u001b[0m\n\u001b[0;32m--> 338\u001b[0;31m         return block_bootstrap_ratio_averages(covs, het_denoms,\n\u001b[0m\u001b[1;32m    339\u001b[0m                                               \u001b[0mblock_indices\u001b[0m\u001b[0;34m=\u001b[0m\u001b[0mself\u001b[0m\u001b[0;34m.\u001b[0m\u001b[0mtile_indices\u001b[0m\u001b[0;34m,\u001b[0m\u001b[0;34m\u001b[0m\u001b[0;34m\u001b[0m\u001b[0m\n\u001b[1;32m    340\u001b[0m                                               \u001b[0mestimator\u001b[0m\u001b[0;34m=\u001b[0m\u001b[0mcov_estimator\u001b[0m\u001b[0;34m,\u001b[0m\u001b[0;34m\u001b[0m\u001b[0;34m\u001b[0m\u001b[0m\n",
      "\u001b[0;32m~/anaconda3/lib/python3.8/site-packages/cvtkpy-0.0.1-py3.8.egg/cvtk/bootstrap.py\u001b[0m in \u001b[0;36mblock_bootstrap_ratio_averages\u001b[0;34m(blocks_numerator, blocks_denominator, block_indices, B, estimator, statistic, alpha, return_straps, ci_method, progress_bar, **kwargs)\u001b[0m\n\u001b[1;32m     83\u001b[0m     \u001b[0;32mfor\u001b[0m \u001b[0mb\u001b[0m \u001b[0;32min\u001b[0m \u001b[0mB_range\u001b[0m\u001b[0;34m:\u001b[0m\u001b[0;34m\u001b[0m\u001b[0;34m\u001b[0m\u001b[0m\n\u001b[1;32m     84\u001b[0m         \u001b[0mbidx\u001b[0m \u001b[0;34m=\u001b[0m \u001b[0mnp\u001b[0m\u001b[0;34m.\u001b[0m\u001b[0mrandom\u001b[0m\u001b[0;34m.\u001b[0m\u001b[0mchoice\u001b[0m\u001b[0;34m(\u001b[0m\u001b[0mblocks\u001b[0m\u001b[0;34m,\u001b[0m \u001b[0msize\u001b[0m\u001b[0;34m=\u001b[0m\u001b[0mnblocks\u001b[0m\u001b[0;34m,\u001b[0m \u001b[0mreplace\u001b[0m\u001b[0;34m=\u001b[0m\u001b[0;32mTrue\u001b[0m\u001b[0;34m)\u001b[0m\u001b[0;34m\u001b[0m\u001b[0;34m\u001b[0m\u001b[0m\n\u001b[0;32m---> 85\u001b[0;31m         \u001b[0mexp_numerator\u001b[0m \u001b[0;34m=\u001b[0m \u001b[0mweighted_mean\u001b[0m\u001b[0;34m(\u001b[0m\u001b[0mblocks_numerator\u001b[0m\u001b[0;34m[\u001b[0m\u001b[0mbidx\u001b[0m\u001b[0;34m,\u001b[0m \u001b[0;34m...\u001b[0m\u001b[0;34m]\u001b[0m\u001b[0;34m,\u001b[0m \u001b[0mweights\u001b[0m\u001b[0;34m=\u001b[0m\u001b[0mweights\u001b[0m\u001b[0;34m[\u001b[0m\u001b[0mbidx\u001b[0m\u001b[0;34m]\u001b[0m\u001b[0;34m)\u001b[0m\u001b[0;34m\u001b[0m\u001b[0;34m\u001b[0m\u001b[0m\n\u001b[0m\u001b[1;32m     86\u001b[0m         \u001b[0mexp_denominator\u001b[0m \u001b[0;34m=\u001b[0m \u001b[0mweighted_mean\u001b[0m\u001b[0;34m(\u001b[0m\u001b[0mblocks_denominator\u001b[0m\u001b[0;34m[\u001b[0m\u001b[0mbidx\u001b[0m\u001b[0;34m,\u001b[0m \u001b[0;34m...\u001b[0m\u001b[0;34m]\u001b[0m\u001b[0;34m,\u001b[0m \u001b[0mweights\u001b[0m\u001b[0;34m=\u001b[0m\u001b[0mweights\u001b[0m\u001b[0;34m[\u001b[0m\u001b[0mbidx\u001b[0m\u001b[0;34m]\u001b[0m\u001b[0;34m)\u001b[0m\u001b[0;34m\u001b[0m\u001b[0;34m\u001b[0m\u001b[0m\n\u001b[1;32m     87\u001b[0m         \u001b[0mstat\u001b[0m \u001b[0;34m=\u001b[0m \u001b[0mestimator\u001b[0m\u001b[0;34m(\u001b[0m\u001b[0mexp_numerator\u001b[0m\u001b[0;34m,\u001b[0m \u001b[0mexp_denominator\u001b[0m\u001b[0;34m,\u001b[0m \u001b[0;34m**\u001b[0m\u001b[0mkwargs\u001b[0m\u001b[0;34m)\u001b[0m\u001b[0;34m\u001b[0m\u001b[0;34m\u001b[0m\u001b[0m\n",
      "\u001b[0;32m~/anaconda3/lib/python3.8/site-packages/cvtkpy-0.0.1-py3.8.egg/cvtk/bootstrap.py\u001b[0m in \u001b[0;36mweighted_mean\u001b[0;34m(array, weights, axis)\u001b[0m\n\u001b[1;32m     43\u001b[0m     \u001b[0;31m# in numpy that takes weights\u001b[0m\u001b[0;34m\u001b[0m\u001b[0;34m\u001b[0m\u001b[0;34m\u001b[0m\u001b[0m\n\u001b[1;32m     44\u001b[0m     \u001b[0marray_masked\u001b[0m \u001b[0;34m=\u001b[0m \u001b[0mnp\u001b[0m\u001b[0;34m.\u001b[0m\u001b[0mma\u001b[0m\u001b[0;34m.\u001b[0m\u001b[0mmasked_invalid\u001b[0m\u001b[0;34m(\u001b[0m\u001b[0marray\u001b[0m\u001b[0;34m)\u001b[0m\u001b[0;34m\u001b[0m\u001b[0;34m\u001b[0m\u001b[0m\n\u001b[0;32m---> 45\u001b[0;31m     \u001b[0;32mreturn\u001b[0m \u001b[0mnp\u001b[0m\u001b[0;34m.\u001b[0m\u001b[0mma\u001b[0m\u001b[0;34m.\u001b[0m\u001b[0maverage\u001b[0m\u001b[0;34m(\u001b[0m\u001b[0marray_masked\u001b[0m\u001b[0;34m,\u001b[0m \u001b[0maxis\u001b[0m\u001b[0;34m=\u001b[0m\u001b[0maxis\u001b[0m\u001b[0;34m,\u001b[0m \u001b[0mweights\u001b[0m\u001b[0;34m=\u001b[0m\u001b[0mweights\u001b[0m\u001b[0;34m)\u001b[0m\u001b[0;34m.\u001b[0m\u001b[0mdata\u001b[0m\u001b[0;34m\u001b[0m\u001b[0;34m\u001b[0m\u001b[0m\n\u001b[0m\u001b[1;32m     46\u001b[0m \u001b[0;34m\u001b[0m\u001b[0m\n\u001b[1;32m     47\u001b[0m \u001b[0;34m\u001b[0m\u001b[0m\n",
      "\u001b[0;32m~/anaconda3/lib/python3.8/site-packages/numpy/ma/extras.py\u001b[0m in \u001b[0;36maverage\u001b[0;34m(a, axis, weights, returned)\u001b[0m\n\u001b[1;32m    629\u001b[0m \u001b[0;34m\u001b[0m\u001b[0m\n\u001b[1;32m    630\u001b[0m         \u001b[0mscl\u001b[0m \u001b[0;34m=\u001b[0m \u001b[0mwgt\u001b[0m\u001b[0;34m.\u001b[0m\u001b[0msum\u001b[0m\u001b[0;34m(\u001b[0m\u001b[0maxis\u001b[0m\u001b[0;34m=\u001b[0m\u001b[0maxis\u001b[0m\u001b[0;34m,\u001b[0m \u001b[0mdtype\u001b[0m\u001b[0;34m=\u001b[0m\u001b[0mresult_dtype\u001b[0m\u001b[0;34m)\u001b[0m\u001b[0;34m\u001b[0m\u001b[0;34m\u001b[0m\u001b[0m\n\u001b[0;32m--> 631\u001b[0;31m         \u001b[0mavg\u001b[0m \u001b[0;34m=\u001b[0m \u001b[0mnp\u001b[0m\u001b[0;34m.\u001b[0m\u001b[0mmultiply\u001b[0m\u001b[0;34m(\u001b[0m\u001b[0ma\u001b[0m\u001b[0;34m,\u001b[0m \u001b[0mwgt\u001b[0m\u001b[0;34m,\u001b[0m \u001b[0mdtype\u001b[0m\u001b[0;34m=\u001b[0m\u001b[0mresult_dtype\u001b[0m\u001b[0;34m)\u001b[0m\u001b[0;34m.\u001b[0m\u001b[0msum\u001b[0m\u001b[0;34m(\u001b[0m\u001b[0maxis\u001b[0m\u001b[0;34m)\u001b[0m\u001b[0;34m/\u001b[0m\u001b[0mscl\u001b[0m\u001b[0;34m\u001b[0m\u001b[0;34m\u001b[0m\u001b[0m\n\u001b[0m\u001b[1;32m    632\u001b[0m \u001b[0;34m\u001b[0m\u001b[0m\n\u001b[1;32m    633\u001b[0m     \u001b[0;32mif\u001b[0m \u001b[0mreturned\u001b[0m\u001b[0;34m:\u001b[0m\u001b[0;34m\u001b[0m\u001b[0;34m\u001b[0m\u001b[0m\n",
      "\u001b[0;32m~/anaconda3/lib/python3.8/site-packages/numpy/ma/core.py\u001b[0m in \u001b[0;36msum\u001b[0;34m(self, axis, dtype, out, keepdims)\u001b[0m\n\u001b[1;32m   5053\u001b[0m         \u001b[0;31m# No explicit output\u001b[0m\u001b[0;34m\u001b[0m\u001b[0;34m\u001b[0m\u001b[0;34m\u001b[0m\u001b[0m\n\u001b[1;32m   5054\u001b[0m         \u001b[0;32mif\u001b[0m \u001b[0mout\u001b[0m \u001b[0;32mis\u001b[0m \u001b[0;32mNone\u001b[0m\u001b[0;34m:\u001b[0m\u001b[0;34m\u001b[0m\u001b[0;34m\u001b[0m\u001b[0m\n\u001b[0;32m-> 5055\u001b[0;31m             \u001b[0mresult\u001b[0m \u001b[0;34m=\u001b[0m \u001b[0mself\u001b[0m\u001b[0;34m.\u001b[0m\u001b[0mfilled\u001b[0m\u001b[0;34m(\u001b[0m\u001b[0;36m0\u001b[0m\u001b[0;34m)\u001b[0m\u001b[0;34m.\u001b[0m\u001b[0msum\u001b[0m\u001b[0;34m(\u001b[0m\u001b[0maxis\u001b[0m\u001b[0;34m,\u001b[0m \u001b[0mdtype\u001b[0m\u001b[0;34m=\u001b[0m\u001b[0mdtype\u001b[0m\u001b[0;34m,\u001b[0m \u001b[0;34m**\u001b[0m\u001b[0mkwargs\u001b[0m\u001b[0;34m)\u001b[0m\u001b[0;34m\u001b[0m\u001b[0;34m\u001b[0m\u001b[0m\n\u001b[0m\u001b[1;32m   5056\u001b[0m             \u001b[0mrndim\u001b[0m \u001b[0;34m=\u001b[0m \u001b[0mgetattr\u001b[0m\u001b[0;34m(\u001b[0m\u001b[0mresult\u001b[0m\u001b[0;34m,\u001b[0m \u001b[0;34m'ndim'\u001b[0m\u001b[0;34m,\u001b[0m \u001b[0;36m0\u001b[0m\u001b[0;34m)\u001b[0m\u001b[0;34m\u001b[0m\u001b[0;34m\u001b[0m\u001b[0m\n\u001b[1;32m   5057\u001b[0m             \u001b[0;32mif\u001b[0m \u001b[0mrndim\u001b[0m\u001b[0;34m:\u001b[0m\u001b[0;34m\u001b[0m\u001b[0;34m\u001b[0m\u001b[0m\n",
      "\u001b[0;32m~/anaconda3/lib/python3.8/site-packages/numpy/ma/core.py\u001b[0m in \u001b[0;36mfilled\u001b[0;34m(self, fill_value)\u001b[0m\n\u001b[1;32m   3748\u001b[0m             \u001b[0;32mreturn\u001b[0m \u001b[0mself\u001b[0m\u001b[0;34m.\u001b[0m\u001b[0m_data\u001b[0m\u001b[0;34m\u001b[0m\u001b[0;34m\u001b[0m\u001b[0m\n\u001b[1;32m   3749\u001b[0m         \u001b[0;32melse\u001b[0m\u001b[0;34m:\u001b[0m\u001b[0;34m\u001b[0m\u001b[0;34m\u001b[0m\u001b[0m\n\u001b[0;32m-> 3750\u001b[0;31m             \u001b[0mresult\u001b[0m \u001b[0;34m=\u001b[0m \u001b[0mself\u001b[0m\u001b[0;34m.\u001b[0m\u001b[0m_data\u001b[0m\u001b[0;34m.\u001b[0m\u001b[0mcopy\u001b[0m\u001b[0;34m(\u001b[0m\u001b[0;34m'K'\u001b[0m\u001b[0;34m)\u001b[0m\u001b[0;34m\u001b[0m\u001b[0;34m\u001b[0m\u001b[0m\n\u001b[0m\u001b[1;32m   3751\u001b[0m             \u001b[0;32mtry\u001b[0m\u001b[0;34m:\u001b[0m\u001b[0;34m\u001b[0m\u001b[0;34m\u001b[0m\u001b[0m\n\u001b[1;32m   3752\u001b[0m                 \u001b[0mnp\u001b[0m\u001b[0;34m.\u001b[0m\u001b[0mcopyto\u001b[0m\u001b[0;34m(\u001b[0m\u001b[0mresult\u001b[0m\u001b[0;34m,\u001b[0m \u001b[0mfill_value\u001b[0m\u001b[0;34m,\u001b[0m \u001b[0mwhere\u001b[0m\u001b[0;34m=\u001b[0m\u001b[0mm\u001b[0m\u001b[0;34m)\u001b[0m\u001b[0;34m\u001b[0m\u001b[0;34m\u001b[0m\u001b[0m\n",
      "\u001b[0;31mKeyboardInterrupt\u001b[0m: "
     ]
    }
   ],
   "source": [
    "# get the bootstrap vals\n",
    "gw_covs_straps = d.bootstrap_cov(B=1000, progress_bar=True, keep_seqids=keep_seqids,\n",
    "                              average_replicates=False, use_masked=True,\n",
    "                             return_straps=True)"
   ]
  },
  {
   "cell_type": "code",
   "execution_count": null,
   "metadata": {},
   "outputs": [],
   "source": [
    "#print(len(gw_covs_straps[0][2]))\n",
    "#print(np.ndim(gw_covs_straps[0][2]))\n",
    "#print((gw_covs_straps[0][2]))\n",
    "#plt.hist(gw_covs_straps[:,0,0])\n",
    "straps, weights = gw_covs_straps\n",
    "mn_all = np.mean(straps[:,0,1])\n",
    "print(\"mean: \", mn_all)\n",
    "conf_interval = np.percentile(straps[:,0,1],[2.5,97.5])\n",
    "print(\"conf interval: \", conf_interval)\n",
    "plt.hist(straps[:,0,1], bins=50, edgecolor='black')\n",
    "#gw_covs_straps\n",
    "#plt.hist(weights, bins=100)\n",
    "array_masked = np.ma.masked_invalid(straps[:,0,0])\n",
    "#print(np.ma.average(array_masked, axis=0, weights=weights).data)\n",
    "#print(array_masked)"
   ]
  },
  {
   "cell_type": "code",
   "execution_count": null,
   "metadata": {},
   "outputs": [],
   "source": [
    "\n",
    "def rep_cov_plot(cis, labels='', filename=''):\n",
    "    rows, cols = np.triu_indices(cis.shape[1], k=1)\n",
    "    lower, mean, upper = [cis[i, rows, cols].ravel() for i in np.arange(3)]\n",
    "    all_labels = [labels[i] + \" \" + labels[j] for i, j in zip(rows, cols)]\n",
    "    lower, upper = mean-lower, upper-mean\n",
    "    bounds = np.stack([lower, upper])\n",
    "    plt.figure(figsize=(8,4)) \n",
    "    plt.errorbar(all_labels, mean, yerr=bounds, capsize=0, fmt='o', linewidth=1.5, elinewidth=2)\n",
    "    plt.axhline(y=0, c='0.6', linewidth=0.5, zorder=-1, linestyle='--')\n",
    "    plt.xticks(rotation='vertical',fontsize=3)\n",
    "    markerline, stemline, baseline, = plt.stem(all_labels, mean,linefmt='k--', bottom = -0.01)\n",
    "    plt.setp(stemline, linewidth = 0.25)\n",
    "    plt.setp(baseline, 'linewidth', 0)\n",
    "    plt.ylim([-0.01, 0.065])\n",
    "    plt.savefig(filename, bbox_inches='tight')\n",
    "\n",
    "\n",
    "\n",
    "sample_names = ['AA-1', 'AA-2', 'AA-3', 'AA-4', 'AH-1', 'AH-2', 'AH-3', 'AH-4', 'HA-1', 'HA-2', 'HA-3', 'HA-4', 'HH-1', 'HH-2', 'HH-3', 'HH-4' ]\n",
    "\n",
    "rep_cov_plot(gw_covs_cis, sample_names,\"/users/r/b/rbrennan/tonsa_genomics/figures/covariance_pairwise.pdf\")\n"
   ]
  },
  {
   "cell_type": "markdown",
   "metadata": {},
   "source": [
    "## Bias correction"
   ]
  },
  {
   "cell_type": "code",
   "execution_count": 36,
   "metadata": {},
   "outputs": [
    {
     "name": "stderr",
     "output_type": "stream",
     "text": [
      "/users/r/b/rbrennan/anaconda3/lib/python3.8/site-packages/cvtkpy-0.0.1-py3.8.egg/cvtk/cvtk.py:260: RuntimeWarning: Mean of empty slice\n",
      "  n = np.nanmean(n)\n",
      "/users/r/b/rbrennan/anaconda3/lib/python3.8/site-packages/cvtkpy-0.0.1-py3.8.egg/cvtk/cvtk.py:274: RuntimeWarning: Mean of empty slice\n",
      "  het = np.nanmean(het)\n",
      "/users/r/b/rbrennan/anaconda3/lib/python3.8/site-packages/cvtkpy-0.0.1-py3.8.egg/cvtk/cov.py:316: RuntimeWarning: Mean of empty slice\n",
      "/users/r/b/rbrennan/anaconda3/lib/python3.8/site-packages/numpy/lib/function_base.py:393: RuntimeWarning: Mean of empty slice.\n",
      "  avg = a.mean(axis)\n",
      "/users/r/b/rbrennan/anaconda3/lib/python3.8/site-packages/numpy/core/_methods.py:153: RuntimeWarning: invalid value encountered in true_divide\n",
      "  ret = um.true_divide(\n",
      "/users/r/b/rbrennan/anaconda3/lib/python3.8/site-packages/cvtkpy-0.0.1-py3.8.egg/cvtk/cov.py:348: RuntimeWarning: Degrees of freedom <= 0 for slice\n",
      "/users/r/b/rbrennan/anaconda3/lib/python3.8/site-packages/numpy/lib/function_base.py:2455: RuntimeWarning: divide by zero encountered in true_divide\n",
      "  c *= np.true_divide(1, fact)\n",
      "/users/r/b/rbrennan/anaconda3/lib/python3.8/site-packages/numpy/lib/function_base.py:2455: RuntimeWarning: invalid value encountered in multiply\n",
      "  c *= np.true_divide(1, fact)\n",
      "/users/r/b/rbrennan/anaconda3/lib/python3.8/site-packages/cvtkpy-0.0.1-py3.8.egg/cvtk/cov.py:375: RuntimeWarning: Mean of empty slice\n",
      "/users/r/b/rbrennan/anaconda3/lib/python3.8/site-packages/cvtkpy-0.0.1-py3.8.egg/cvtk/diagnostics.py:18: RuntimeWarning: Mean of empty slice\n",
      "/users/r/b/rbrennan/anaconda3/lib/python3.8/site-packages/numpy/core/fromnumeric.py:90: RuntimeWarning: invalid value encountered in reduce\n",
      "  return ufunc.reduce(obj, axis, dtype, out, **passkwargs)\n",
      "/users/r/b/rbrennan/anaconda3/lib/python3.8/site-packages/cvtkpy-0.0.1-py3.8.egg/cvtk/diagnostics.py:19: RuntimeWarning: Mean of empty slice\n",
      "/users/r/b/rbrennan/anaconda3/lib/python3.8/site-packages/cvtkpy-0.0.1-py3.8.egg/cvtk/cov.py:316: RuntimeWarning: Mean of empty slice\n",
      "/users/r/b/rbrennan/anaconda3/lib/python3.8/site-packages/numpy/lib/function_base.py:393: RuntimeWarning: Mean of empty slice.\n",
      "  avg = a.mean(axis)\n",
      "/users/r/b/rbrennan/anaconda3/lib/python3.8/site-packages/numpy/core/_methods.py:153: RuntimeWarning: invalid value encountered in true_divide\n",
      "  ret = um.true_divide(\n",
      "/users/r/b/rbrennan/anaconda3/lib/python3.8/site-packages/cvtkpy-0.0.1-py3.8.egg/cvtk/cov.py:348: RuntimeWarning: Degrees of freedom <= 0 for slice\n",
      "/users/r/b/rbrennan/anaconda3/lib/python3.8/site-packages/numpy/lib/function_base.py:2455: RuntimeWarning: divide by zero encountered in true_divide\n",
      "  c *= np.true_divide(1, fact)\n",
      "/users/r/b/rbrennan/anaconda3/lib/python3.8/site-packages/numpy/lib/function_base.py:2455: RuntimeWarning: invalid value encountered in multiply\n",
      "  c *= np.true_divide(1, fact)\n",
      "/users/r/b/rbrennan/anaconda3/lib/python3.8/site-packages/cvtkpy-0.0.1-py3.8.egg/cvtk/diagnostics.py:18: RuntimeWarning: Mean of empty slice\n",
      "/users/r/b/rbrennan/anaconda3/lib/python3.8/site-packages/cvtkpy-0.0.1-py3.8.egg/cvtk/diagnostics.py:19: RuntimeWarning: Mean of empty slice\n"
     ]
    }
   ],
   "source": [
    "diagnostics = d.correction_diagnostics(exclude_seqids=exclude_seqids)"
   ]
  },
  {
   "cell_type": "code",
   "execution_count": 37,
   "metadata": {},
   "outputs": [
    {
     "data": {
      "image/png": "[encoded data removed]",
      "text/plain": [
       "<Figure size 1600x800 with 4 Axes>"
      ]
     },
     "metadata": {
      "needs_background": "light"
     },
     "output_type": "display_data"
    }
   ],
   "source": [
    "# _ = correction_diagnostic_plot(diagnostics, color=False)\n",
    "# diagnostic plot from package threw error.\n",
    "def correction_diagnostic_plot(diag, figsize=None, color=True):\n",
    "    corr_df, models, xpreds, ypreds = diag\n",
    "    if figsize is not None:\n",
    "        fig, ax = plt.subplots(ncols=2, nrows=2, figsize=figsize)\n",
    "    else:\n",
    "        fig, ax = plt.subplots(ncols=2, nrows=2)\n",
    "    labelx, labely = 0.05, 0.85\n",
    "    before = corr_df[corr_df['correction'] == False]\n",
    "    after = corr_df[corr_df['correction'] == True]\n",
    "    if color:\n",
    "        ax[0, 0].scatter(before['depth'], before['diag'], c=integerize(before['seqid']), s=5)\n",
    "        ax[0, 1].scatter(before['depth'], after['diag'], c=integerize(before['seqid']), s=5)\n",
    "    else:\n",
    "        ax[0, 0].scatter(before['depth'], before['diag'], s=5)\n",
    "        ax[0, 1].scatter(before['depth'], after['diag'], s=5)\n",
    "    ax[0, 0].plot(xpreds[False], ypreds[False][0], 'r-')\n",
    "    ax[0, 1].plot(xpreds[True], ypreds[True][0], 'r-')\n",
    "    ax[0, 0].annotate('before correction', xy=(labelx, labely), xycoords='axes fraction')\n",
    "    ax[0, 0].set_ylabel('variance')\n",
    "    ax[0, 0].set_xlabel('average depth per window')\n",
    "    ax[0, 1].set_xlabel('average depth per window')\n",
    "    ax[0, 1].annotate('after correction', xy=(labelx, labely), xycoords='axes fraction')\n",
    "\n",
    "    ax[1, 0].plot(xpreds[False], ypreds[False][1], 'r-')\n",
    "    ax[1, 0].annotate('before correction', xy=(labelx, labely), xycoords='axes fraction')\n",
    "#    ax[1, 0].axhline(y=0, color='99', zorder=1, linestyle='--')\n",
    "    ax[1, 0].set_ylabel('covariance')\n",
    "    if color:\n",
    "        ax[1, 0].scatter(before['depth'], before['offdiag'], c=integerize(before['seqid']),\n",
    "                         zorder=2, s=5)\n",
    "        ax[1, 1].scatter(before['depth'], after['offdiag'], c=integerize(before['seqid']),\n",
    "                         zorder=2, s=5)\n",
    "    else:\n",
    "        ax[1, 0].scatter(before['depth'], before['offdiag'], zorder=2, s=5)\n",
    "        ax[1, 1].scatter(before['depth'], after['offdiag'], zorder=2, s=5)\n",
    "    ax[1, 1].plot(xpreds[True], ypreds[True][1], 'r-')\n",
    "    ax[1, 1].annotate('after correction', xy=(labelx, labely), xycoords='axes fraction')\n",
    " #   ax[1, 1].axhline(y=0, color='99', zorder=1, linestyle='--')\n",
    "    ax[1, 0].set_xlabel('average depth per window')\n",
    "    ax[1, 1].set_xlabel('average depth per window')\n",
    "    plt.tight_layout()\n",
    "    return fig, ax\n",
    "\n",
    "_ = correction_diagnostic_plot(diagnostics, color=False)"
   ]
  },
  {
   "cell_type": "markdown",
   "metadata": {},
   "source": [
    "## Bootstrap Convergence Correlation"
   ]
  },
  {
   "cell_type": "markdown",
   "metadata": {},
   "source": [
    "Convergence Correlation per Comparison"
   ]
  },
  {
   "cell_type": "code",
   "execution_count": 38,
   "metadata": {},
   "outputs": [],
   "source": [
    "import itertools\n",
    "from cvtk.bootstrap import block_bootstrap"
   ]
  },
  {
   "cell_type": "code",
   "execution_count": 39,
   "metadata": {},
   "outputs": [],
   "source": [
    "## using the more"
   ]
  },
  {
   "cell_type": "code",
   "execution_count": null,
   "metadata": {},
   "outputs": [],
   "source": [
    "conv_corr = d.convergence_corr()\n",
    "conv_corr"
   ]
  },
  {
   "cell_type": "code",
   "execution_count": null,
   "metadata": {},
   "outputs": [],
   "source": [
    "convergence_corr = d.bootstrap_convergence_corr(B=10, progress_bar=True)"
   ]
  },
  {
   "cell_type": "code",
   "execution_count": null,
   "metadata": {},
   "outputs": [],
   "source": [
    "convergence_corr"
   ]
  },
  {
   "cell_type": "code",
   "execution_count": 48,
   "metadata": {},
   "outputs": [
    {
     "name": "stderr",
     "output_type": "stream",
     "text": [
      "/users/r/b/rbrennan/anaconda3/envs/cvtk/lib/python3.7/site-packages/cvtkpy-0.0.1-py3.7.egg/cvtk/cov.py:316: RuntimeWarning: Mean of empty slice\n",
      "  mean_hets = np.nanmean(hets, axis=freqs.ndim-1)\n",
      "/users/r/b/rbrennan/anaconda3/envs/cvtk/lib/python3.7/site-packages/numpy/lib/function_base.py:380: RuntimeWarning: Mean of empty slice.\n",
      "  avg = a.mean(axis)\n",
      "/users/r/b/rbrennan/anaconda3/envs/cvtk/lib/python3.7/site-packages/numpy/core/_methods.py:163: RuntimeWarning: invalid value encountered in true_divide\n",
      "  ret, rcount, out=ret, casting='unsafe', subok=False)\n",
      "/users/r/b/rbrennan/anaconda3/envs/cvtk/lib/python3.7/site-packages/cvtkpy-0.0.1-py3.7.egg/cvtk/cov.py:348: RuntimeWarning: Degrees of freedom <= 0 for slice\n",
      "  cov = np.cov(deltas, bias=True)\n",
      "/users/r/b/rbrennan/anaconda3/envs/cvtk/lib/python3.7/site-packages/numpy/lib/function_base.py:2480: RuntimeWarning: divide by zero encountered in true_divide\n",
      "  c *= np.true_divide(1, fact)\n",
      "/users/r/b/rbrennan/anaconda3/envs/cvtk/lib/python3.7/site-packages/numpy/lib/function_base.py:2480: RuntimeWarning: invalid value encountered in multiply\n",
      "  c *= np.true_divide(1, fact)\n",
      "/users/r/b/rbrennan/anaconda3/envs/cvtk/lib/python3.7/site-packages/cvtkpy-0.0.1-py3.7.egg/cvtk/cov.py:375: RuntimeWarning: Mean of empty slice\n",
      "  ave_bias += np.nanmean(0.5 * hets * (diploid_correction + depth_correction), axis=2)\n",
      "/users/r/b/rbrennan/anaconda3/envs/cvtk/lib/python3.7/site-packages/cvtkpy-0.0.1-py3.7.egg/cvtk/G.py:94: RuntimeWarning: invalid value encountered in sqrt\n"
     ]
    },
    {
     "name": "stdout",
     "output_type": "stream",
     "text": [
      "done with rep (0, 1)\n",
      "done with rep (0, 2)\n",
      "done with rep (0, 3)\n",
      "done with rep (0, 4)\n",
      "done with rep (0, 5)\n",
      "done with rep (0, 6)\n",
      "done with rep (0, 7)\n",
      "done with rep (0, 8)\n",
      "done with rep (0, 9)\n",
      "done with rep (0, 10)\n",
      "done with rep (0, 11)\n",
      "done with rep (0, 12)\n",
      "done with rep (0, 13)\n",
      "done with rep (0, 14)\n",
      "done with rep (0, 15)\n",
      "done with rep (1, 2)\n",
      "done with rep (1, 3)\n",
      "done with rep (1, 4)\n",
      "done with rep (1, 5)\n",
      "done with rep (1, 6)\n",
      "done with rep (1, 7)\n",
      "done with rep (1, 8)\n",
      "done with rep (1, 9)\n",
      "done with rep (1, 10)\n",
      "done with rep (1, 11)\n",
      "done with rep (1, 12)\n",
      "done with rep (1, 13)\n",
      "done with rep (1, 14)\n",
      "done with rep (1, 15)\n",
      "done with rep (2, 3)\n",
      "done with rep (2, 4)\n",
      "done with rep (2, 5)\n",
      "done with rep (2, 6)\n",
      "done with rep (2, 7)\n",
      "done with rep (2, 8)\n",
      "done with rep (2, 9)\n",
      "done with rep (2, 10)\n",
      "done with rep (2, 11)\n",
      "done with rep (2, 12)\n",
      "done with rep (2, 13)\n",
      "done with rep (2, 14)\n",
      "done with rep (2, 15)\n",
      "done with rep (3, 4)\n",
      "done with rep (3, 5)\n",
      "done with rep (3, 6)\n",
      "done with rep (3, 7)\n",
      "done with rep (3, 8)\n",
      "done with rep (3, 9)\n",
      "done with rep (3, 10)\n",
      "done with rep (3, 11)\n",
      "done with rep (3, 12)\n",
      "done with rep (3, 13)\n",
      "done with rep (3, 14)\n",
      "done with rep (3, 15)\n",
      "done with rep (4, 5)\n",
      "done with rep (4, 6)\n",
      "done with rep (4, 7)\n",
      "done with rep (4, 8)\n",
      "done with rep (4, 9)\n",
      "done with rep (4, 10)\n",
      "done with rep (4, 11)\n",
      "done with rep (4, 12)\n",
      "done with rep (4, 13)\n",
      "done with rep (4, 14)\n",
      "done with rep (4, 15)\n",
      "done with rep (5, 6)\n",
      "done with rep (5, 7)\n",
      "done with rep (5, 8)\n",
      "done with rep (5, 9)\n",
      "done with rep (5, 10)\n",
      "done with rep (5, 11)\n",
      "done with rep (5, 12)\n",
      "done with rep (5, 13)\n",
      "done with rep (5, 14)\n",
      "done with rep (5, 15)\n",
      "done with rep (6, 7)\n",
      "done with rep (6, 8)\n",
      "done with rep (6, 9)\n",
      "done with rep (6, 10)\n",
      "done with rep (6, 11)\n",
      "done with rep (6, 12)\n",
      "done with rep (6, 13)\n",
      "done with rep (6, 14)\n",
      "done with rep (6, 15)\n",
      "done with rep (7, 8)\n",
      "done with rep (7, 9)\n",
      "done with rep (7, 10)\n",
      "done with rep (7, 11)\n",
      "done with rep (7, 12)\n",
      "done with rep (7, 13)\n",
      "done with rep (7, 14)\n",
      "done with rep (7, 15)\n",
      "done with rep (8, 9)\n",
      "done with rep (8, 10)\n",
      "done with rep (8, 11)\n",
      "done with rep (8, 12)\n",
      "done with rep (8, 13)\n",
      "done with rep (8, 14)\n",
      "done with rep (8, 15)\n",
      "done with rep (9, 10)\n",
      "done with rep (9, 11)\n",
      "done with rep (9, 12)\n",
      "done with rep (9, 13)\n",
      "done with rep (9, 14)\n",
      "done with rep (9, 15)\n",
      "done with rep (10, 11)\n",
      "done with rep (10, 12)\n",
      "done with rep (10, 13)\n",
      "done with rep (10, 14)\n",
      "done with rep (10, 15)\n",
      "done with rep (11, 12)\n",
      "done with rep (11, 13)\n",
      "done with rep (11, 14)\n",
      "done with rep (11, 15)\n",
      "done with rep (12, 13)\n",
      "done with rep (12, 14)\n",
      "done with rep (12, 15)\n",
      "done with rep (13, 14)\n",
      "done with rep (13, 15)\n",
      "done with rep (14, 15)\n"
     ]
    }
   ],
   "source": [
    "combs = list(itertools.combinations(range(0,16),2))\n",
    "# just run a couple, to act as example\n",
    "#combs = list(itertools.combinations(range(0,3),2))\n",
    "\n",
    "outlist = []\n",
    "\n",
    "for x in combs:\n",
    "    outlist.append(\n",
    "                    d.bootstrap_convergence_corr(B=1000, \n",
    "                                                 progress_bar=False, subset=(x[0], x[1]),\n",
    "                                                 ci_method='standard'))\n",
    "    print(\"done with rep\", x)"
   ]
  },
  {
   "cell_type": "code",
   "execution_count": 52,
   "metadata": {},
   "outputs": [
    {
     "data": {
      "text/plain": [
       "numpy.ndarray"
      ]
     },
     "execution_count": 52,
     "metadata": {},
     "output_type": "execute_result"
    }
   ],
   "source": [
    "type(combined_conv_corrs)"
   ]
  },
  {
   "cell_type": "code",
   "execution_count": 55,
   "metadata": {},
   "outputs": [],
   "source": [
    "combined_conv_corrs = np.stack(outlist).squeeze()\n",
    "all_labels = [sample_names[i[0]] + \" \" + sample_names[i[1]] for i in combs]\n",
    "result = np.hstack((combined_conv_corrs, np.atleast_2d(all_labels).T))\n",
    "\n",
    "np.savetxt('/users/r/b/rbrennan/tonsa_genomics/scripts/cvtk/combined_conv_corrs.csv', result, delimiter=',', fmt='%s')"
   ]
  },
  {
   "cell_type": "code",
   "execution_count": 56,
   "metadata": {},
   "outputs": [
    {
     "data": {
      "image/png": "[encoded data removed]",
      "text/plain": [
       "<Figure size 1600x800 with 1 Axes>"
      ]
     },
     "metadata": {
      "needs_background": "light"
     },
     "output_type": "display_data"
    }
   ],
   "source": [
    "#plt.plot([1, 2, 3, 4])\n",
    "#plt.ylabel('some numbers')\n",
    "#plt.show()\n",
    "    \n",
    "mean = np.array([x[1] for x in combined_conv_corrs])\n",
    "lower = np.array([x[0] for x in combined_conv_corrs])\n",
    "upper = np.array([x[2] for x in combined_conv_corrs])\n",
    "\n",
    "#print(lower)\n",
    "#print(mean)\n",
    "#print(upper)\n",
    "#upper\n",
    "\n",
    "all_labels = [sample_names[i[0]] + \" \" + sample_names[i[1]] for i in combs]\n",
    "\n",
    "lower_bound, upper_bound = lower-mean, upper-mean\n",
    "#bounds = [lower_bound, upper_bound]\n",
    "#print(bounds)\n",
    "fig = plt.figure()\n",
    "plt.stem(all_labels, mean, linefmt = ':')\n",
    "\n",
    "plt.errorbar(all_labels, mean, yerr=upper_bound, capsize=0, fmt='o', linewidth=1.5, elinewidth=2, ecolor=\"black\")\n",
    "plt.axhline(y=0, c='0.6', linewidth=0.5, zorder=-1, linestyle='--')\n",
    "plt.xticks(rotation='vertical',fontsize=3)\n",
    "\n",
    "locs, labels = plt.xticks()\n",
    "#print(labels)\n",
    "#plt.axvline(x=locs, c='0.4', linewidth=0.5, linestyle=\"--\")\n",
    "\n",
    "\n",
    "#sample_names = ['AA-1', 'AA-2', 'AA-3', 'AA-4', 'AH-1', 'AH-2', 'AH-3', 'AH-4', 'HA-1', 'HA-2', 'HA-3', 'HA-4', 'HH-1', 'HH-2', 'HH-3', 'HH-4' ]\n",
    "\n",
    "#rep_cov_plot(gw_covs_cis, sample_names)\n",
    "\n",
    "# plt.figure(figsize=(8,4)) \n",
    " #   plt.axhline(y=0, c='0.6', linewidth=0.5, zorder=-1, linestyle='--')\n",
    "  #  plt.xticks(rotation='vertical',fontsize=3)\n",
    "    # markerline, stemline, baseline, = plt.stem(all_labels, mean,linefmt='k--', bottom = -0.01)\n",
    "   # plt.setp(stemline, linewidth = 0.25)\n",
    "   # plt.setp(baseline, 'linewidth', 0)\n",
    "   # plt.ylim([-0.01, 0.065])\n",
    "   # plt.savefig(filename, bbox_inches='tight')"
   ]
  },
  {
   "cell_type": "markdown",
   "metadata": {},
   "source": [
    "## Genome-wide G\n",
    "Averaging across replicates:"
   ]
  },
  {
   "cell_type": "code",
   "execution_count": 44,
   "metadata": {},
   "outputs": [
    {
     "name": "stdout",
     "output_type": "stream",
     "text": [
      "[0.00317422 0.00356016 0.00269662 0.00311833 0.00218594 0.00258165\n",
      " 0.00270531 0.00236121 0.00310577 0.00328717 0.00347791 0.00317198\n",
      " 0.00381188 0.00365817 0.00341534 0.00462489]\n"
     ]
    }
   ],
   "source": [
    "g_averep = d.calc_G(average_replicates=True)\n",
    "with open('g_averep_AA.npy', 'wb') as f:\n",
    "    np.save(f, g_averep)"
   ]
  },
  {
   "cell_type": "markdown",
   "metadata": {},
   "source": [
    "Not averaging across replicates:"
   ]
  },
  {
   "cell_type": "code",
   "execution_count": 45,
   "metadata": {},
   "outputs": [
    {
     "name": "stdout",
     "output_type": "stream",
     "text": [
      "[0.00317422 0.00356016 0.00269662 0.00311833 0.00218594 0.00258165\n",
      " 0.00270531 0.00236121 0.00310577 0.00328717 0.00347791 0.00317198\n",
      " 0.00381188 0.00365817 0.00341534 0.00462489]\n"
     ]
    }
   ],
   "source": [
    "g = d.calc_G(average_replicates=False)\n",
    "with open('g.npy', 'wb') as f:\n",
    "    np.save(f, g)"
   ]
  },
  {
   "cell_type": "markdown",
   "metadata": {},
   "source": [
    "### Partitioning Variance into Shared and Unique Contributions"
   ]
  },
  {
   "cell_type": "markdown",
   "metadata": {},
   "source": [
    "If we use the total variance in af change, can calculate Ne.\n",
    "\n",
    "First, calc windowed stats for bootstrapping:"
   ]
  },
  {
   "cell_type": "code",
   "execution_count": 49,
   "metadata": {},
   "outputs": [],
   "source": [
    "windowed_covs = d.calc_cov_by_tile()\n",
    "win_len_all = len(windowed_covs)\n",
    "windowed_covs = [windowed_covs for windowed_covs in windowed_covs if ~np.isnan(windowed_covs).any() and ~np.isinf(windowed_covs).any()]\n",
    "win_len_narm = len(windowed_covs)"
   ]
  },
  {
   "cell_type": "code",
   "execution_count": 52,
   "metadata": {},
   "outputs": [],
   "source": [
    "%%capture\n",
    "windowed_vars = d.calc_var_by_tile()\n",
    "# remove na windows:\n",
    "#windowed_vars = [windowed_vars for windowed_vars in windowed_vars if ~np.isnan(windowed_vars).any() and ~np.isinf(windowed_vars).any()]\n"
   ]
  },
  {
   "cell_type": "code",
   "execution_count": 53,
   "metadata": {},
   "outputs": [],
   "source": [
    "windowed_vars = [windowed_vars for windowed_vars in windowed_vars if ~np.isnan(windowed_vars).any() and ~np.isinf(windowed_vars).any()]"
   ]
  },
  {
   "cell_type": "code",
   "execution_count": 54,
   "metadata": {},
   "outputs": [
    {
     "name": "stdout",
     "output_type": "stream",
     "text": [
      "All window length 42972\n",
      "NA rm window length 9304\n"
     ]
    }
   ],
   "source": [
    "print(\"All window length\", win_len_all)\n",
    "print(\"NA rm window length\", win_len_narm)"
   ]
  },
  {
   "cell_type": "code",
   "execution_count": 55,
   "metadata": {},
   "outputs": [],
   "source": [
    "from cvtk.bootstrap import bootstrap_ci, block_bootstrap_ratio_averages"
   ]
  },
  {
   "cell_type": "code",
   "execution_count": 56,
   "metadata": {},
   "outputs": [
    {
     "name": "stdout",
     "output_type": "stream",
     "text": [
      "[0.00317422 0.00356016 0.00269662 0.00311833 0.00218594 0.00258165\n",
      " 0.00270531 0.00236121 0.00310577 0.00328717 0.00347791 0.00317198\n",
      " 0.00381188 0.00365817 0.00341534 0.00462489]\n",
      "total variance ambient 0.0464\n",
      "total variance acidic 0.0317\n",
      "total variance warm 0.0484\n",
      "total variance GH 0.0609\n",
      "Ambient Ne: [264.73 269.65 274.57]\n",
      "Acidic Ne: [386.85 394.62 402.39]\n",
      "Warm Ne: [252.52 258.5  264.48]\n",
      "GH Ne: [200.54 205.18 209.81]\n"
     ]
    }
   ],
   "source": [
    "gw_vars = d.calc_var()\n",
    "gw_covs = d.calc_cov()\n",
    "\n",
    "ambient = (gw_covs[0,1] + gw_covs[0,2] + gw_covs[0,3] + gw_covs[1,2] + gw_covs[1,3] + gw_covs[2,3])/6  \n",
    "acidic  = (gw_covs[4,5] + gw_covs[4,6] + gw_covs[4,7] + gw_covs[5,6] + gw_covs[5,7] + gw_covs[6,7])/6  \n",
    "warm    = (gw_covs[8,9] + gw_covs[8,10] + gw_covs[8,11] + gw_covs[9,10] + gw_covs[9,11] + gw_covs[10,11])/6  \n",
    "GH      = (gw_covs[12,13] + gw_covs[12,14] + gw_covs[12,15] + gw_covs[13,14] + gw_covs[13,15] + gw_covs[14,15])/6  \n",
    "\n",
    "# total variance for each group:\n",
    "ambient1 = (gw_vars[0] + gw_vars[1] + gw_vars[2] + gw_vars[3])/4\n",
    "acidic1  = (gw_vars[4] + gw_vars[5] + gw_vars[6] + gw_vars[7])/4\n",
    "warm1    = (gw_vars[8] + gw_vars[9] + gw_vars[10] + gw_vars[11])/4\n",
    "GH1      = (gw_vars[12] + gw_vars[13] + gw_vars[14] + gw_vars[15])/4  \n",
    "\n",
    "print(\"total variance ambient\",(ambient1).round(4))\n",
    "print(\"total variance acidic\",(acidic1).round(4))\n",
    "print(\"total variance warm\",(warm1).round(4))\n",
    "print(\"total variance GH\",(GH1).round(4))\n",
    "\n",
    "#then estimate Ne with:\n",
    "\n",
    "#(V(Pt-P0)/P0(1-P0))=t/2Ne\n",
    "# where the left side of this is equal to the var estimate, above.\n",
    "# then Ne = t/2(var)\n",
    "\n",
    "## bootstrap ne estimtes\n",
    "# need function to bootstrap over\n",
    "def unique_shared(cov):\n",
    "    am_total = (cov[0] + cov[1] + cov[2] + cov[3])/4\n",
    "    ac_total = (cov[4] + cov[5] + cov[6] + cov[7])/4\n",
    "    wm_total = (cov[8] + cov[9] + cov[10] + cov[11])/4\n",
    "    gh_total = (cov[12] + cov[13] + cov[14] + cov[15])/4\n",
    "    am_ne = am_total\n",
    "    ac_ne = ac_total\n",
    "    wm_ne = wm_total\n",
    "    gh_ne = gh_total\n",
    "    return am_ne, ac_ne, wm_ne, gh_ne\n",
    "\n",
    "B = 5000\n",
    "windowed_stats = np.array([unique_shared(win) for win in windowed_vars])\n",
    "\n",
    "am_straps, ac_straps, wm_straps, gh_straps = [], [], [], []\n",
    "\n",
    "for b in np.arange(B):\n",
    "    bidx = np.random.randint(0, len(windowed_vars), len(windowed_vars))\n",
    "    am, ac, wm, gh = windowed_stats[bidx, :].mean(axis=0)\n",
    "    am_straps.append(25/(2*am))\n",
    "    ac_straps.append(25/(2*ac))\n",
    "    wm_straps.append(25/(2*wm))\n",
    "    gh_straps.append(25/(2*gh))\n",
    "\n",
    "print('Ambient Ne:', (bootstrap_ci(25/(2*ambient1),am_straps, method=\"standard\")).round(2))\n",
    "print('Acidic Ne:', (bootstrap_ci(25/(2*acidic1),ac_straps, method=\"standard\")).round(2))\n",
    "print('Warm Ne:', (bootstrap_ci(25/(2*warm1),wm_straps, method=\"standard\")).round(2))\n",
    "print('GH Ne:', (bootstrap_ci(25/(2*GH1),gh_straps, method=\"standard\")).round(2))"
   ]
  },
  {
   "cell_type": "markdown",
   "metadata": {},
   "source": [
    "### bootstrap total variance estimate"
   ]
  },
  {
   "cell_type": "markdown",
   "metadata": {},
   "source": [
    "### shared change due to selection:\n",
    "    mean(cov between each replicate in that treatment) - mean(cov with ambient control)/(total variance)"
   ]
  },
  {
   "cell_type": "code",
   "execution_count": 57,
   "metadata": {},
   "outputs": [
    {
     "name": "stdout",
     "output_type": "stream",
     "text": [
      "total variance: [0.0238 0.0243 0.0249]\n",
      "shared: [32.164 33.739 35.313]\n",
      "lab: [20.41  22.359 24.308]\n",
      "selection: [ 9.835 11.38  12.924]\n"
     ]
    }
   ],
   "source": [
    "# shared change due to Acidic selection\n",
    "\n",
    "sample_names = ['AA-1', 'AA-2', 'AA-3', 'AA-4', 'AH-1', 'AH-2', 'AH-3', 'AH-4', 'HA-1', 'HA-2', 'HA-3', 'HA-4', 'HH-1', 'HH-2', 'HH-3', 'HH-4' ]\n",
    "# rows and cols should match sample names, above\n",
    "gw_covs = d.calc_cov()\n",
    "\n",
    "# need function to bootstrap over\n",
    "def unique_shared(cov):\n",
    "    shared = (cov[4,5] + cov[4,6] + cov[4,7] + cov[5,6] + cov[5,7] + cov[6,7])/6  \n",
    "    lab = (cov[0,4] + cov[0,5] + cov[0,6] + cov[0,7] + cov[1,4] + cov[1,5] + cov[1,6] + cov[1,7] + cov[2,4] + cov[2,5] + cov[2,6] + cov[2,7] + cov[3,4] + cov[3,5] + cov[3,6] + cov[3,7])/16\n",
    "    total = (cov[4,4] + cov[5,5] + cov[6,6] + cov[7,7])/4\n",
    "    return shared, lab, total\n",
    "\n",
    "shared, lab, total = unique_shared(gw_covs)\n",
    "\n",
    "selection = (shared - lab)/total\n",
    "\n",
    "## bootstrap\n",
    "\n",
    "B = 5000\n",
    "windowed_stats = np.array([unique_shared(win) for win in windowed_covs])\n",
    "\n",
    "shared_straps, lab_straps, total_straps, selection_straps = [], [], [], []\n",
    "for b in np.arange(B):\n",
    "    bidx = np.random.randint(0, len(windowed_covs), len(windowed_covs))\n",
    "    s, l, t = windowed_stats[bidx, :].mean(axis=0)\n",
    "    shared_straps.append(s/t)\n",
    "    lab_straps.append(l/t)\n",
    "    selection_straps.append((s-l)/t)\n",
    "    total_straps.append(t)\n",
    "\n",
    "\n",
    "acidic_total_var = (bootstrap_ci(total,total_straps, method=\"standard\")).round(4)\n",
    "acidic_shared_var = (bootstrap_ci(shared/total,shared_straps, method=\"standard\")*100).round(3)\n",
    "acidic_lab_var = (bootstrap_ci(lab/total,lab_straps, method=\"standard\")*100).round(3)\n",
    "acidic_selection_var = (bootstrap_ci(selection,selection_straps, method=\"standard\")*100).round(3)\n",
    "\n",
    "print('total variance:', acidic_total_var)\n",
    "print('shared:', acidic_shared_var)\n",
    "print('lab:', acidic_lab_var)\n",
    "print('selection:', acidic_selection_var)"
   ]
  },
  {
   "cell_type": "markdown",
   "metadata": {},
   "source": [
    "### repeat for Warm"
   ]
  },
  {
   "cell_type": "code",
   "execution_count": 58,
   "metadata": {},
   "outputs": [
    {
     "name": "stdout",
     "output_type": "stream",
     "text": [
      "total variance: [0.0399 0.041  0.0422]\n",
      "shared: [64.298 65.237 66.177]\n",
      "lab: [12.968 14.272 15.576]\n",
      "selection: [49.503 50.965 52.428]\n"
     ]
    }
   ],
   "source": [
    "# shared change due to Warm selection\n",
    "def unique_shared(cov):\n",
    "    shared = (cov[8,9] + cov[8,10] + cov[8,11] + cov[9,10] + cov[9,11] + cov[10,11])/6  \n",
    "    lab = (cov[0,8] + cov[0,9] + cov[0,10] + cov[0,11] + cov[1,8] + cov[1,9] + cov[1,10] + cov[1,11] + cov[2,8] + cov[2,9] + cov[2,10] + cov[2,11] + cov[3,8] + cov[3,9] +cov[3,10] + cov[3,11])/16\n",
    "    total = (cov[8,8] + cov[9,9] + cov[10,10] + cov[11,11])/4\n",
    "    return shared, lab, total\n",
    "\n",
    "shared, lab, total = unique_shared(gw_covs)\n",
    "\n",
    "selection = (shared - lab)/total\n",
    "\n",
    "## bootstrap\n",
    "\n",
    "B = 5000\n",
    "windowed_stats = np.array([unique_shared(win) for win in windowed_covs])\n",
    "\n",
    "shared_straps, lab_straps, total_straps, selection_straps = [], [], [], []\n",
    "for b in np.arange(B):\n",
    "    bidx = np.random.randint(0, len(windowed_covs), len(windowed_covs))\n",
    "    s, l, t = windowed_stats[bidx, :].mean(axis=0)\n",
    "    shared_straps.append(s/t)\n",
    "    lab_straps.append(l/t)\n",
    "    selection_straps.append((s-l)/t)\n",
    "    total_straps.append(t)\n",
    "\n",
    "\n",
    "warm_total_var = (bootstrap_ci(total,total_straps, method=\"standard\")).round(4)\n",
    "warm_shared_var = (bootstrap_ci(shared/total,shared_straps, method=\"standard\")*100).round(3)\n",
    "warm_lab_var = (bootstrap_ci(lab/total,lab_straps, method=\"standard\")*100).round(3)\n",
    "warm_selection_var = (bootstrap_ci(selection,selection_straps, method=\"standard\")*100).round(3)\n",
    "\n",
    "print('total variance:', warm_total_var)\n",
    "print('shared:', warm_shared_var)\n",
    "print('lab:', warm_lab_var)\n",
    "print('selection:', warm_selection_var)"
   ]
  },
  {
   "cell_type": "markdown",
   "metadata": {},
   "source": [
    "### Repeat for GH"
   ]
  },
  {
   "cell_type": "code",
   "execution_count": 59,
   "metadata": {},
   "outputs": [
    {
     "name": "stdout",
     "output_type": "stream",
     "text": [
      "total variance: [0.0521 0.0536 0.0551]\n",
      "shared: [66.892 67.615 68.338]\n",
      "lab: [7.276 8.228 9.179]\n",
      "selection: [58.323 59.387 60.451]\n"
     ]
    }
   ],
   "source": [
    "# shared change due to GH selection\n",
    "def unique_shared(cov):\n",
    "    shared = (cov[12,13] + cov[12,14] + cov[12,15] + cov[13,14] + cov[13,15] + cov[14,15])/6  \n",
    "    lab = (cov[0,12] + cov[0,13] + cov[0,14] + cov[0,15] + cov[1,12] + cov[1,13] + cov[1,14] + cov[1,15] + cov[2,12] + cov[2,13] + cov[2,14] + cov[2,15] + cov[3,12] + cov[3,13] +cov[3,14] + cov[3,15])/16\n",
    "    total = (cov[12,12] + cov[13,13] + cov[14,14] + cov[15,15])/4\n",
    "    return shared, lab, total\n",
    "\n",
    "shared, lab, total = unique_shared(gw_covs)\n",
    "\n",
    "selection = (shared - lab)/total\n",
    "\n",
    "## bootstrap\n",
    "\n",
    "B = 5000\n",
    "windowed_stats = np.array([unique_shared(win) for win in windowed_covs])\n",
    "\n",
    "shared_straps, lab_straps, total_straps, selection_straps = [], [], [], []\n",
    "for b in np.arange(B):\n",
    "    bidx = np.random.randint(0, len(windowed_covs), len(windowed_covs))\n",
    "    s, l, t = windowed_stats[bidx, :].mean(axis=0)\n",
    "    shared_straps.append(s/t)\n",
    "    lab_straps.append(l/t)\n",
    "    selection_straps.append((s-l)/t)\n",
    "    total_straps.append(t)\n",
    "\n",
    "\n",
    "GH_total_var = (bootstrap_ci(total,total_straps, method=\"standard\")).round(4)\n",
    "GH_shared_var = (bootstrap_ci(shared/total,shared_straps, method=\"standard\")*100).round(3)\n",
    "GH_lab_var = (bootstrap_ci(lab/total,lab_straps, method=\"standard\")*100).round(3)\n",
    "GH_selection_var = (bootstrap_ci(selection,selection_straps, method=\"standard\")*100).round(3)\n",
    "\n",
    "print('total variance:', GH_total_var)\n",
    "print('shared:', GH_shared_var)\n",
    "print('lab:', GH_lab_var)\n",
    "print('selection:', GH_selection_var)"
   ]
  },
  {
   "cell_type": "code",
   "execution_count": null,
   "metadata": {},
   "outputs": [],
   "source": []
  },
  {
   "cell_type": "markdown",
   "metadata": {},
   "source": [
    "## Shared response between treatments:\n",
    "\n",
    "shared_cov = mean(cov between replicates of the two treatments)  \n",
    "lab_cov = mean(cov between each replicate and the control)\n",
    "\n",
    "then the total shared covariance without lab effects:\n",
    "\n",
    "(shared_cov - lab_cov) / (total variance)"
   ]
  },
  {
   "cell_type": "code",
   "execution_count": 60,
   "metadata": {},
   "outputs": [
    {
     "name": "stdout",
     "output_type": "stream",
     "text": [
      "total variance: [0.0381 0.039  0.0399]\n",
      "shared: [12.899 14.239 15.579]\n",
      "lab: [11.497 12.642 13.788]\n",
      "selection: [0.492 1.597 2.701]\n"
     ]
    }
   ],
   "source": [
    "# shared change in Acidic vs GH\n",
    "\n",
    "def unique_shared(cov):\n",
    "    shared = (cov[4,12] + cov[4,13] + cov[4,14] + cov[4,15] + cov[5,12] +cov[5,13] + cov[5,14] + \\\n",
    "                  cov[5,15] + cov[6,12] + cov[6,13] + cov[6,14] + cov[6,15] + cov[7,12] + cov[7,13] + \\\n",
    "                  cov[7,14] + cov[7,15])/16\n",
    "    lab = (cov[0,4] + cov[0,5] + cov[0,6] + cov[0,7] + cov[1,4] + cov[1,5] + cov[1,6] + cov[1,7] + \\\n",
    "               cov[2,4] + cov[2,5] + cov[2,6] + cov[2,7] + cov[3,4] + cov[3,5] + cov[3,6] + cov[3,7] + \\\n",
    "               cov[0,12] + cov[0,13] + cov[0,14] + cov[0,15] + cov[1,12] + cov[1,13] + cov[1,14] + cov[1,15] + \\\n",
    "               cov[2,12] + cov[2,13] + cov[2,14] + cov[2,15] + cov[3,12] + cov[3,13] + cov[3,14] + cov[3,15])/32\n",
    "    total = (cov[4,4] + cov[5,5] + cov[6,6] + cov[7,7] + cov[12,12] + cov[13,13] + cov[14,14] + cov[15,15] )/8\n",
    "    return shared, lab, total\n",
    "\n",
    "shared, lab, total = unique_shared(gw_covs)\n",
    "\n",
    "selection = (shared - lab)\n",
    "\n",
    "## bootstrap\n",
    "\n",
    "B = 5000\n",
    "windowed_stats = np.array([unique_shared(win) for win in windowed_covs])\n",
    "\n",
    "shared_straps, lab_straps, total_straps, selection_straps = [], [], [], []\n",
    "for b in np.arange(B):\n",
    "    bidx = np.random.randint(0, len(windowed_covs), len(windowed_covs))\n",
    "    s, l, t = windowed_stats[bidx, :].mean(axis=0)\n",
    "    shared_straps.append(s/t)\n",
    "    lab_straps.append(l/t)\n",
    "    selection_straps.append((s-l)/t)\n",
    "    total_straps.append(t)\n",
    "\n",
    "GH_ac_total_var = (bootstrap_ci(total,total_straps, method=\"standard\")).round(4)\n",
    "GH_ac_shared_var = (bootstrap_ci(shared/total,shared_straps, method=\"standard\")*100).round(3)\n",
    "GH_ac_lab_var = (bootstrap_ci(lab/total,lab_straps, method=\"standard\")*100).round(3)\n",
    "GH_ac_selection_var = (bootstrap_ci(selection/total,selection_straps, method=\"standard\")*100).round(3)\n",
    "\n",
    "print('total variance:', GH_ac_total_var)\n",
    "print('shared:', GH_ac_shared_var)\n",
    "print('lab:', GH_ac_lab_var)\n",
    "print('selection:', GH_ac_selection_var)"
   ]
  },
  {
   "cell_type": "code",
   "execution_count": 61,
   "metadata": {},
   "outputs": [
    {
     "name": "stdout",
     "output_type": "stream",
     "text": [
      "total variance: [0.032  0.0327 0.0334]\n",
      "shared: [15.619 17.038 18.457]\n",
      "lab: [15.879 17.284 18.689]\n",
      "selection: [-1.356 -0.246  0.863]\n"
     ]
    }
   ],
   "source": [
    "# shared change in Acidic vs Warm\n",
    "\n",
    "def unique_shared(cov):\n",
    "    shared =     (cov[4,8] + cov[4,9] + cov[4,10] + cov[4,11] + cov[5,8] +cov[5,9] + cov[5,10] + \\\n",
    "                  cov[5,11] + cov[6,8] + cov[6,9] + cov[6,10] + cov[6,11] + cov[7,8] + cov[7,9] + \\\n",
    "                  cov[7,10] + cov[7,11])/16\n",
    "    lab = (cov[0,4] + cov[0,5] + cov[0,6] + cov[0,7] + cov[1,4] + cov[1,5] + cov[1,6] + cov[1,7] + \\\n",
    "               cov[2,4] + cov[2,5] + cov[2,6] + cov[2,7] + cov[3,4] + cov[3,5] + cov[3,6] + cov[3,7] + \\\n",
    "               cov[0,8] + cov[0,9] + cov[0,10] + cov[0,11] + cov[1,8] + cov[1,9] + cov[1,10] + cov[1,11] + \\\n",
    "               cov[2,8] + cov[2,9] + cov[2,10] + cov[2,11] + cov[3,8] + cov[3,9] + cov[3,10] + cov[3,11])/32\n",
    "    total = (cov[4,4] + cov[5,5] + cov[6,6] + cov[7,7] + cov[8,8] + cov[9,9] + cov[10,10] + cov[11,11] )/8\n",
    "    return shared, lab, total\n",
    "\n",
    "shared, lab, total = unique_shared(gw_covs)\n",
    "\n",
    "selection = (shared - lab)\n",
    "\n",
    "## bootstrap\n",
    "\n",
    "B = 5000\n",
    "windowed_stats = np.array([unique_shared(win) for win in windowed_covs])\n",
    "\n",
    "shared_straps, lab_straps, total_straps, selection_straps = [], [], [], []\n",
    "for b in np.arange(B):\n",
    "    bidx = np.random.randint(0, len(windowed_covs), len(windowed_covs))\n",
    "    s, l, t = windowed_stats[bidx, :].mean(axis=0)\n",
    "    shared_straps.append(s/t)\n",
    "    lab_straps.append(l/t)\n",
    "    selection_straps.append((s-l)/t)\n",
    "    total_straps.append(t)\n",
    "\n",
    "wm_ac_total_var = (bootstrap_ci(total,total_straps, method=\"standard\")).round(4)\n",
    "wm_ac_shared_var = (bootstrap_ci(shared/total,shared_straps, method=\"standard\")*100).round(3)\n",
    "wm_ac_lab_var = (bootstrap_ci(lab/total,lab_straps, method=\"standard\")*100).round(3)\n",
    "wm_ac_selection_var = (bootstrap_ci(selection/total,selection_straps, method=\"standard\")*100).round(3)\n",
    "\n",
    "print('total variance:', wm_ac_total_var)\n",
    "print('shared:', wm_ac_shared_var)\n",
    "print('lab:', wm_ac_lab_var)\n",
    "print('selection:', wm_ac_selection_var)"
   ]
  },
  {
   "cell_type": "code",
   "execution_count": 62,
   "metadata": {},
   "outputs": [
    {
     "name": "stdout",
     "output_type": "stream",
     "text": [
      "total variance: [0.0461 0.0473 0.0485]\n",
      "shared: [46.489 47.603 48.717]\n",
      "lab: [ 9.82  10.849 11.878]\n",
      "selection: [35.48  36.754 38.029]\n"
     ]
    }
   ],
   "source": [
    "# shared change in GH vs Warm\n",
    "\n",
    "def unique_shared(cov):\n",
    "    shared =     (cov[12,8] + cov[12,9] + cov[12,10] + cov[12,11] + cov[13,8] +cov[13,9] + cov[13,10] + \\\n",
    "                  cov[13,11] + cov[14,8] + cov[14,9] + cov[14,10] + cov[14,11] + cov[15,8] + cov[15,9] + \\\n",
    "                  cov[15,10] + cov[15,11])/16\n",
    "    lab = (cov[0,12] + cov[0,13] + cov[0,14] + cov[0,15] + cov[1,12] + cov[1,13] + cov[1,14] + cov[1,15] + \\\n",
    "               cov[2,12] + cov[2,13] + cov[2,14] + cov[2,15] + cov[3,12] + cov[3,13] + cov[3,14] + cov[3,15] + \\\n",
    "               cov[0,8] + cov[0,9] + cov[0,10] + cov[0,11] + cov[1,8] + cov[1,9] + cov[1,10] + cov[1,11] + \\\n",
    "               cov[2,8] + cov[2,9] + cov[2,10] + cov[2,11] + cov[3,8] + cov[3,9] + cov[3,10] + cov[3,11])/32\n",
    "    total = (cov[12,12] + cov[13,13] + cov[14,14] + cov[15,15] + cov[8,8] + cov[9,9] + cov[10,10] + cov[11,11] )/8\n",
    "    return shared, lab, total\n",
    "\n",
    "shared, lab, total = unique_shared(gw_covs)\n",
    "\n",
    "selection = (shared - lab)\n",
    "\n",
    "## bootstrap\n",
    "\n",
    "B = 5000\n",
    "windowed_stats = np.array([unique_shared(win) for win in windowed_covs])\n",
    "\n",
    "shared_straps, lab_straps, total_straps, selection_straps = [], [], [], []\n",
    "for b in np.arange(B):\n",
    "    bidx = np.random.randint(0, len(windowed_covs), len(windowed_covs))\n",
    "    s, l, t = windowed_stats[bidx, :].mean(axis=0)\n",
    "    shared_straps.append(s/t)\n",
    "    lab_straps.append(l/t)\n",
    "    selection_straps.append((s-l)/t)\n",
    "    total_straps.append(t)\n",
    "\n",
    "GH_wm_total_var = (bootstrap_ci(total,total_straps, method=\"standard\")).round(4)\n",
    "GH_wm_shared_var = (bootstrap_ci(shared/total,shared_straps, method=\"standard\")*100).round(3)\n",
    "GH_wm_lab_var = (bootstrap_ci(lab/total,lab_straps, method=\"standard\")*100).round(3)\n",
    "GH_wm_selection_var = (bootstrap_ci(selection/total,selection_straps, method=\"standard\")*100).round(3)\n",
    "\n",
    "print('total variance:', GH_wm_total_var)\n",
    "print('shared:', GH_wm_shared_var)\n",
    "print('lab:', GH_wm_lab_var)\n",
    "print('selection:', GH_wm_selection_var)"
   ]
  },
  {
   "cell_type": "markdown",
   "metadata": {},
   "source": [
    "### save output from bootstraps for plotting"
   ]
  },
  {
   "cell_type": "code",
   "execution_count": 63,
   "metadata": {},
   "outputs": [
    {
     "data": {
      "text/html": [
       "<div>\n",
       "<style scoped>\n",
       "    .dataframe tbody tr th:only-of-type {\n",
       "        vertical-align: middle;\n",
       "    }\n",
       "\n",
       "    .dataframe tbody tr th {\n",
       "        vertical-align: top;\n",
       "    }\n",
       "\n",
       "    .dataframe thead th {\n",
       "        text-align: right;\n",
       "    }\n",
       "</style>\n",
       "<table border=\"1\" class=\"dataframe\">\n",
       "  <thead>\n",
       "    <tr style=\"text-align: right;\">\n",
       "      <th></th>\n",
       "      <th>treatment</th>\n",
       "      <th>var_group</th>\n",
       "      <th>lower_err</th>\n",
       "      <th>estimate</th>\n",
       "      <th>upper_err</th>\n",
       "    </tr>\n",
       "  </thead>\n",
       "  <tbody>\n",
       "    <tr>\n",
       "      <th>0</th>\n",
       "      <td>GH</td>\n",
       "      <td>total</td>\n",
       "      <td>0.0521</td>\n",
       "      <td>0.0536</td>\n",
       "      <td>0.0551</td>\n",
       "    </tr>\n",
       "    <tr>\n",
       "      <th>1</th>\n",
       "      <td>GH</td>\n",
       "      <td>shared</td>\n",
       "      <td>66.8920</td>\n",
       "      <td>67.6150</td>\n",
       "      <td>68.3380</td>\n",
       "    </tr>\n",
       "    <tr>\n",
       "      <th>2</th>\n",
       "      <td>GH</td>\n",
       "      <td>lab</td>\n",
       "      <td>7.2760</td>\n",
       "      <td>8.2280</td>\n",
       "      <td>9.1790</td>\n",
       "    </tr>\n",
       "    <tr>\n",
       "      <th>3</th>\n",
       "      <td>GH</td>\n",
       "      <td>selection</td>\n",
       "      <td>58.3230</td>\n",
       "      <td>59.3870</td>\n",
       "      <td>60.4510</td>\n",
       "    </tr>\n",
       "    <tr>\n",
       "      <th>4</th>\n",
       "      <td>warm</td>\n",
       "      <td>total</td>\n",
       "      <td>0.0399</td>\n",
       "      <td>0.0410</td>\n",
       "      <td>0.0422</td>\n",
       "    </tr>\n",
       "    <tr>\n",
       "      <th>5</th>\n",
       "      <td>warm</td>\n",
       "      <td>shared</td>\n",
       "      <td>64.2980</td>\n",
       "      <td>65.2370</td>\n",
       "      <td>66.1770</td>\n",
       "    </tr>\n",
       "    <tr>\n",
       "      <th>6</th>\n",
       "      <td>warm</td>\n",
       "      <td>lab</td>\n",
       "      <td>12.9680</td>\n",
       "      <td>14.2720</td>\n",
       "      <td>15.5760</td>\n",
       "    </tr>\n",
       "    <tr>\n",
       "      <th>7</th>\n",
       "      <td>warm</td>\n",
       "      <td>selection</td>\n",
       "      <td>49.5030</td>\n",
       "      <td>50.9650</td>\n",
       "      <td>52.4280</td>\n",
       "    </tr>\n",
       "    <tr>\n",
       "      <th>8</th>\n",
       "      <td>acidic</td>\n",
       "      <td>total</td>\n",
       "      <td>0.0238</td>\n",
       "      <td>0.0243</td>\n",
       "      <td>0.0249</td>\n",
       "    </tr>\n",
       "    <tr>\n",
       "      <th>9</th>\n",
       "      <td>acidic</td>\n",
       "      <td>shared</td>\n",
       "      <td>32.1640</td>\n",
       "      <td>33.7390</td>\n",
       "      <td>35.3130</td>\n",
       "    </tr>\n",
       "    <tr>\n",
       "      <th>10</th>\n",
       "      <td>acidic</td>\n",
       "      <td>lab</td>\n",
       "      <td>20.4100</td>\n",
       "      <td>22.3590</td>\n",
       "      <td>24.3080</td>\n",
       "    </tr>\n",
       "    <tr>\n",
       "      <th>11</th>\n",
       "      <td>acidic</td>\n",
       "      <td>selection</td>\n",
       "      <td>9.8350</td>\n",
       "      <td>11.3800</td>\n",
       "      <td>12.9240</td>\n",
       "    </tr>\n",
       "  </tbody>\n",
       "</table>\n",
       "</div>"
      ],
      "text/plain": [
       "   treatment  var_group  lower_err  estimate  upper_err\n",
       "0         GH      total     0.0521    0.0536     0.0551\n",
       "1         GH     shared    66.8920   67.6150    68.3380\n",
       "2         GH        lab     7.2760    8.2280     9.1790\n",
       "3         GH  selection    58.3230   59.3870    60.4510\n",
       "4       warm      total     0.0399    0.0410     0.0422\n",
       "5       warm     shared    64.2980   65.2370    66.1770\n",
       "6       warm        lab    12.9680   14.2720    15.5760\n",
       "7       warm  selection    49.5030   50.9650    52.4280\n",
       "8     acidic      total     0.0238    0.0243     0.0249\n",
       "9     acidic     shared    32.1640   33.7390    35.3130\n",
       "10    acidic        lab    20.4100   22.3590    24.3080\n",
       "11    acidic  selection     9.8350   11.3800    12.9240"
      ]
     },
     "execution_count": 63,
     "metadata": {},
     "output_type": "execute_result"
    }
   ],
   "source": [
    "data= [['GH', 'total',GH_total_var[0],GH_total_var[1],GH_total_var[2]],\n",
    "    ['GH', 'shared',GH_shared_var[0],GH_shared_var[1],GH_shared_var[2]],\n",
    "    ['GH', 'lab',GH_lab_var[0],GH_lab_var[1],GH_lab_var[2]],\n",
    "    ['GH', 'selection',GH_selection_var[0],GH_selection_var[1],GH_selection_var[2]],\n",
    "    ['warm', 'total',warm_total_var[0],warm_total_var[1],warm_total_var[2]],\n",
    "    ['warm', 'shared',warm_shared_var[0],warm_shared_var[1],warm_shared_var[2]],\n",
    "    ['warm', 'lab',warm_lab_var[0],warm_lab_var[1],warm_lab_var[2]],\n",
    "    ['warm', 'selection',warm_selection_var[0],warm_selection_var[1],warm_selection_var[2]],\n",
    "    ['acidic', 'total',acidic_total_var[0],acidic_total_var[1],acidic_total_var[2]],\n",
    "    ['acidic', 'shared',acidic_shared_var[0],acidic_shared_var[1],acidic_shared_var[2]],\n",
    "    ['acidic', 'lab',acidic_lab_var[0],acidic_lab_var[1],acidic_lab_var[2]],\n",
    "    ['acidic', 'selection',acidic_selection_var[0],acidic_selection_var[1],acidic_selection_var[2]]]\n",
    "\n",
    "# create df:\n",
    "df = pd.DataFrame(data, columns = ['treatment', 'var_group', 'lower_err', 'estimate', 'upper_err'])\n",
    "df.to_csv('/users/r/b/rbrennan/tonsa_genomics/analysis/total_variance.csv', index=False)\n",
    "df"
   ]
  },
  {
   "cell_type": "code",
   "execution_count": 64,
   "metadata": {},
   "outputs": [
    {
     "data": {
      "text/html": [
       "<div>\n",
       "<style scoped>\n",
       "    .dataframe tbody tr th:only-of-type {\n",
       "        vertical-align: middle;\n",
       "    }\n",
       "\n",
       "    .dataframe tbody tr th {\n",
       "        vertical-align: top;\n",
       "    }\n",
       "\n",
       "    .dataframe thead th {\n",
       "        text-align: right;\n",
       "    }\n",
       "</style>\n",
       "<table border=\"1\" class=\"dataframe\">\n",
       "  <thead>\n",
       "    <tr style=\"text-align: right;\">\n",
       "      <th></th>\n",
       "      <th>treatment</th>\n",
       "      <th>var_group</th>\n",
       "      <th>lower_err</th>\n",
       "      <th>estimate</th>\n",
       "      <th>upper_err</th>\n",
       "    </tr>\n",
       "  </thead>\n",
       "  <tbody>\n",
       "    <tr>\n",
       "      <th>0</th>\n",
       "      <td>GH_warm</td>\n",
       "      <td>total</td>\n",
       "      <td>0.0461</td>\n",
       "      <td>0.0473</td>\n",
       "      <td>0.0485</td>\n",
       "    </tr>\n",
       "    <tr>\n",
       "      <th>1</th>\n",
       "      <td>GH_warm</td>\n",
       "      <td>shared</td>\n",
       "      <td>46.4890</td>\n",
       "      <td>47.6030</td>\n",
       "      <td>48.7170</td>\n",
       "    </tr>\n",
       "    <tr>\n",
       "      <th>2</th>\n",
       "      <td>GH_warm</td>\n",
       "      <td>lab</td>\n",
       "      <td>9.8200</td>\n",
       "      <td>10.8490</td>\n",
       "      <td>11.8780</td>\n",
       "    </tr>\n",
       "    <tr>\n",
       "      <th>3</th>\n",
       "      <td>GH_warm</td>\n",
       "      <td>selection</td>\n",
       "      <td>35.4800</td>\n",
       "      <td>36.7540</td>\n",
       "      <td>38.0290</td>\n",
       "    </tr>\n",
       "    <tr>\n",
       "      <th>4</th>\n",
       "      <td>warm_acidic</td>\n",
       "      <td>total</td>\n",
       "      <td>0.0320</td>\n",
       "      <td>0.0327</td>\n",
       "      <td>0.0334</td>\n",
       "    </tr>\n",
       "    <tr>\n",
       "      <th>5</th>\n",
       "      <td>warm_acidic</td>\n",
       "      <td>shared</td>\n",
       "      <td>15.6190</td>\n",
       "      <td>17.0380</td>\n",
       "      <td>18.4570</td>\n",
       "    </tr>\n",
       "    <tr>\n",
       "      <th>6</th>\n",
       "      <td>warm_acidic</td>\n",
       "      <td>lab</td>\n",
       "      <td>15.8790</td>\n",
       "      <td>17.2840</td>\n",
       "      <td>18.6890</td>\n",
       "    </tr>\n",
       "    <tr>\n",
       "      <th>7</th>\n",
       "      <td>warm_acidic</td>\n",
       "      <td>selection</td>\n",
       "      <td>-1.3560</td>\n",
       "      <td>-0.2460</td>\n",
       "      <td>0.8630</td>\n",
       "    </tr>\n",
       "    <tr>\n",
       "      <th>8</th>\n",
       "      <td>GH_acidic</td>\n",
       "      <td>total</td>\n",
       "      <td>0.0381</td>\n",
       "      <td>0.0390</td>\n",
       "      <td>0.0399</td>\n",
       "    </tr>\n",
       "    <tr>\n",
       "      <th>9</th>\n",
       "      <td>GH_acidic</td>\n",
       "      <td>shared</td>\n",
       "      <td>12.8990</td>\n",
       "      <td>14.2390</td>\n",
       "      <td>15.5790</td>\n",
       "    </tr>\n",
       "    <tr>\n",
       "      <th>10</th>\n",
       "      <td>GH_acidic</td>\n",
       "      <td>lab</td>\n",
       "      <td>11.4970</td>\n",
       "      <td>12.6420</td>\n",
       "      <td>13.7880</td>\n",
       "    </tr>\n",
       "    <tr>\n",
       "      <th>11</th>\n",
       "      <td>GH_acidic</td>\n",
       "      <td>selection</td>\n",
       "      <td>0.4920</td>\n",
       "      <td>1.5970</td>\n",
       "      <td>2.7010</td>\n",
       "    </tr>\n",
       "  </tbody>\n",
       "</table>\n",
       "</div>"
      ],
      "text/plain": [
       "      treatment  var_group  lower_err  estimate  upper_err\n",
       "0       GH_warm      total     0.0461    0.0473     0.0485\n",
       "1       GH_warm     shared    46.4890   47.6030    48.7170\n",
       "2       GH_warm        lab     9.8200   10.8490    11.8780\n",
       "3       GH_warm  selection    35.4800   36.7540    38.0290\n",
       "4   warm_acidic      total     0.0320    0.0327     0.0334\n",
       "5   warm_acidic     shared    15.6190   17.0380    18.4570\n",
       "6   warm_acidic        lab    15.8790   17.2840    18.6890\n",
       "7   warm_acidic  selection    -1.3560   -0.2460     0.8630\n",
       "8     GH_acidic      total     0.0381    0.0390     0.0399\n",
       "9     GH_acidic     shared    12.8990   14.2390    15.5790\n",
       "10    GH_acidic        lab    11.4970   12.6420    13.7880\n",
       "11    GH_acidic  selection     0.4920    1.5970     2.7010"
      ]
     },
     "execution_count": 64,
     "metadata": {},
     "output_type": "execute_result"
    }
   ],
   "source": [
    "# then save the treatment covariances\n",
    "data= [['GH_warm', 'total',GH_wm_total_var[0],GH_wm_total_var[1],GH_wm_total_var[2]],\n",
    "    ['GH_warm', 'shared',GH_wm_shared_var[0],GH_wm_shared_var[1],GH_wm_shared_var[2]],\n",
    "    ['GH_warm', 'lab',GH_wm_lab_var[0],GH_wm_lab_var[1],GH_wm_lab_var[2]],\n",
    "    ['GH_warm', 'selection',GH_wm_selection_var[0],GH_wm_selection_var[1],GH_wm_selection_var[2]],\n",
    "    ['warm_acidic', 'total',    wm_ac_total_var[0],wm_ac_total_var[1],wm_ac_total_var[2]],\n",
    "    ['warm_acidic', 'shared',   wm_ac_shared_var[0],wm_ac_shared_var[1],wm_ac_shared_var[2]],\n",
    "    ['warm_acidic', 'lab',      wm_ac_lab_var[0],wm_ac_lab_var[1],wm_ac_lab_var[2]],\n",
    "    ['warm_acidic', 'selection',wm_ac_selection_var[0],wm_ac_selection_var[1],wm_ac_selection_var[2]],\n",
    "    ['GH_acidic', 'total',      GH_ac_total_var[0],GH_ac_total_var[1],GH_ac_total_var[2]],\n",
    "    ['GH_acidic', 'shared',     GH_ac_shared_var[0],GH_ac_shared_var[1],GH_ac_shared_var[2]],\n",
    "    ['GH_acidic', 'lab',        GH_ac_lab_var[0],GH_ac_lab_var[1],GH_ac_lab_var[2]],\n",
    "    ['GH_acidic', 'selection',  GH_ac_selection_var[0],GH_ac_selection_var[1],GH_ac_selection_var[2]]]\n",
    "\n",
    "# create df:\n",
    "df = pd.DataFrame(data, columns = ['treatment', 'var_group', 'lower_err', 'estimate', 'upper_err'])\n",
    "\n",
    "df.to_csv('/users/r/b/rbrennan/tonsa_genomics/analysis/shared_variance.csv', index=False)\n",
    "\n",
    "df"
   ]
  },
  {
   "cell_type": "markdown",
   "metadata": {},
   "source": [
    "## REMOVE inflated reps\n",
    "### Partitioning Variance into Shared and Unique Contributions"
   ]
  },
  {
   "cell_type": "markdown",
   "metadata": {},
   "source": [
    "### shared change due to selection:\n",
    "    mean(cov between each replicate in that treatment) - mean(cov with ambient control)/(total variance)"
   ]
  },
  {
   "cell_type": "code",
   "execution_count": 65,
   "metadata": {},
   "outputs": [
    {
     "name": "stdout",
     "output_type": "stream",
     "text": [
      "total variance: [0.0237 0.0243 0.025 ]\n",
      "shared: [32.176 33.739 35.301]\n",
      "lab: [11.568 13.665 15.763]\n",
      "selection: [18.463 20.073 21.683]\n"
     ]
    }
   ],
   "source": [
    "# shared change due to Acidic selection\n",
    "\n",
    "sample_names = ['AA-1', 'AA-2', 'AA-3', 'AA-4', 'AH-1', 'AH-2', 'AH-3', 'AH-4', 'HA-1', 'HA-2', 'HA-3', 'HA-4', 'HH-1', 'HH-2', 'HH-3', 'HH-4' ]\n",
    "# rows and cols should match sample names, above\n",
    "gw_covs = d.calc_cov()\n",
    "\n",
    "# need function to bootstrap over\n",
    "def unique_shared(cov):\n",
    "    shared = (cov[4,5] + cov[4,6] + cov[4,7] + cov[5,6] + cov[5,7] + cov[6,7])/6  \n",
    "    lab = (cov[0,5] + cov[0,6] + cov[0,7] + cov[1,4] + cov[1,6] + cov[1,7] + cov[2,4] + cov[2,5] + cov[2,7] + cov[3,4] + cov[3,5] + cov[3,6])/12\n",
    "    total = (cov[4,4] + cov[5,5] + cov[6,6] + cov[7,7])/4\n",
    "    return shared, lab, total\n",
    "\n",
    "shared, lab, total = unique_shared(gw_covs)\n",
    "\n",
    "selection = (shared - lab)/total\n",
    "\n",
    "## bootstrap\n",
    "\n",
    "B = 5000\n",
    "windowed_stats = np.array([unique_shared(win) for win in windowed_covs])\n",
    "\n",
    "shared_straps, lab_straps, total_straps, selection_straps = [], [], [], []\n",
    "for b in np.arange(B):\n",
    "    bidx = np.random.randint(0, len(windowed_covs), len(windowed_covs))\n",
    "    s, l, t = windowed_stats[bidx, :].mean(axis=0)\n",
    "    shared_straps.append(s/t)\n",
    "    lab_straps.append(l/t)\n",
    "    selection_straps.append((s-l)/t)\n",
    "    total_straps.append(t)\n",
    "\n",
    "\n",
    "acidic_total_var = (bootstrap_ci(total,total_straps, method=\"standard\")).round(4)\n",
    "acidic_shared_var = (bootstrap_ci(shared/total,shared_straps, method=\"standard\")*100).round(3)\n",
    "acidic_lab_var = (bootstrap_ci(lab/total,lab_straps, method=\"standard\")*100).round(3)\n",
    "acidic_selection_var = (bootstrap_ci(selection,selection_straps, method=\"standard\")*100).round(3)\n",
    "\n",
    "print('total variance:', acidic_total_var)\n",
    "print('shared:', acidic_shared_var)\n",
    "print('lab:', acidic_lab_var)\n",
    "print('selection:', acidic_selection_var)"
   ]
  },
  {
   "cell_type": "markdown",
   "metadata": {},
   "source": [
    "### repeat for Warm"
   ]
  },
  {
   "cell_type": "code",
   "execution_count": 66,
   "metadata": {},
   "outputs": [
    {
     "name": "stdout",
     "output_type": "stream",
     "text": [
      "total variance: [0.0399 0.041  0.0422]\n",
      "shared: [64.298 65.237 66.177]\n",
      "lab: [ 7.423  8.771 10.12 ]\n",
      "selection: [55.064 56.466 57.868]\n"
     ]
    }
   ],
   "source": [
    "# shared change due to Warm selection\n",
    "def unique_shared(cov):\n",
    "    shared = (cov[8,9] + cov[8,10] + cov[8,11] + cov[9,10] + cov[9,11] + cov[10,11])/6  \n",
    "    lab = (cov[0,9] + cov[0,10] + cov[0,11] + cov[1,8] + cov[1,10] + cov[1,11] + cov[2,8] + cov[2,9]+ cov[2,11] + cov[3,8] + cov[3,9] +cov[3,10])/12\n",
    "    total = (cov[8,8] + cov[9,9] + cov[10,10] + cov[11,11])/4\n",
    "    return shared, lab, total\n",
    "\n",
    "shared, lab, total = unique_shared(gw_covs)\n",
    "\n",
    "selection = (shared - lab)/total\n",
    "\n",
    "## bootstrap\n",
    "\n",
    "B = 5000\n",
    "windowed_stats = np.array([unique_shared(win) for win in windowed_covs])\n",
    "\n",
    "shared_straps, lab_straps, total_straps, selection_straps = [], [], [], []\n",
    "for b in np.arange(B):\n",
    "    bidx = np.random.randint(0, len(windowed_covs), len(windowed_covs))\n",
    "    s, l, t = windowed_stats[bidx, :].mean(axis=0)\n",
    "    shared_straps.append(s/t)\n",
    "    lab_straps.append(l/t)\n",
    "    selection_straps.append((s-l)/t)\n",
    "    total_straps.append(t)\n",
    "\n",
    "\n",
    "warm_total_var = (bootstrap_ci(total,total_straps, method=\"standard\")).round(4)\n",
    "warm_shared_var = (bootstrap_ci(shared/total,shared_straps, method=\"standard\")*100).round(3)\n",
    "warm_lab_var = (bootstrap_ci(lab/total,lab_straps, method=\"standard\")*100).round(3)\n",
    "warm_selection_var = (bootstrap_ci(selection,selection_straps, method=\"standard\")*100).round(3)\n",
    "\n",
    "print('total variance:', warm_total_var)\n",
    "print('shared:', warm_shared_var)\n",
    "print('lab:', warm_lab_var)\n",
    "print('selection:', warm_selection_var)"
   ]
  },
  {
   "cell_type": "markdown",
   "metadata": {},
   "source": [
    "### Repeat for GH"
   ]
  },
  {
   "cell_type": "code",
   "execution_count": 67,
   "metadata": {},
   "outputs": [
    {
     "name": "stdout",
     "output_type": "stream",
     "text": [
      "total variance: [0.0521 0.0536 0.0551]\n",
      "shared: [66.888 67.615 68.343]\n",
      "lab: [3.464 4.442 5.421]\n",
      "selection: [62.114 63.173 64.232]\n"
     ]
    }
   ],
   "source": [
    "# shared change due to GH selection\n",
    "def unique_shared(cov):\n",
    "    shared = (cov[12,13] + cov[12,14] + cov[12,15] + cov[13,14] + cov[13,15] + cov[14,15])/6  \n",
    "    lab = (cov[0,13] + cov[0,14] + cov[0,15] + cov[1,12] + cov[1,14] + cov[1,15] + cov[2,12] + cov[2,13] + cov[2,15] + cov[3,12] + cov[3,13] +cov[3,14])/12\n",
    "    total = (cov[12,12] + cov[13,13] + cov[14,14] + cov[15,15])/4\n",
    "    return shared, lab, total\n",
    "\n",
    "shared, lab, total = unique_shared(gw_covs)\n",
    "\n",
    "selection = (shared - lab)/total\n",
    "\n",
    "## bootstrap\n",
    "\n",
    "B = 5000\n",
    "windowed_stats = np.array([unique_shared(win) for win in windowed_covs])\n",
    "\n",
    "shared_straps, lab_straps, total_straps, selection_straps = [], [], [], []\n",
    "for b in np.arange(B):\n",
    "    bidx = np.random.randint(0, len(windowed_covs), len(windowed_covs))\n",
    "    s, l, t = windowed_stats[bidx, :].mean(axis=0)\n",
    "    shared_straps.append(s/t)\n",
    "    lab_straps.append(l/t)\n",
    "    selection_straps.append((s-l)/t)\n",
    "    total_straps.append(t)\n",
    "\n",
    "\n",
    "GH_total_var = (bootstrap_ci(total,total_straps, method=\"standard\")).round(4)\n",
    "GH_shared_var = (bootstrap_ci(shared/total,shared_straps, method=\"standard\")*100).round(3)\n",
    "GH_lab_var = (bootstrap_ci(lab/total,lab_straps, method=\"standard\")*100).round(3)\n",
    "GH_selection_var = (bootstrap_ci(selection,selection_straps, method=\"standard\")*100).round(3)\n",
    "\n",
    "print('total variance:', GH_total_var)\n",
    "print('shared:', GH_shared_var)\n",
    "print('lab:', GH_lab_var)\n",
    "print('selection:', GH_selection_var)"
   ]
  },
  {
   "cell_type": "markdown",
   "metadata": {},
   "source": [
    "## Shared response between treatments:\n",
    "\n",
    "shared_cov = mean(cov between replicates of the two treatments)  \n",
    "lab_cov = mean(cov between each replicate and the control)\n",
    "\n",
    "then the total shared covariance without lab effects:\n",
    "\n",
    "(shared_cov - lab_cov) / (total variance)"
   ]
  },
  {
   "cell_type": "code",
   "execution_count": 68,
   "metadata": {},
   "outputs": [
    {
     "name": "stdout",
     "output_type": "stream",
     "text": [
      "total variance: [0.0381 0.039  0.0399]\n",
      "shared: [7.037 8.441 9.844]\n",
      "lab: [6.12  7.323 8.527]\n",
      "selection: [0.021 1.117 2.213]\n"
     ]
    }
   ],
   "source": [
    "# shared change in Acidic vs GH\n",
    "\n",
    "def unique_shared(cov):\n",
    "    shared = (cov[4,13] + cov[4,14] + cov[4,15] + cov[5,12] + cov[5,14] + \\\n",
    "                  cov[5,15] + cov[6,12] + cov[6,13] + cov[6,15] + cov[7,12] + cov[7,13] + \\\n",
    "                  cov[7,14])/12\n",
    "    lab = (cov[0,5] + cov[0,6] + cov[0,7] + cov[1,4] + cov[1,6] + cov[1,7] + \\\n",
    "               cov[2,4] + cov[2,5] + cov[2,7] + cov[3,4] + cov[3,5] + cov[3,6] + \\\n",
    "               cov[0,13] + cov[0,14] + cov[0,15] + cov[1,12] + cov[1,14] + cov[1,15] + \\\n",
    "               cov[2,12] + cov[2,13] + cov[2,15] + cov[3,12] + cov[3,13] + cov[3,14])/24\n",
    "    total = (cov[4,4] + cov[5,5] + cov[6,6] + cov[7,7] + cov[12,12] + cov[13,13] + cov[14,14] + cov[15,15] )/8\n",
    "    return shared, lab, total\n",
    "\n",
    "shared, lab, total = unique_shared(gw_covs)\n",
    "\n",
    "selection = (shared - lab)\n",
    "\n",
    "## bootstrap\n",
    "\n",
    "B = 5000\n",
    "windowed_stats = np.array([unique_shared(win) for win in windowed_covs])\n",
    "\n",
    "shared_straps, lab_straps, total_straps, selection_straps = [], [], [], []\n",
    "for b in np.arange(B):\n",
    "    bidx = np.random.randint(0, len(windowed_covs), len(windowed_covs))\n",
    "    s, l, t = windowed_stats[bidx, :].mean(axis=0)\n",
    "    shared_straps.append(s/t)\n",
    "    lab_straps.append(l/t)\n",
    "    selection_straps.append((s-l)/t)\n",
    "    total_straps.append(t)\n",
    "\n",
    "GH_ac_total_var = (bootstrap_ci(total,total_straps, method=\"standard\")).round(4)\n",
    "GH_ac_shared_var = (bootstrap_ci(shared/total,shared_straps, method=\"standard\")*100).round(3)\n",
    "GH_ac_lab_var = (bootstrap_ci(lab/total,lab_straps, method=\"standard\")*100).round(3)\n",
    "GH_ac_selection_var = (bootstrap_ci(selection/total,selection_straps, method=\"standard\")*100).round(3)\n",
    "\n",
    "print('total variance:', GH_ac_total_var)\n",
    "print('shared:', GH_ac_shared_var)\n",
    "print('lab:', GH_ac_lab_var)\n",
    "print('selection:', GH_ac_selection_var)"
   ]
  },
  {
   "cell_type": "code",
   "execution_count": 69,
   "metadata": {},
   "outputs": [
    {
     "name": "stdout",
     "output_type": "stream",
     "text": [
      "total variance: [0.032  0.0327 0.0334]\n",
      "shared: [ 8.869 10.348 11.827]\n",
      "lab: [ 9.122 10.594 12.066]\n",
      "selection: [-1.359 -0.246  0.867]\n"
     ]
    }
   ],
   "source": [
    "# shared change in Acidic vs Warm\n",
    "\n",
    "# ambi: 0, 1, 2, 3\n",
    "# acid: 4, 5, 6, 7\n",
    "# warm: 8, 9, 10,11\n",
    "\n",
    "def unique_shared(cov):\n",
    "    shared = (cov[4,9] + cov[4,10] + cov[4,11] + cov[5,8] + cov[5,10] + \\\n",
    "              cov[5,11] + cov[6,8] + cov[6,9] + cov[6,11] + cov[7,8] + cov[7,9] + \\\n",
    "              cov[7,10])/12\n",
    "    lab = (cov[0,5] + cov[0,6] + cov[0,7] + cov[1,4] + cov[1,6] + cov[1,7] + \\\n",
    "               cov[2,4] + cov[2,5] + cov[2,7] + cov[3,4] + cov[3,5] + cov[3,6] + \\\n",
    "               cov[0,9] + cov[0,10] + cov[0,11] + cov[1,8] + cov[1,10] + cov[1,11] + \\\n",
    "               cov[2,8] + cov[2,9] + cov[2,11] + cov[3,8] + cov[3,9] + cov[3,10])/24\n",
    "    total = (cov[4,4] + cov[5,5] + cov[6,6] + cov[7,7] + cov[8,8] + cov[9,9] + cov[10,10] + cov[11,11] )/8\n",
    "    return shared, lab, total\n",
    "\\\n",
    "shared, lab, total = unique_shared(gw_covs)\n",
    "\n",
    "selection = (shared - lab)\n",
    "\n",
    "## bootstrap\n",
    "\n",
    "B = 5000\n",
    "windowed_stats = np.array([unique_shared(win) for win in windowed_covs])\n",
    "\n",
    "shared_straps, lab_straps, total_straps, selection_straps = [], [], [], []\n",
    "for b in np.arange(B):\n",
    "    bidx = np.random.randint(0, len(windowed_covs), len(windowed_covs))\n",
    "    s, l, t = windowed_stats[bidx, :].mean(axis=0)\n",
    "    shared_straps.append(s/t)\n",
    "    lab_straps.append(l/t)\n",
    "    selection_straps.append((s-l)/t)\n",
    "    total_straps.append(t)\n",
    "\n",
    "wm_ac_total_var = (bootstrap_ci(total,total_straps, method=\"standard\")).round(4)\n",
    "wm_ac_shared_var = (bootstrap_ci(shared/total,shared_straps, method=\"standard\")*100).round(3)\n",
    "wm_ac_lab_var = (bootstrap_ci(lab/total,lab_straps, method=\"standard\")*100).round(3)\n",
    "wm_ac_selection_var = (bootstrap_ci(selection/total,selection_straps, method=\"standard\")*100).round(3)\n",
    "\n",
    "print('total variance:', wm_ac_total_var)\n",
    "print('shared:', wm_ac_shared_var)\n",
    "print('lab:', wm_ac_lab_var)\n",
    "print('selection:', wm_ac_selection_var)"
   ]
  },
  {
   "cell_type": "code",
   "execution_count": 70,
   "metadata": {},
   "outputs": [
    {
     "name": "stdout",
     "output_type": "stream",
     "text": [
      "total variance: [0.0461 0.0473 0.0485]\n",
      "shared: [42.283 43.454 44.625]\n",
      "lab: [5.237 6.319 7.402]\n",
      "selection: [35.856 37.135 38.415]\n"
     ]
    }
   ],
   "source": [
    "# shared change in GH vs Warm\n",
    "\n",
    "# ambi: 0, 1, 2, 3\n",
    "# acid: 4, 5, 6, 7\n",
    "# warm: 8, 9, 10,11\n",
    "# GH:   12,13,14,15\n",
    "def unique_shared(cov):\n",
    "    shared = (cov[12,9] + cov[12,10] + cov[12,11] + cov[13,8] + cov[13,10] + \\\n",
    "                  cov[13,11] + cov[14,8] + cov[14,9] + cov[14,11] + cov[15,8] + cov[15,9] + \\\n",
    "                  cov[15,10])/12\n",
    "    lab = (cov[0,13] + cov[0,14] + cov[0,15] + cov[1,12] + cov[1,14] + cov[1,15] + \\\n",
    "               cov[2,12] + cov[2,13] + cov[2,15] + cov[3,12] + cov[3,13] + cov[3,14] + \\\n",
    "               cov[0,9] + cov[0,10] + cov[0,11] + cov[1,8] + cov[1,10] + cov[1,11] + \\\n",
    "               cov[2,8] + cov[2,9] + cov[2,11] + cov[3,8] + cov[3,9] + cov[3,10])/24\n",
    "    total = (cov[12,12] + cov[13,13] + cov[14,14] + cov[15,15] + cov[8,8] + cov[9,9] + cov[10,10] + cov[11,11] )/8\n",
    "    return shared, lab, total\n",
    "\n",
    "shared, lab, total = unique_shared(gw_covs)\n",
    "\n",
    "selection = (shared - lab)\n",
    "\n",
    "## bootstrap\n",
    "\n",
    "B = 5000\n",
    "windowed_stats = np.array([unique_shared(win) for win in windowed_covs])\n",
    "\n",
    "shared_straps, lab_straps, total_straps, selection_straps = [], [], [], []\n",
    "for b in np.arange(B):\n",
    "    bidx = np.random.randint(0, len(windowed_covs), len(windowed_covs))\n",
    "    s, l, t = windowed_stats[bidx, :].mean(axis=0)\n",
    "    shared_straps.append(s/t)\n",
    "    lab_straps.append(l/t)\n",
    "    selection_straps.append((s-l)/t)\n",
    "    total_straps.append(t)\n",
    "\n",
    "GH_wm_total_var = (bootstrap_ci(total,total_straps, method=\"standard\")).round(4)\n",
    "GH_wm_shared_var = (bootstrap_ci(shared/total,shared_straps, method=\"standard\")*100).round(3)\n",
    "GH_wm_lab_var = (bootstrap_ci(lab/total,lab_straps, method=\"standard\")*100).round(3)\n",
    "GH_wm_selection_var = (bootstrap_ci(selection/total,selection_straps, method=\"standard\")*100).round(3)\n",
    "\n",
    "print('total variance:', GH_wm_total_var)\n",
    "print('shared:', GH_wm_shared_var)\n",
    "print('lab:', GH_wm_lab_var)\n",
    "print('selection:', GH_wm_selection_var)"
   ]
  },
  {
   "cell_type": "markdown",
   "metadata": {},
   "source": [
    "### save output from bootstraps for plotting"
   ]
  },
  {
   "cell_type": "code",
   "execution_count": 71,
   "metadata": {},
   "outputs": [
    {
     "data": {
      "text/html": [
       "<div>\n",
       "<style scoped>\n",
       "    .dataframe tbody tr th:only-of-type {\n",
       "        vertical-align: middle;\n",
       "    }\n",
       "\n",
       "    .dataframe tbody tr th {\n",
       "        vertical-align: top;\n",
       "    }\n",
       "\n",
       "    .dataframe thead th {\n",
       "        text-align: right;\n",
       "    }\n",
       "</style>\n",
       "<table border=\"1\" class=\"dataframe\">\n",
       "  <thead>\n",
       "    <tr style=\"text-align: right;\">\n",
       "      <th></th>\n",
       "      <th>treatment</th>\n",
       "      <th>var_group</th>\n",
       "      <th>lower_err</th>\n",
       "      <th>estimate</th>\n",
       "      <th>upper_err</th>\n",
       "    </tr>\n",
       "  </thead>\n",
       "  <tbody>\n",
       "    <tr>\n",
       "      <th>0</th>\n",
       "      <td>GH</td>\n",
       "      <td>total</td>\n",
       "      <td>0.0521</td>\n",
       "      <td>0.0536</td>\n",
       "      <td>0.0551</td>\n",
       "    </tr>\n",
       "    <tr>\n",
       "      <th>1</th>\n",
       "      <td>GH</td>\n",
       "      <td>shared</td>\n",
       "      <td>66.8880</td>\n",
       "      <td>67.6150</td>\n",
       "      <td>68.3430</td>\n",
       "    </tr>\n",
       "    <tr>\n",
       "      <th>2</th>\n",
       "      <td>GH</td>\n",
       "      <td>lab</td>\n",
       "      <td>3.4640</td>\n",
       "      <td>4.4420</td>\n",
       "      <td>5.4210</td>\n",
       "    </tr>\n",
       "    <tr>\n",
       "      <th>3</th>\n",
       "      <td>GH</td>\n",
       "      <td>selection</td>\n",
       "      <td>62.1140</td>\n",
       "      <td>63.1730</td>\n",
       "      <td>64.2320</td>\n",
       "    </tr>\n",
       "    <tr>\n",
       "      <th>4</th>\n",
       "      <td>warm</td>\n",
       "      <td>total</td>\n",
       "      <td>0.0399</td>\n",
       "      <td>0.0410</td>\n",
       "      <td>0.0422</td>\n",
       "    </tr>\n",
       "    <tr>\n",
       "      <th>5</th>\n",
       "      <td>warm</td>\n",
       "      <td>shared</td>\n",
       "      <td>64.2980</td>\n",
       "      <td>65.2370</td>\n",
       "      <td>66.1770</td>\n",
       "    </tr>\n",
       "    <tr>\n",
       "      <th>6</th>\n",
       "      <td>warm</td>\n",
       "      <td>lab</td>\n",
       "      <td>7.4230</td>\n",
       "      <td>8.7710</td>\n",
       "      <td>10.1200</td>\n",
       "    </tr>\n",
       "    <tr>\n",
       "      <th>7</th>\n",
       "      <td>warm</td>\n",
       "      <td>selection</td>\n",
       "      <td>55.0640</td>\n",
       "      <td>56.4660</td>\n",
       "      <td>57.8680</td>\n",
       "    </tr>\n",
       "    <tr>\n",
       "      <th>8</th>\n",
       "      <td>acidic</td>\n",
       "      <td>total</td>\n",
       "      <td>0.0237</td>\n",
       "      <td>0.0243</td>\n",
       "      <td>0.0250</td>\n",
       "    </tr>\n",
       "    <tr>\n",
       "      <th>9</th>\n",
       "      <td>acidic</td>\n",
       "      <td>shared</td>\n",
       "      <td>32.1760</td>\n",
       "      <td>33.7390</td>\n",
       "      <td>35.3010</td>\n",
       "    </tr>\n",
       "    <tr>\n",
       "      <th>10</th>\n",
       "      <td>acidic</td>\n",
       "      <td>lab</td>\n",
       "      <td>11.5680</td>\n",
       "      <td>13.6650</td>\n",
       "      <td>15.7630</td>\n",
       "    </tr>\n",
       "    <tr>\n",
       "      <th>11</th>\n",
       "      <td>acidic</td>\n",
       "      <td>selection</td>\n",
       "      <td>18.4630</td>\n",
       "      <td>20.0730</td>\n",
       "      <td>21.6830</td>\n",
       "    </tr>\n",
       "  </tbody>\n",
       "</table>\n",
       "</div>"
      ],
      "text/plain": [
       "   treatment  var_group  lower_err  estimate  upper_err\n",
       "0         GH      total     0.0521    0.0536     0.0551\n",
       "1         GH     shared    66.8880   67.6150    68.3430\n",
       "2         GH        lab     3.4640    4.4420     5.4210\n",
       "3         GH  selection    62.1140   63.1730    64.2320\n",
       "4       warm      total     0.0399    0.0410     0.0422\n",
       "5       warm     shared    64.2980   65.2370    66.1770\n",
       "6       warm        lab     7.4230    8.7710    10.1200\n",
       "7       warm  selection    55.0640   56.4660    57.8680\n",
       "8     acidic      total     0.0237    0.0243     0.0250\n",
       "9     acidic     shared    32.1760   33.7390    35.3010\n",
       "10    acidic        lab    11.5680   13.6650    15.7630\n",
       "11    acidic  selection    18.4630   20.0730    21.6830"
      ]
     },
     "execution_count": 71,
     "metadata": {},
     "output_type": "execute_result"
    }
   ],
   "source": [
    "data= [['GH', 'total',GH_total_var[0],GH_total_var[1],GH_total_var[2]],\n",
    "    ['GH', 'shared',GH_shared_var[0],GH_shared_var[1],GH_shared_var[2]],\n",
    "    ['GH', 'lab',GH_lab_var[0],GH_lab_var[1],GH_lab_var[2]],\n",
    "    ['GH', 'selection',GH_selection_var[0],GH_selection_var[1],GH_selection_var[2]],\n",
    "    ['warm', 'total',warm_total_var[0],warm_total_var[1],warm_total_var[2]],\n",
    "    ['warm', 'shared',warm_shared_var[0],warm_shared_var[1],warm_shared_var[2]],\n",
    "    ['warm', 'lab',warm_lab_var[0],warm_lab_var[1],warm_lab_var[2]],\n",
    "    ['warm', 'selection',warm_selection_var[0],warm_selection_var[1],warm_selection_var[2]],\n",
    "    ['acidic', 'total',acidic_total_var[0],acidic_total_var[1],acidic_total_var[2]],\n",
    "    ['acidic', 'shared',acidic_shared_var[0],acidic_shared_var[1],acidic_shared_var[2]],\n",
    "    ['acidic', 'lab',acidic_lab_var[0],acidic_lab_var[1],acidic_lab_var[2]],\n",
    "    ['acidic', 'selection',acidic_selection_var[0],acidic_selection_var[1],acidic_selection_var[2]]]\n",
    "\n",
    "# create df:\n",
    "df = pd.DataFrame(data, columns = ['treatment', 'var_group', 'lower_err', 'estimate', 'upper_err'])\n",
    "df.to_csv('/users/r/b/rbrennan/tonsa_genomics/analysis/total_variance.csv', index=False)\n",
    "df"
   ]
  },
  {
   "cell_type": "code",
   "execution_count": 72,
   "metadata": {},
   "outputs": [
    {
     "data": {
      "text/html": [
       "<div>\n",
       "<style scoped>\n",
       "    .dataframe tbody tr th:only-of-type {\n",
       "        vertical-align: middle;\n",
       "    }\n",
       "\n",
       "    .dataframe tbody tr th {\n",
       "        vertical-align: top;\n",
       "    }\n",
       "\n",
       "    .dataframe thead th {\n",
       "        text-align: right;\n",
       "    }\n",
       "</style>\n",
       "<table border=\"1\" class=\"dataframe\">\n",
       "  <thead>\n",
       "    <tr style=\"text-align: right;\">\n",
       "      <th></th>\n",
       "      <th>treatment</th>\n",
       "      <th>var_group</th>\n",
       "      <th>lower_err</th>\n",
       "      <th>estimate</th>\n",
       "      <th>upper_err</th>\n",
       "    </tr>\n",
       "  </thead>\n",
       "  <tbody>\n",
       "    <tr>\n",
       "      <th>0</th>\n",
       "      <td>GH_warm</td>\n",
       "      <td>total</td>\n",
       "      <td>0.0461</td>\n",
       "      <td>0.0473</td>\n",
       "      <td>0.0485</td>\n",
       "    </tr>\n",
       "    <tr>\n",
       "      <th>1</th>\n",
       "      <td>GH_warm</td>\n",
       "      <td>shared</td>\n",
       "      <td>42.2830</td>\n",
       "      <td>43.4540</td>\n",
       "      <td>44.6250</td>\n",
       "    </tr>\n",
       "    <tr>\n",
       "      <th>2</th>\n",
       "      <td>GH_warm</td>\n",
       "      <td>lab</td>\n",
       "      <td>5.2370</td>\n",
       "      <td>6.3190</td>\n",
       "      <td>7.4020</td>\n",
       "    </tr>\n",
       "    <tr>\n",
       "      <th>3</th>\n",
       "      <td>GH_warm</td>\n",
       "      <td>selection</td>\n",
       "      <td>35.8560</td>\n",
       "      <td>37.1350</td>\n",
       "      <td>38.4150</td>\n",
       "    </tr>\n",
       "    <tr>\n",
       "      <th>4</th>\n",
       "      <td>warm_acidic</td>\n",
       "      <td>total</td>\n",
       "      <td>0.0320</td>\n",
       "      <td>0.0327</td>\n",
       "      <td>0.0334</td>\n",
       "    </tr>\n",
       "    <tr>\n",
       "      <th>5</th>\n",
       "      <td>warm_acidic</td>\n",
       "      <td>shared</td>\n",
       "      <td>8.8690</td>\n",
       "      <td>10.3480</td>\n",
       "      <td>11.8270</td>\n",
       "    </tr>\n",
       "    <tr>\n",
       "      <th>6</th>\n",
       "      <td>warm_acidic</td>\n",
       "      <td>lab</td>\n",
       "      <td>9.1220</td>\n",
       "      <td>10.5940</td>\n",
       "      <td>12.0660</td>\n",
       "    </tr>\n",
       "    <tr>\n",
       "      <th>7</th>\n",
       "      <td>warm_acidic</td>\n",
       "      <td>selection</td>\n",
       "      <td>-1.3590</td>\n",
       "      <td>-0.2460</td>\n",
       "      <td>0.8670</td>\n",
       "    </tr>\n",
       "    <tr>\n",
       "      <th>8</th>\n",
       "      <td>GH_acidic</td>\n",
       "      <td>total</td>\n",
       "      <td>0.0381</td>\n",
       "      <td>0.0390</td>\n",
       "      <td>0.0399</td>\n",
       "    </tr>\n",
       "    <tr>\n",
       "      <th>9</th>\n",
       "      <td>GH_acidic</td>\n",
       "      <td>shared</td>\n",
       "      <td>7.0370</td>\n",
       "      <td>8.4410</td>\n",
       "      <td>9.8440</td>\n",
       "    </tr>\n",
       "    <tr>\n",
       "      <th>10</th>\n",
       "      <td>GH_acidic</td>\n",
       "      <td>lab</td>\n",
       "      <td>6.1200</td>\n",
       "      <td>7.3230</td>\n",
       "      <td>8.5270</td>\n",
       "    </tr>\n",
       "    <tr>\n",
       "      <th>11</th>\n",
       "      <td>GH_acidic</td>\n",
       "      <td>selection</td>\n",
       "      <td>0.0210</td>\n",
       "      <td>1.1170</td>\n",
       "      <td>2.2130</td>\n",
       "    </tr>\n",
       "  </tbody>\n",
       "</table>\n",
       "</div>"
      ],
      "text/plain": [
       "      treatment  var_group  lower_err  estimate  upper_err\n",
       "0       GH_warm      total     0.0461    0.0473     0.0485\n",
       "1       GH_warm     shared    42.2830   43.4540    44.6250\n",
       "2       GH_warm        lab     5.2370    6.3190     7.4020\n",
       "3       GH_warm  selection    35.8560   37.1350    38.4150\n",
       "4   warm_acidic      total     0.0320    0.0327     0.0334\n",
       "5   warm_acidic     shared     8.8690   10.3480    11.8270\n",
       "6   warm_acidic        lab     9.1220   10.5940    12.0660\n",
       "7   warm_acidic  selection    -1.3590   -0.2460     0.8670\n",
       "8     GH_acidic      total     0.0381    0.0390     0.0399\n",
       "9     GH_acidic     shared     7.0370    8.4410     9.8440\n",
       "10    GH_acidic        lab     6.1200    7.3230     8.5270\n",
       "11    GH_acidic  selection     0.0210    1.1170     2.2130"
      ]
     },
     "execution_count": 72,
     "metadata": {},
     "output_type": "execute_result"
    }
   ],
   "source": [
    "# then save the treatment covariances\n",
    "data= [['GH_warm', 'total',GH_wm_total_var[0],GH_wm_total_var[1],GH_wm_total_var[2]],\n",
    "    ['GH_warm', 'shared',GH_wm_shared_var[0],GH_wm_shared_var[1],GH_wm_shared_var[2]],\n",
    "    ['GH_warm', 'lab',GH_wm_lab_var[0],GH_wm_lab_var[1],GH_wm_lab_var[2]],\n",
    "    ['GH_warm', 'selection',GH_wm_selection_var[0],GH_wm_selection_var[1],GH_wm_selection_var[2]],\n",
    "    ['warm_acidic', 'total',    wm_ac_total_var[0],wm_ac_total_var[1],wm_ac_total_var[2]],\n",
    "    ['warm_acidic', 'shared',   wm_ac_shared_var[0],wm_ac_shared_var[1],wm_ac_shared_var[2]],\n",
    "    ['warm_acidic', 'lab',      wm_ac_lab_var[0],wm_ac_lab_var[1],wm_ac_lab_var[2]],\n",
    "    ['warm_acidic', 'selection',wm_ac_selection_var[0],wm_ac_selection_var[1],wm_ac_selection_var[2]],\n",
    "    ['GH_acidic', 'total',      GH_ac_total_var[0],GH_ac_total_var[1],GH_ac_total_var[2]],\n",
    "    ['GH_acidic', 'shared',     GH_ac_shared_var[0],GH_ac_shared_var[1],GH_ac_shared_var[2]],\n",
    "    ['GH_acidic', 'lab',        GH_ac_lab_var[0],GH_ac_lab_var[1],GH_ac_lab_var[2]],\n",
    "    ['GH_acidic', 'selection',  GH_ac_selection_var[0],GH_ac_selection_var[1],GH_ac_selection_var[2]]]\n",
    "\n",
    "# create df:\n",
    "df = pd.DataFrame(data, columns = ['treatment', 'var_group', 'lower_err', 'estimate', 'upper_err'])\n",
    "\n",
    "df.to_csv('/users/r/b/rbrennan/tonsa_genomics/analysis/shared_variance.csv', index=False)\n",
    "\n",
    "df"
   ]
  },
  {
   "cell_type": "code",
   "execution_count": null,
   "metadata": {},
   "outputs": [],
   "source": []
  }
 ],
 "metadata": {
  "kernelspec": {
   "display_name": "Python 3",
   "language": "python",
   "name": "python3"
  },
  "language_info": {
   "codemirror_mode": {
    "name": "ipython",
    "version": 3
   },
   "file_extension": ".py",
   "mimetype": "text/x-python",
   "name": "python",
   "nbconvert_exporter": "python",
   "pygments_lexer": "ipython3",
   "version": "3.8.3"
  }
 },
 "nbformat": 4,
 "nbformat_minor": 4
}
