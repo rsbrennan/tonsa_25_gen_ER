{
 "cells": [
  {
   "cell_type": "markdown",
   "metadata": {},
   "source": [
    "# Castro et al. (2019) Data Processing and Analysis"
   ]
  },
  {
   "cell_type": "markdown",
   "metadata": {},
   "source": [
    "## Setup"
   ]
  },
  {
   "cell_type": "code",
   "execution_count": 2,
   "metadata": {},
   "outputs": [],
   "source": [
    "import os\n",
    "import sys\n",
    "import glob\n",
    "nb_dir = os.path.split(os.getcwd())[0]\n",
    "if nb_dir not in sys.path:\n",
    "    sys.path.append(nb_dir)\n",
    "%load_ext autoreload\n",
    "%autoreload 2\n",
    "%reload_ext autoreload"
   ]
  },
  {
   "cell_type": "code",
   "execution_count": 3,
   "metadata": {},
   "outputs": [],
   "source": [
    "import re\n",
    "import pickle\n",
    "from collections import Counter\n",
    "from functools import reduce\n",
    "\n",
    "import pandas as pd\n",
    "import scipy\n",
    "from collections import defaultdict\n",
    "import numpy as np\n",
    "import matplotlib.pyplot as plt\n",
    "from matplotlib import cm\n",
    "import matplotlib as mpl"
   ]
  },
  {
   "cell_type": "code",
   "execution_count": 4,
   "metadata": {},
   "outputs": [],
   "source": [
    "from cvtk.cvtk import TemporalFreqs, TiledTemporalFreqs\n",
    "from cvtk.cov import stack_temporal_covariances\n",
    "import cvtk.variant_files as vf\n",
    "from cvtk.gintervals import GenomicIntervals\n",
    "from cvtk.pca import FreqPCA\n",
    "from cvtk.plots import rep_plot_pca, correction_diagnostic_plot\n",
    "from cvtk.utils import integerize\n",
    "from cvtk.utils import extract_empirical_nulls_diagonals, extract_temporal_cov_diagonals\n",
    "from cvtk.cov import stack_replicate_covariances, stack_temporal_covs_by_group\n",
    "from cvtk.variant_files import VCFFile"
   ]
  },
  {
   "cell_type": "code",
   "execution_count": 5,
   "metadata": {},
   "outputs": [],
   "source": [
    "%matplotlib inline\n",
    "#%config InlineBackend.figure_format = 'svg'\n",
    "mpl.rcParams['figure.figsize'] = (8.0, 4.0)\n",
    "mpl.rcParams['figure.dpi'] = 200"
   ]
  },
  {
   "cell_type": "markdown",
   "metadata": {},
   "source": [
    "# Varianta Data Loading"
   ]
  },
  {
   "cell_type": "markdown",
   "metadata": {},
   "source": [
    "### Load in VCF data"
   ]
  },
  {
   "cell_type": "code",
   "execution_count": 7,
   "metadata": {},
   "outputs": [
    {
     "name": "stdout",
     "output_type": "stream",
     "text": [
      "reading file '../data/castro_et_al_2019/beagle_genMap.all.impute.vcf.gz'...\n",
      "file '../data/castro_et_al_2019/beagle_genMap.all.impute.vcf.gz' loaded.\n",
      "total time to load VCF file: 9.346558225154876 mins.\n"
     ]
    }
   ],
   "source": [
    "vcf = VCFFile('../data/castro_et_al_2019/beagle_genMap.all.impute.vcf.gz')"
   ]
  },
  {
   "cell_type": "markdown",
   "metadata": {},
   "source": [
    "Remove fixed sites — those that are not polymorphic in any samples / timepoints. These just needlessly shrink the covariance towards zero."
   ]
  },
  {
   "cell_type": "markdown",
   "metadata": {},
   "source": [
    "### Sample Data\n",
    "\n",
    "The samples names to line/generation mapping was not in a simple text file, but I found the relevant information in the vcftools commands that were at the beginning of the file `Longshanks_F0F17.summary_stats.tar.gz`. From this I created `samples.txt`, which is read in and parsed below."
   ]
  },
  {
   "cell_type": "code",
   "execution_count": 8,
   "metadata": {},
   "outputs": [],
   "source": [
    "samples = pd.read_csv(\"../data/castro_et_al_2019/samples.txt\", header=None, names = ('line', 'individual'))\n",
    "sample_map = {k:v for k, v in zip(samples['individual'], samples['line'])}\n",
    "\n",
    "subpop_indices = defaultdict(list)\n",
    "for i, k in enumerate(vcf.samples):\n",
    "    subpop_indices[sample_map[k.decode()]].append(i)"
   ]
  },
  {
   "cell_type": "markdown",
   "metadata": {},
   "source": [
    "From this, we can map the `vcf.geno_mat` table to subpopulation counts. "
   ]
  },
  {
   "cell_type": "code",
   "execution_count": 9,
   "metadata": {},
   "outputs": [
    {
     "name": "stderr",
     "output_type": "stream",
     "text": [
      "/home/vsb/miniconda3/envs/cvtk/lib/python3.7/site-packages/IPython/core/interactiveshell.py:3331: FutureWarning: arrays to stack must be passed as a \"sequence\" type such as list or tuple. Support for non-sequence iterables such as generators is deprecated as of NumPy 1.16 and will raise an error in the future.\n",
      "  exec(code_obj, self.user_global_ns, self.user_ns)\n"
     ]
    }
   ],
   "source": [
    "counts_mat = vcf.count_alleles_subpops(subpop_indices)"
   ]
  },
  {
   "cell_type": "code",
   "execution_count": 10,
   "metadata": {},
   "outputs": [
    {
     "data": {
      "text/plain": [
       "dict_keys(['Ctrl_F17', 'LS1_F17', 'LS2_F17', 'Ctrl_F0', 'LS1_F0', 'LS2_F0'])"
      ]
     },
     "execution_count": 10,
     "metadata": {},
     "output_type": "execute_result"
    }
   ],
   "source": [
    "vcf.subpops"
   ]
  },
  {
   "cell_type": "markdown",
   "metadata": {},
   "source": [
    "Now we count the number of diploids in each sample."
   ]
  },
  {
   "cell_type": "code",
   "execution_count": 11,
   "metadata": {},
   "outputs": [],
   "source": [
    "ndiploids = [Counter(sample_map.values())[k] for k in vcf.subpops]"
   ]
  },
  {
   "cell_type": "code",
   "execution_count": 12,
   "metadata": {},
   "outputs": [],
   "source": [
    "def parse_samples(x):\n",
    "    line, gen = x.split('_')\n",
    "    return (line, gen[1:])\n",
    "\n",
    "design = [parse_samples(x) for x in vcf.subpops]"
   ]
  },
  {
   "cell_type": "code",
   "execution_count": 13,
   "metadata": {},
   "outputs": [],
   "source": [
    "freq_mat_all = vcf.calc_freqs()"
   ]
  },
  {
   "cell_type": "code",
   "execution_count": 14,
   "metadata": {},
   "outputs": [
    {
     "name": "stdout",
     "output_type": "stream",
     "text": [
      "number of loci:  31944210\n"
     ]
    }
   ],
   "source": [
    "print(\"number of loci: \", freq_mat_all.shape[1])"
   ]
  },
  {
   "cell_type": "markdown",
   "metadata": {},
   "source": [
    "With the frequencies calculated, now we filter out all non-segregating sites."
   ]
  },
  {
   "cell_type": "code",
   "execution_count": 15,
   "metadata": {},
   "outputs": [
    {
     "name": "stdout",
     "output_type": "stream",
     "text": [
      "number of loci:  8162172\n",
      "loci not segregating removed:  23782038\n"
     ]
    }
   ],
   "source": [
    "vcf.remove_fixed()\n",
    "freq_mat = vcf.calc_freqs()\n",
    "print(\"number of loci: \", freq_mat.shape[1])\n",
    "print(\"loci not segregating removed: \", freq_mat_all.shape[1] - freq_mat.shape[1])"
   ]
  },
  {
   "cell_type": "code",
   "execution_count": 16,
   "metadata": {},
   "outputs": [],
   "source": [
    "gi = vcf.build_gintervals()"
   ]
  },
  {
   "cell_type": "markdown",
   "metadata": {},
   "source": [
    "## Replicate Covariance Analysis"
   ]
  },
  {
   "cell_type": "code",
   "execution_count": 17,
   "metadata": {},
   "outputs": [],
   "source": [
    "tile_width = 10e6\n",
    "gi.infer_seqlens()\n",
    "tiles = GenomicIntervals.from_tiles(gi.seqlens, width=tile_width)"
   ]
  },
  {
   "cell_type": "code",
   "execution_count": 18,
   "metadata": {},
   "outputs": [],
   "source": [
    "d = TiledTemporalFreqs(tiles, freqs=freq_mat, depths=vcf.N, diploids=ndiploids, samples=design, gintervals=gi)"
   ]
  },
  {
   "cell_type": "code",
   "execution_count": 87,
   "metadata": {},
   "outputs": [
    {
     "data": {
      "text/plain": [
       "(3, 2, 8162172)"
      ]
     },
     "execution_count": 87,
     "metadata": {},
     "output_type": "execute_result"
    }
   ],
   "source": [
    "d.freqs.shape"
   ]
  },
  {
   "cell_type": "code",
   "execution_count": 19,
   "metadata": {},
   "outputs": [
    {
     "data": {
      "text/plain": [
       "[('Ctrl', '0'),\n",
       " ('Ctrl', '17'),\n",
       " ('LS1', '0'),\n",
       " ('LS1', '17'),\n",
       " ('LS2', '0'),\n",
       " ('LS2', '17')]"
      ]
     },
     "execution_count": 19,
     "metadata": {},
     "output_type": "execute_result"
    }
   ],
   "source": [
    "d.samples"
   ]
  },
  {
   "cell_type": "code",
   "execution_count": 20,
   "metadata": {},
   "outputs": [],
   "source": [
    "autosomes = list(set(gi.intervals.keys()) - set('chrX'))"
   ]
  },
  {
   "cell_type": "code",
   "execution_count": 21,
   "metadata": {},
   "outputs": [
    {
     "data": {
      "application/vnd.jupyter.widget-view+json": {
       "model_id": "8e124544ca094d02bb27526bbc4d44c4",
       "version_major": 2,
       "version_minor": 0
      },
      "text/plain": [
       "HBox(children=(FloatProgress(value=0.0, description='bootstraps', max=5000.0, style=ProgressStyle(description_…"
      ]
     },
     "metadata": {},
     "output_type": "display_data"
    },
    {
     "name": "stdout",
     "output_type": "stream",
     "text": [
      "\n"
     ]
    }
   ],
   "source": [
    "covs_cis = d.bootstrap_cov(B=5000, keep_seqids=autosomes, average_replicates=False, progress_bar=True)"
   ]
  },
  {
   "cell_type": "code",
   "execution_count": 22,
   "metadata": {},
   "outputs": [
    {
     "data": {
      "text/plain": [
       "array([[[ 0.07650138, -0.0200637 , -0.01453671],\n",
       "        [-0.0200637 ,  0.1076956 ,  0.0130842 ],\n",
       "        [-0.01453671,  0.0130842 ,  0.12422544]],\n",
       "\n",
       "       [[ 0.10294168, -0.00699108, -0.00235625],\n",
       "        [-0.00699108,  0.13691369,  0.02631757],\n",
       "        [-0.00235625,  0.02631757,  0.16493685]],\n",
       "\n",
       "       [[ 0.11889015,  0.00682645,  0.01455945],\n",
       "        [ 0.00682645,  0.15482518,  0.03951696],\n",
       "        [ 0.01455945,  0.03951696,  0.18938609]]])"
      ]
     },
     "execution_count": 22,
     "metadata": {},
     "output_type": "execute_result"
    }
   ],
   "source": [
    "covs_cis"
   ]
  },
  {
   "cell_type": "code",
   "execution_count": 23,
   "metadata": {},
   "outputs": [],
   "source": [
    "with open('../data/castro_et_al_2019/covs_bootstrap_10e6.npy', 'wb') as f:\n",
    "    np.save(f, covs_cis)"
   ]
  },
  {
   "cell_type": "markdown",
   "metadata": {},
   "source": [
    "### Bootstrap the Convergence Correlation"
   ]
  },
  {
   "cell_type": "code",
   "execution_count": 75,
   "metadata": {},
   "outputs": [
    {
     "data": {
      "application/vnd.jupyter.widget-view+json": {
       "model_id": "e8183b3e9e6d4f9ca0691083f470fc5e",
       "version_major": 2,
       "version_minor": 0
      },
      "text/plain": [
       "HBox(children=(FloatProgress(value=0.0, description='bootstraps', max=5000.0, style=ProgressStyle(description_…"
      ]
     },
     "metadata": {},
     "output_type": "display_data"
    },
    {
     "name": "stdout",
     "output_type": "stream",
     "text": [
      "\n"
     ]
    },
    {
     "data": {
      "text/plain": [
       "array([[[[0.07301283]]],\n",
       "\n",
       "\n",
       "       [[[0.17513376]]],\n",
       "\n",
       "\n",
       "       [[[0.25480595]]]])"
      ]
     },
     "execution_count": 75,
     "metadata": {},
     "output_type": "execute_result"
    }
   ],
   "source": [
    "convergence_corr_LSs = d.bootstrap_convergence_corr(B=5000, progress_bar=True, subset=(1, 2))\n",
    "convergence_corr_LSs"
   ]
  },
  {
   "cell_type": "code",
   "execution_count": 76,
   "metadata": {},
   "outputs": [
    {
     "data": {
      "application/vnd.jupyter.widget-view+json": {
       "model_id": "d24ee6ff306d43c5893307386c579273",
       "version_major": 2,
       "version_minor": 0
      },
      "text/plain": [
       "HBox(children=(FloatProgress(value=0.0, description='bootstraps', max=5000.0, style=ProgressStyle(description_…"
      ]
     },
     "metadata": {},
     "output_type": "display_data"
    },
    {
     "name": "stdout",
     "output_type": "stream",
     "text": [
      "\n"
     ]
    },
    {
     "data": {
      "text/plain": [
       "array([[[[-0.16817056]]],\n",
       "\n",
       "\n",
       "       [[[-0.05888775]]],\n",
       "\n",
       "\n",
       "       [[[ 0.0723813 ]]]])"
      ]
     },
     "execution_count": 76,
     "metadata": {},
     "output_type": "execute_result"
    }
   ],
   "source": [
    "convergence_corr_LS1_Ctrl = d.bootstrap_convergence_corr(B=5000, progress_bar=True, subset=(0, 1))\n",
    "convergence_corr_LS1_Ctrl"
   ]
  },
  {
   "cell_type": "code",
   "execution_count": 77,
   "metadata": {},
   "outputs": [
    {
     "data": {
      "application/vnd.jupyter.widget-view+json": {
       "model_id": "e3b3c0f26299436499df10ec46a89b2a",
       "version_major": 2,
       "version_minor": 0
      },
      "text/plain": [
       "HBox(children=(FloatProgress(value=0.0, description='bootstraps', max=5000.0, style=ProgressStyle(description_…"
      ]
     },
     "metadata": {},
     "output_type": "display_data"
    },
    {
     "name": "stdout",
     "output_type": "stream",
     "text": [
      "\n"
     ]
    },
    {
     "data": {
      "text/plain": [
       "array([[[[-0.12909668]]],\n",
       "\n",
       "\n",
       "       [[[-0.01808309]]],\n",
       "\n",
       "\n",
       "       [[[ 0.11439289]]]])"
      ]
     },
     "execution_count": 77,
     "metadata": {},
     "output_type": "execute_result"
    }
   ],
   "source": [
    "convergence_corr_LS2_Ctrl = d.bootstrap_convergence_corr(B=5000, progress_bar=True, subset=(0, 2))\n",
    "convergence_corr_LS2_Ctrl"
   ]
  },
  {
   "cell_type": "markdown",
   "metadata": {},
   "source": [
    "### Combining and saving convergence correlations"
   ]
  },
  {
   "cell_type": "code",
   "execution_count": 78,
   "metadata": {},
   "outputs": [
    {
     "data": {
      "text/plain": [
       "array([[-0.16817056, -0.12909668,  0.07301283],\n",
       "       [-0.05888775, -0.01808309,  0.17513376],\n",
       "       [ 0.0723813 ,  0.11439289,  0.25480595]])"
      ]
     },
     "execution_count": 78,
     "metadata": {},
     "output_type": "execute_result"
    }
   ],
   "source": [
    "all_conv_corrs = np.stack((convergence_corr_LS1_Ctrl, \n",
    "                           convergence_corr_LS2_Ctrl, \n",
    "                           convergence_corr_LSs,)).squeeze().T\n",
    "all_conv_corrs"
   ]
  },
  {
   "cell_type": "code",
   "execution_count": 79,
   "metadata": {},
   "outputs": [],
   "source": [
    "with open('../data/castro_et_al_2019/all_conv_corrs.npy', 'wb') as f:\n",
    "    np.save(f, all_conv_corrs)"
   ]
  },
  {
   "cell_type": "markdown",
   "metadata": {},
   "source": [
    "### Partitioning Variance into Shared and Unique Contributions"
   ]
  },
  {
   "cell_type": "code",
   "execution_count": 22,
   "metadata": {},
   "outputs": [],
   "source": [
    "# this is specific to the Castro study\n",
    "def unique_shared(cov):\n",
    "    sel = (cov[1,1]+cov[2,2])/2 - cov[0, 0]\n",
    "    shared = cov[1,2]\n",
    "    return sel - shared, shared"
   ]
  },
  {
   "cell_type": "code",
   "execution_count": 23,
   "metadata": {},
   "outputs": [
    {
     "data": {
      "text/plain": [
       "array([[ 0.10294167, -0.00699108, -0.00235626],\n",
       "       [-0.00699108,  0.13691369,  0.02631757],\n",
       "       [-0.00235626,  0.02631757,  0.16493685]])"
      ]
     },
     "execution_count": 23,
     "metadata": {},
     "output_type": "execute_result"
    }
   ],
   "source": [
    "# cols/rows are Ctl, LS1, LS2\n",
    "gw_covs = d.calc_cov()\n",
    "gw_covs"
   ]
  },
  {
   "cell_type": "markdown",
   "metadata": {},
   "source": [
    "A quick estimate of a G analog using replicate covariances:"
   ]
  },
  {
   "cell_type": "code",
   "execution_count": 24,
   "metadata": {},
   "outputs": [
    {
     "data": {
      "text/plain": [
       "0.1743748260253365"
      ]
     },
     "execution_count": 24,
     "metadata": {},
     "output_type": "execute_result"
    }
   ],
   "source": [
    "gw_covs[1,2]/((gw_covs[1,1] + gw_covs[2,2])/2)"
   ]
  },
  {
   "cell_type": "code",
   "execution_count": 25,
   "metadata": {},
   "outputs": [
    {
     "name": "stdout",
     "output_type": "stream",
     "text": [
      "unique: 0.021666025514262117\n",
      "shared: 0.026317567154741282\n"
     ]
    }
   ],
   "source": [
    "uni, shared = unique_shared(gw_covs)\n",
    "print('unique:', uni)\n",
    "print('shared:', shared)"
   ]
  },
  {
   "cell_type": "code",
   "execution_count": 26,
   "metadata": {},
   "outputs": [],
   "source": [
    "from cvtk.bootstrap import bootstrap_ci, block_bootstrap_ratio_averages"
   ]
  },
  {
   "cell_type": "code",
   "execution_count": 27,
   "metadata": {},
   "outputs": [],
   "source": [
    "windowed_covs = d.calc_cov_by_tile()                            "
   ]
  },
  {
   "cell_type": "code",
   "execution_count": 28,
   "metadata": {},
   "outputs": [],
   "source": [
    "windowed_stats = np.array([unique_shared(win) for win in windowed_covs])"
   ]
  },
  {
   "cell_type": "markdown",
   "metadata": {},
   "source": [
    "Unique and shared contributions to G bootstrap:"
   ]
  },
  {
   "cell_type": "code",
   "execution_count": 34,
   "metadata": {},
   "outputs": [
    {
     "name": "stdout",
     "output_type": "stream",
     "text": [
      "unique: [ 3.3 14.4 33.3]\n",
      "shared: [ 8.5 17.4 23.4]\n",
      "total sel: [20.6 31.8 47.8]\n"
     ]
    }
   ],
   "source": [
    "B = 5000\n",
    "windowed_stats = np.array([unique_shared(win) for win in windowed_covs])\n",
    "vars = np.array([(win[1,1] + win[2,2])/2 for win in windowed_covs])\n",
    "uni_straps, shared_straps, total_sel_straps = [], [], []\n",
    "for b in np.arange(B):\n",
    "    bidx = np.random.randint(0, len(windowed_covs), len(windowed_covs))\n",
    "    u, s = windowed_stats[bidx, :].mean(axis=0)\n",
    "    var_ls = vars[bidx].mean()\n",
    "    b =(u + s) / var_ls\n",
    "    uni_straps.append(u/var_ls)\n",
    "    shared_straps.append(s/var_ls)\n",
    "    total_sel_straps.append(b)\n",
    "    \n",
    "ls_var = (gw_covs[1,1] + gw_covs[2,2])/2\n",
    "print('unique:', (bootstrap_ci(uni/ls_var, uni_straps) * 100).round(1))\n",
    "print('shared:', (bootstrap_ci(shared/ls_var, shared_straps) * 100).round(1))\n",
    "print('total sel:', (bootstrap_ci((uni + shared)/ls_var, total_sel_straps) * 100).round(1))"
   ]
  },
  {
   "cell_type": "markdown",
   "metadata": {},
   "source": [
    "### Sign test of variance magnitude"
   ]
  },
  {
   "cell_type": "code",
   "execution_count": 102,
   "metadata": {},
   "outputs": [
    {
     "name": "stdout",
     "output_type": "stream",
     "text": [
      "1: [0.01127199 0.03397201 0.05654474]\n",
      "2: [0.03907203 0.06199516 0.10146228]\n"
     ]
    }
   ],
   "source": [
    "B = 5000\n",
    "\n",
    "windowed_covs = np.array(windowed_covs)\n",
    "\n",
    "straps1, straps2 = [], []\n",
    "for b in np.arange(B):\n",
    "    bidx = np.random.randint(0, len(windowed_covs), len(windowed_covs))\n",
    "    d1 = np.mean(windowed_covs[bidx, 1, 1] - windowed_covs[bidx, 0, 0])\n",
    "    d2 = np.mean(windowed_covs[bidx, 2, 2] - windowed_covs[bidx, 0, 0])\n",
    "    straps1.append(d1)\n",
    "    straps2.append(d2)\n",
    "    shared_straps.append(s)\n",
    "    \n",
    "print('1:', bootstrap_ci(gw_covs[1, 1] - gw_covs[0, 0], straps1))\n",
    "print('2:', bootstrap_ci(gw_covs[2, 2] - gw_covs[0, 0], straps2))"
   ]
  },
  {
   "cell_type": "markdown",
   "metadata": {},
   "source": [
    "## Analysis Excluding Chromosomes 5 and 10"
   ]
  },
  {
   "cell_type": "code",
   "execution_count": 33,
   "metadata": {},
   "outputs": [],
   "source": [
    "autosomes_sans_chr5_and_chr10 = [chr for chr in autosomes if chr not in ('chr5', 'chr10')]"
   ]
  },
  {
   "cell_type": "code",
   "execution_count": 40,
   "metadata": {},
   "outputs": [
    {
     "name": "stderr",
     "output_type": "stream",
     "text": [
      "/home/vinceb/projects/cvtk/cvtk/cov.py:283: RuntimeWarning: Mean of empty slice\n",
      "  mean_hets = np.nanmean(hets, axis=freqs.ndim-1)\n",
      "/home/vinceb/miniconda3/envs/basesci/lib/python3.6/site-packages/numpy/lib/function_base.py:392: RuntimeWarning: Mean of empty slice.\n",
      "  avg = a.mean(axis)\n",
      "/home/vinceb/projects/cvtk/cvtk/cov.py:309: RuntimeWarning: Degrees of freedom <= 0 for slice\n",
      "  cov = np.cov(deltas, bias=True)\n",
      "/home/vinceb/miniconda3/envs/basesci/lib/python3.6/site-packages/numpy/lib/function_base.py:2451: RuntimeWarning: divide by zero encountered in true_divide\n",
      "  c *= np.true_divide(1, fact)\n",
      "/home/vinceb/projects/cvtk/cvtk/cov.py:338: RuntimeWarning: Mean of empty slice\n",
      "  ave_bias += np.nanmean(0.5 * hets * (diploid_correction + depth_correction), axis=2)\n"
     ]
    },
    {
     "data": {
      "application/vnd.jupyter.widget-view+json": {
       "model_id": "c33be1bda06748f089bfa8d3835dd973",
       "version_major": 2,
       "version_minor": 0
      },
      "text/plain": [
       "HBox(children=(IntProgress(value=0, description='bootstraps', max=5000, style=ProgressStyle(description_width=…"
      ]
     },
     "metadata": {},
     "output_type": "display_data"
    }
   ],
   "source": [
    "covs_sans_chr5_and_chr10_cis = d.bootstrap_cov(B=5000, keep_seqids=autosomes_sans_chr5_and_chr10, \n",
    "                                              average_replicates=False, progress_bar=True)"
   ]
  },
  {
   "cell_type": "code",
   "execution_count": 41,
   "metadata": {},
   "outputs": [
    {
     "data": {
      "text/plain": [
       "array([[[ 0.07912359, -0.02006789, -0.01685076],\n",
       "        [-0.02006789,  0.10007415,  0.01004145],\n",
       "        [-0.01685076,  0.01004145,  0.12769844]],\n",
       "\n",
       "       [[ 0.10678867, -0.00736898, -0.00733722],\n",
       "        [-0.00736898,  0.13543516,  0.02544975],\n",
       "        [-0.00733722,  0.02544975,  0.14899192]],\n",
       "\n",
       "       [[ 0.12436063,  0.01076925,  0.00994585],\n",
       "        [ 0.01076925,  0.15168951,  0.03887876],\n",
       "        [ 0.00994585,  0.03887876,  0.17238601]]])"
      ]
     },
     "execution_count": 41,
     "metadata": {},
     "output_type": "execute_result"
    }
   ],
   "source": [
    "covs_sans_chr5_and_chr10_cis"
   ]
  },
  {
   "cell_type": "code",
   "execution_count": 42,
   "metadata": {},
   "outputs": [],
   "source": [
    "with open('../data/castro_et_al_2019/covs_sans_chr5_and_chr10_bootstrap_10e6.npy', 'wb') as f:\n",
    "    np.save(f, covs_sans_chr5_and_chr10_cis)"
   ]
  },
  {
   "cell_type": "markdown",
   "metadata": {},
   "source": [
    "### Convergence Correlations without Chr 5 and Chr 10"
   ]
  },
  {
   "cell_type": "code",
   "execution_count": 80,
   "metadata": {},
   "outputs": [
    {
     "data": {
      "application/vnd.jupyter.widget-view+json": {
       "model_id": "de6155057ea643ba8c12831f115d36bb",
       "version_major": 2,
       "version_minor": 0
      },
      "text/plain": [
       "HBox(children=(FloatProgress(value=0.0, description='bootstraps', max=5000.0, style=ProgressStyle(description_…"
      ]
     },
     "metadata": {},
     "output_type": "display_data"
    },
    {
     "name": "stdout",
     "output_type": "stream",
     "text": [
      "\n"
     ]
    },
    {
     "data": {
      "text/plain": [
       "array([[[[0.06286245]]],\n",
       "\n",
       "\n",
       "       [[[0.17916208]]],\n",
       "\n",
       "\n",
       "       [[[0.2697911 ]]]])"
      ]
     },
     "execution_count": 80,
     "metadata": {},
     "output_type": "execute_result"
    }
   ],
   "source": [
    "corr_LSs_sans_chr5_and_chr10 = d.bootstrap_convergence_corr(B=5000, \n",
    "                                                    keep_seqids=autosomes_sans_chr5_and_chr10, \n",
    "                                                    progress_bar=True,\n",
    "                                                    subset=(1, 2))\n",
    "corr_LSs_sans_chr5_and_chr10"
   ]
  },
  {
   "cell_type": "code",
   "execution_count": 81,
   "metadata": {},
   "outputs": [
    {
     "data": {
      "application/vnd.jupyter.widget-view+json": {
       "model_id": "aba628b0b9eb49b3aa6ac5fe82d8737d",
       "version_major": 2,
       "version_minor": 0
      },
      "text/plain": [
       "HBox(children=(FloatProgress(value=0.0, description='bootstraps', max=5000.0, style=ProgressStyle(description_…"
      ]
     },
     "metadata": {},
     "output_type": "display_data"
    },
    {
     "name": "stdout",
     "output_type": "stream",
     "text": [
      "\n"
     ]
    },
    {
     "data": {
      "text/plain": [
       "array([[[[-0.16853583]]],\n",
       "\n",
       "\n",
       "       [[[-0.06127422]]],\n",
       "\n",
       "\n",
       "       [[[ 0.09919115]]]])"
      ]
     },
     "execution_count": 81,
     "metadata": {},
     "output_type": "execute_result"
    }
   ],
   "source": [
    "corr_LS1_Ctrl_sans_chr5_and_chr10 = d.bootstrap_convergence_corr(B=5000, \n",
    "                                                    keep_seqids=autosomes_sans_chr5_and_chr10, \n",
    "                                                    progress_bar=True,\n",
    "                                                    subset=(0, 1))\n",
    "corr_LS1_Ctrl_sans_chr5_and_chr10"
   ]
  },
  {
   "cell_type": "code",
   "execution_count": 82,
   "metadata": {},
   "outputs": [
    {
     "data": {
      "application/vnd.jupyter.widget-view+json": {
       "model_id": "f78d0d8056104e5ab6360cd5a6fd263b",
       "version_major": 2,
       "version_minor": 0
      },
      "text/plain": [
       "HBox(children=(FloatProgress(value=0.0, description='bootstraps', max=5000.0, style=ProgressStyle(description_…"
      ]
     },
     "metadata": {},
     "output_type": "display_data"
    },
    {
     "name": "stdout",
     "output_type": "stream",
     "text": [
      "\n"
     ]
    },
    {
     "data": {
      "text/plain": [
       "array([[[[-0.13101864]]],\n",
       "\n",
       "\n",
       "       [[[-0.05816867]]],\n",
       "\n",
       "\n",
       "       [[[ 0.09967332]]]])"
      ]
     },
     "execution_count": 82,
     "metadata": {},
     "output_type": "execute_result"
    }
   ],
   "source": [
    "corr_LS2_Ctrl_sans_chr5_and_chr10 = d.bootstrap_convergence_corr(B=5000, \n",
    "                                                    keep_seqids=autosomes_sans_chr5_and_chr10, \n",
    "                                                    progress_bar=True,\n",
    "                                                    subset=(0, 2))\n",
    "corr_LS2_Ctrl_sans_chr5_and_chr10"
   ]
  },
  {
   "cell_type": "code",
   "execution_count": 83,
   "metadata": {},
   "outputs": [
    {
     "data": {
      "text/plain": [
       "array([[-0.16853583, -0.13101864,  0.06286245],\n",
       "       [-0.06127422, -0.05816867,  0.17916208],\n",
       "       [ 0.09919115,  0.09967332,  0.2697911 ]])"
      ]
     },
     "execution_count": 83,
     "metadata": {},
     "output_type": "execute_result"
    }
   ],
   "source": [
    "all_conv_corrs_sans_chr5_and_chr10 = np.stack((corr_LS1_Ctrl_sans_chr5_and_chr10, \n",
    "                                               corr_LS2_Ctrl_sans_chr5_and_chr10,\n",
    "                                               corr_LSs_sans_chr5_and_chr10)).squeeze().T\n",
    "all_conv_corrs_sans_chr5_and_chr10"
   ]
  },
  {
   "cell_type": "code",
   "execution_count": 84,
   "metadata": {},
   "outputs": [],
   "source": [
    "with open('../data/castro_et_al_2019/conv_corrs_sans_chr5_and_chr10.npy', 'wb') as f:\n",
    "    np.save(f, all_conv_corrs_sans_chr5_and_chr10)"
   ]
  },
  {
   "cell_type": "code",
   "execution_count": 85,
   "metadata": {},
   "outputs": [
    {
     "data": {
      "text/plain": [
       "array([[-0.16853583, -0.13101864,  0.06286245],\n",
       "       [-0.06127422, -0.05816867,  0.17916208],\n",
       "       [ 0.09919115,  0.09967332,  0.2697911 ]])"
      ]
     },
     "execution_count": 85,
     "metadata": {},
     "output_type": "execute_result"
    }
   ],
   "source": [
    "all_conv_corrs_sans_chr5_and_chr10"
   ]
  },
  {
   "cell_type": "code",
   "execution_count": 86,
   "metadata": {},
   "outputs": [
    {
     "data": {
      "text/plain": [
       "array([[-0.16817056, -0.12909668,  0.07301283],\n",
       "       [-0.05888775, -0.01808309,  0.17513376],\n",
       "       [ 0.0723813 ,  0.11439289,  0.25480595]])"
      ]
     },
     "execution_count": 86,
     "metadata": {},
     "output_type": "execute_result"
    }
   ],
   "source": [
    "all_conv_corrs"
   ]
  },
  {
   "cell_type": "code",
   "execution_count": null,
   "metadata": {},
   "outputs": [],
   "source": []
  }
 ],
 "metadata": {
  "kernelspec": {
   "display_name": "Python 3",
   "language": "python",
   "name": "python3"
  },
  "language_info": {
   "codemirror_mode": {
    "name": "ipython",
    "version": 3
   },
   "file_extension": ".py",
   "mimetype": "text/x-python",
   "name": "python",
   "nbconvert_exporter": "python",
   "pygments_lexer": "ipython3",
   "version": "3.8.3"
  }
 },
 "nbformat": 4,
 "nbformat_minor": 4
}
