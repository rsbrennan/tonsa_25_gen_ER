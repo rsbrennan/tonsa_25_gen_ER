{
 "cells": [
  {
   "cell_type": "code",
   "execution_count": 6,
   "metadata": {},
   "outputs": [],
   "source": [
    "import os\n",
    "import sys\n",
    "nb_dir = os.path.split(os.getcwd())[0]\n",
    "if nb_dir not in sys.path:\n",
    "    sys.path.append(nb_dir)\n",
    "%load_ext autoreload\n",
    "%autoreload 2\n",
    "%reload_ext autoreload"
   ]
  },
  {
   "cell_type": "code",
   "execution_count": 20,
   "metadata": {},
   "outputs": [],
   "source": [
    "import pickle\n",
    "from itertools import permutations\n",
    "from collections import Counter\n",
    "import numpy as np\n",
    "from scipy.stats import pearsonr, t\n",
    "from scipy.stats.mstats import pearsonr as nanpeasonr\n",
    "import pandas as pd\n",
    "import statsmodels.api as sm\n",
    "import matplotlib.pyplot as plt\n",
    "import matplotlib as mpl\n",
    "from tqdm import tnrange, tqdm_notebook"
   ]
  },
  {
   "cell_type": "code",
   "execution_count": 8,
   "metadata": {},
   "outputs": [],
   "source": [
    "import cvtk.variant_files as vf"
   ]
  },
  {
   "cell_type": "code",
   "execution_count": 9,
   "metadata": {},
   "outputs": [],
   "source": [
    "%matplotlib inline\n",
    "#%config InlineBackend.figure_format = 'svg'\n",
    "mpl.rcParams['figure.figsize'] = (8.0, 4.0)\n",
    "mpl.rcParams['figure.dpi'] = 200"
   ]
  },
  {
   "cell_type": "code",
   "execution_count": 10,
   "metadata": {},
   "outputs": [],
   "source": [
    "plt.style.use('./buffalo.mplstyle')"
   ]
  },
  {
   "cell_type": "code",
   "execution_count": 11,
   "metadata": {},
   "outputs": [
    {
     "name": "stdout",
     "output_type": "stream",
     "text": [
      "reading file '../data/bergland_et_al_2014/6d_v7.3_output_fixed_filtered.vcf.gz'...\n",
      "file '../data/bergland_et_al_2014/6d_v7.3_output_fixed_filtered.vcf.gz' loaded.\n",
      "total time to load VCF file: 0.19136969645818075 mins.\n"
     ]
    }
   ],
   "source": [
    "VCF_FILE = '../data/bergland_et_al_2014/6d_v7.3_output_fixed_filtered.vcf.gz'\n",
    "\n",
    "sf = vf.AD_DP_VCFFile(VCF_FILE)\n",
    "gi = sf.build_gintervals()"
   ]
  },
  {
   "cell_type": "markdown",
   "metadata": {},
   "source": [
    "### Parse the CSV INFO field"
   ]
  },
  {
   "cell_type": "code",
   "execution_count": 12,
   "metadata": {},
   "outputs": [],
   "source": [
    "cols = ['CHROM','POS', 'ID', 'REF', 'ALT', 'QUAL', 'FILTER', 'INFO', \n",
    "        'FORMART', 'FL1', 'FL2', 'GA', 'SC', 'NC', 'ME1', 'ME2', 'PA_7_2009',\n",
    "        'PA_11_2009', 'PA_7_2010', 'PA_11_2010', 'PA_7_2011', 'PA_10_2011', 'PA_11_2011']\n",
    "d = pd.read_csv(VCF_FILE, delimiter='\\t', comment='#', names=cols, index_col=False)"
   ]
  },
  {
   "cell_type": "code",
   "execution_count": 13,
   "metadata": {},
   "outputs": [],
   "source": [
    "def parse_info(x):\n",
    "    rows = []\n",
    "    for line in x:\n",
    "        rows.append(dict([tuple(x.split('=')) for x in line.split(';')]))\n",
    "    return rows\n",
    "\n",
    "rows = parse_info(d['INFO'].values)\n",
    "# original seasonal p-values\n",
    "SP = np.array([float(x['SP']) for x in rows])"
   ]
  },
  {
   "cell_type": "code",
   "execution_count": 14,
   "metadata": {},
   "outputs": [],
   "source": [
    "depths = sf.mat.sum(axis=2)"
   ]
  },
  {
   "cell_type": "code",
   "execution_count": 15,
   "metadata": {},
   "outputs": [],
   "source": [
    "diploids = np.array([39, 48, 51, 48, 46, 86, 75, 55, 74, 116, 33, 75, 47, 50])\n",
    "nchr = 2*diploids"
   ]
  },
  {
   "cell_type": "markdown",
   "metadata": {},
   "source": [
    "## GLM Analysis of Seasonal Data"
   ]
  },
  {
   "cell_type": "markdown",
   "metadata": {},
   "source": [
    "We extract the sample months (for Fall / Spring labels) and indices from the original sample names:"
   ]
  },
  {
   "cell_type": "code",
   "execution_count": 16,
   "metadata": {},
   "outputs": [
    {
     "name": "stdout",
     "output_type": "stream",
     "text": [
      "{7: '7', 8: '11', 9: '7', 10: '11', 11: '7', 12: '10'}\n"
     ]
    }
   ],
   "source": [
    "indices, samples = zip(*[(i, x.split('_')[1]) for i, x in enumerate(sf.samples) if x.startswith('PA_')])\n",
    "indices, samples = np.array(indices)[:-1], np.array(samples)[:-1]\n",
    "print(dict(zip(indices, samples)))"
   ]
  },
  {
   "cell_type": "code",
   "execution_count": 17,
   "metadata": {},
   "outputs": [],
   "source": [
    "def Neff(depth, nchr):\n",
    "    return np.floor((nchr * depth - 1) / (nchr + depth))"
   ]
  },
  {
   "cell_type": "code",
   "execution_count": 18,
   "metadata": {},
   "outputs": [
    {
     "data": {
      "text/plain": [
       "array([1, 0, 1, 0, 1, 0])"
      ]
     },
     "execution_count": 18,
     "metadata": {},
     "output_type": "execute_result"
    }
   ],
   "source": [
    "def seasonal_model(freqs, model_matrix, Neff, constant=True):\n",
    "    if constant:\n",
    "        model_matrix = sm.add_constant(model_matrix)\n",
    "    m = sm.GLM(freqs, model_matrix, var_weights=Neff, family=sm.families.Binomial())\n",
    "    return m\n",
    "\n",
    "# For spring, we use 1, Fall 0\n",
    "seasonal_model_matrix = np.array([{'7': 1, '11': 0, '10':0}[x] for x in samples], dtype='int64')\n",
    "seasonal_model_matrix"
   ]
  },
  {
   "cell_type": "code",
   "execution_count": 13,
   "metadata": {},
   "outputs": [],
   "source": [
    "def apply_model(mat, model, model_matrix, nchr, progress=True, permute=False, **kwargs):\n",
    "    depth = mat.sum(axis=2)\n",
    "    freqs = mat[:, :, 0] / depth    \n",
    "    Neff_weights = Neff(depth, nchr)\n",
    "    nloci = mat.shape[0]\n",
    "    models = []\n",
    "    #nloci = 10000  # for testing\n",
    "    loci_range = range(nloci) if not progress else tnrange(nloci)\n",
    "    for l in loci_range:\n",
    "        #import pdb; pdb.set_trace()\n",
    "        if permute:\n",
    "            model_matrix = np.random.permutation(model_matrix)\n",
    "        m = model(freqs[l, ...], model_matrix=model_matrix, Neff=Neff_weights[l, ...], **kwargs)\n",
    "        models.append(m.fit())\n",
    "    return models"
   ]
  },
  {
   "cell_type": "code",
   "execution_count": 14,
   "metadata": {},
   "outputs": [],
   "source": [
    "CACHE_GLMFITS = '../data/bergland_et_al_2014/bergland_glmfits_per_locus.pkl'\n",
    "FORCE = False\n",
    "\n",
    "if FORCE or not os.path.exists(CACHE_GLMFITS):\n",
    "    loci_models = apply_model(sf.mat[:, indices, :], seasonal_model, seasonal_model_matrix, nchr[indices], constant=True)\n",
    "    with open(CACHE_GLMFITS, 'wb') as f:\n",
    "        pickle.dump(loci_models, f)\n",
    "else:\n",
    "     with open(CACHE_GLMFITS, 'rb') as f:\n",
    "        loci_models = pickle.load(f)"
   ]
  },
  {
   "cell_type": "code",
   "execution_count": null,
   "metadata": {},
   "outputs": [],
   "source": [
    "pvals = np.array([f.pvalues[1] for f in loci_models])"
   ]
  },
  {
   "cell_type": "markdown",
   "metadata": {},
   "source": [
    "Save the p-values from the original study, and our re-analysis p-values."
   ]
  },
  {
   "cell_type": "code",
   "execution_count": 18,
   "metadata": {},
   "outputs": [],
   "source": [
    "pval_comparison = pd.DataFrame(dict(bergland_pvals=SP, our_pvals=pvals))\n",
    "pval_comparison.to_feather('../data/bergland_et_al_2014/bergland_pvalue_comparison.feather')\n",
    "pval_comparison.to_csv('../data/bergland_et_al_2014/bergland_pvalue_comparison.csv')"
   ]
  },
  {
   "cell_type": "code",
   "execution_count": 84,
   "metadata": {},
   "outputs": [],
   "source": [
    "pval_comparison = pd.read_feather('../data/bergland_et_al_2014/bergland_pvalue_comparison.feather')\n",
    "pvals = pval_comparison['bergland_pvals'].values"
   ]
  },
  {
   "cell_type": "markdown",
   "metadata": {},
   "source": [
    "## Permutation Analysis"
   ]
  },
  {
   "cell_type": "markdown",
   "metadata": {},
   "source": [
    "## Permuting Seasons per Locus"
   ]
  },
  {
   "cell_type": "code",
   "execution_count": 19,
   "metadata": {},
   "outputs": [],
   "source": [
    "NREPS = 100\n",
    "permutations = seasonal_model"
   ]
  },
  {
   "cell_type": "code",
   "execution_count": 20,
   "metadata": {},
   "outputs": [],
   "source": [
    "CACHE_PERMUTATION = '../data/bergland_et_al_2014/bergland_permutation_per_locus.pkl'\n",
    "\n",
    "if FORCE or not os.path.exists(CACHE_PERMUTATION):\n",
    "    permuted_loci_models = []\n",
    "\n",
    "    for rep in tnrange(NREPS):\n",
    "        res = apply_model(sf.mat[:, indices, :], seasonal_model, seasonal_model_matrix,\n",
    "                           nchr=nchr[indices], permute=True, constant=True)\n",
    "        permuted_loci_models.append(res)\n",
    "    with open(CACHE_PERMUTATION, 'wb') as f:\n",
    "        pickle.dump(permuted_loci_models, f)\n",
    "else:\n",
    "     with open(CACHE_PERMUTATION, 'rb') as f:\n",
    "        permuted_loci_models = pickle.load(f)"
   ]
  },
  {
   "cell_type": "code",
   "execution_count": 24,
   "metadata": {},
   "outputs": [],
   "source": [
    "locus_permuted_pvals = np.array([[f.pvalues[1] for f in res] for res in permuted_loci_models])"
   ]
  },
  {
   "cell_type": "code",
   "execution_count": 26,
   "metadata": {},
   "outputs": [],
   "source": [
    "with open('../data/bergland_et_al_2014/locus_level_permutation_pvalues.npy', 'wb') as f:\n",
    "    np.save(f, locus_permuted_pvals)"
   ]
  },
  {
   "cell_type": "markdown",
   "metadata": {},
   "source": [
    "### Permuting Seasons Once Per Run"
   ]
  },
  {
   "cell_type": "markdown",
   "metadata": {},
   "source": [
    "We can randomly permute each a large number of times, however there are not many unique permutations. So instead, we take the unique number of permutations, and weight the resulting histogram by their weights."
   ]
  },
  {
   "cell_type": "code",
   "execution_count": 25,
   "metadata": {},
   "outputs": [
    {
     "name": "stdout",
     "output_type": "stream",
     "text": [
      "total number of permutations of indices: 720\n",
      "weights of permutations: \n"
     ]
    },
    {
     "data": {
      "text/plain": [
       "Counter({(1, 0, 1, 0, 1, 0): 36,\n",
       "         (1, 0, 1, 0, 0, 1): 36,\n",
       "         (1, 0, 1, 1, 0, 0): 36,\n",
       "         (1, 0, 0, 1, 1, 0): 36,\n",
       "         (1, 0, 0, 1, 0, 1): 36,\n",
       "         (1, 0, 0, 0, 1, 1): 36,\n",
       "         (1, 1, 0, 0, 1, 0): 36,\n",
       "         (1, 1, 0, 0, 0, 1): 36,\n",
       "         (1, 1, 0, 1, 0, 0): 36,\n",
       "         (1, 1, 1, 0, 0, 0): 36,\n",
       "         (0, 1, 1, 0, 1, 0): 36,\n",
       "         (0, 1, 1, 0, 0, 1): 36,\n",
       "         (0, 1, 1, 1, 0, 0): 36,\n",
       "         (0, 1, 0, 1, 1, 0): 36,\n",
       "         (0, 1, 0, 1, 0, 1): 36,\n",
       "         (0, 1, 0, 0, 1, 1): 36,\n",
       "         (0, 0, 1, 1, 1, 0): 36,\n",
       "         (0, 0, 1, 1, 0, 1): 36,\n",
       "         (0, 0, 1, 0, 1, 1): 36,\n",
       "         (0, 0, 0, 1, 1, 1): 36})"
      ]
     },
     "execution_count": 25,
     "metadata": {},
     "output_type": "execute_result"
    }
   ],
   "source": [
    "perms = list(permutations(seasonal_model_matrix.tolist()))\n",
    "print(f\"total number of permutations of indices: {len(perms)}\")\n",
    "print(f\"weights of permutations: \")\n",
    "Counter(perms)"
   ]
  },
  {
   "cell_type": "markdown",
   "metadata": {},
   "source": [
    "Thus all permutations have the same weight. Since these permutations are symmetric around 0 and 1 (e.g. `0 0 0 1 1 1` and `1 1 1 0 0 0` have the same p-value), we can ignore half of these:"
   ]
  },
  {
   "cell_type": "code",
   "execution_count": 52,
   "metadata": {},
   "outputs": [
    {
     "name": "stdout",
     "output_type": "stream",
     "text": [
      "number of permutations: 20\n"
     ]
    }
   ],
   "source": [
    "# number of unique permutations \n",
    "unique_perms_str = set(['-'.join(map(str, x)) for x in perms])\n",
    "unique_perms = sorted([tuple(map(int, x.split('-'))) for x in unique_perms_str])\n",
    "print(f\"number of permutations: {len(unique_perms)}\")"
   ]
  },
  {
   "cell_type": "markdown",
   "metadata": {},
   "source": [
    "Since the p-value of the slope of GLM's dummy variable is invariant with respect to coding 0 or 1, we take only half these permutations, and ignore their symmetric complements:"
   ]
  },
  {
   "cell_type": "code",
   "execution_count": 64,
   "metadata": {},
   "outputs": [
    {
     "name": "stdout",
     "output_type": "stream",
     "text": [
      "number of unique permutations, ignoring symmetries: 10\n"
     ]
    },
    {
     "data": {
      "text/plain": [
       "[(0, 0, 0, 1, 1, 1),\n",
       " (0, 0, 1, 0, 1, 1),\n",
       " (0, 0, 1, 1, 0, 1),\n",
       " (0, 0, 1, 1, 1, 0),\n",
       " (0, 1, 0, 0, 1, 1),\n",
       " (0, 1, 0, 1, 0, 1),\n",
       " (0, 1, 0, 1, 1, 0),\n",
       " (0, 1, 1, 0, 0, 1),\n",
       " (0, 1, 1, 0, 1, 0),\n",
       " (0, 1, 1, 1, 0, 0)]"
      ]
     },
     "execution_count": 64,
     "metadata": {},
     "output_type": "execute_result"
    }
   ],
   "source": [
    "unique_sym_perms = unique_perms[:10]\n",
    "umique_sym_perms_complement = [tuple([int(not i) for i in x]) for x in unique_sym_perms]\n",
    "assert(sorted(unique_perms) == sorted(unique_sym_perms + umique_sym_perms_complement))\n",
    "print(f\"number of unique permutations, ignoring symmetries: {len(unique_sym_perms)}\")\n",
    "unique_sym_perms"
   ]
  },
  {
   "cell_type": "code",
   "execution_count": 73,
   "metadata": {},
   "outputs": [
    {
     "data": {
      "application/vnd.jupyter.widget-view+json": {
       "model_id": "76e88235e2e44b4d8b24ee927311795b",
       "version_major": 2,
       "version_minor": 0
      },
      "text/plain": [
       "HBox(children=(IntProgress(value=0, max=10), HTML(value='')))"
      ]
     },
     "metadata": {},
     "output_type": "display_data"
    },
    {
     "name": "stdout",
     "output_type": "stream",
     "text": [
      "running model on permutation (0, 0, 0, 1, 1, 1)\n"
     ]
    },
    {
     "data": {
      "application/vnd.jupyter.widget-view+json": {
       "model_id": "cd18bb1475c54ee39170bce768e2ca8d",
       "version_major": 2,
       "version_minor": 0
      },
      "text/plain": [
       "HBox(children=(IntProgress(value=0, max=557987), HTML(value='')))"
      ]
     },
     "metadata": {},
     "output_type": "display_data"
    },
    {
     "name": "stdout",
     "output_type": "stream",
     "text": [
      "running model on permutation (0, 0, 1, 0, 1, 1)\n"
     ]
    },
    {
     "data": {
      "application/vnd.jupyter.widget-view+json": {
       "model_id": "f65126b0232d4325a924c104a810416c",
       "version_major": 2,
       "version_minor": 0
      },
      "text/plain": [
       "HBox(children=(IntProgress(value=0, max=557987), HTML(value='')))"
      ]
     },
     "metadata": {},
     "output_type": "display_data"
    },
    {
     "name": "stdout",
     "output_type": "stream",
     "text": [
      "running model on permutation (0, 0, 1, 1, 0, 1)\n"
     ]
    },
    {
     "data": {
      "application/vnd.jupyter.widget-view+json": {
       "model_id": "9b3d25f4f2f34219b3e649d647aa70e6",
       "version_major": 2,
       "version_minor": 0
      },
      "text/plain": [
       "HBox(children=(IntProgress(value=0, max=557987), HTML(value='')))"
      ]
     },
     "metadata": {},
     "output_type": "display_data"
    },
    {
     "name": "stdout",
     "output_type": "stream",
     "text": [
      "running model on permutation (0, 0, 1, 1, 1, 0)\n"
     ]
    },
    {
     "data": {
      "application/vnd.jupyter.widget-view+json": {
       "model_id": "e7019a4b45184a848bc4c5deeb9d500c",
       "version_major": 2,
       "version_minor": 0
      },
      "text/plain": [
       "HBox(children=(IntProgress(value=0, max=557987), HTML(value='')))"
      ]
     },
     "metadata": {},
     "output_type": "display_data"
    },
    {
     "name": "stdout",
     "output_type": "stream",
     "text": [
      "running model on permutation (0, 1, 0, 0, 1, 1)\n"
     ]
    },
    {
     "data": {
      "application/vnd.jupyter.widget-view+json": {
       "model_id": "9148563ef80f4332af33d69772c4a812",
       "version_major": 2,
       "version_minor": 0
      },
      "text/plain": [
       "HBox(children=(IntProgress(value=0, max=557987), HTML(value='')))"
      ]
     },
     "metadata": {},
     "output_type": "display_data"
    },
    {
     "name": "stdout",
     "output_type": "stream",
     "text": [
      "running model on permutation (0, 1, 0, 1, 0, 1)\n"
     ]
    },
    {
     "data": {
      "application/vnd.jupyter.widget-view+json": {
       "model_id": "6fbd59821e5a4f43aef92cbf4b6ecf8a",
       "version_major": 2,
       "version_minor": 0
      },
      "text/plain": [
       "HBox(children=(IntProgress(value=0, max=557987), HTML(value='')))"
      ]
     },
     "metadata": {},
     "output_type": "display_data"
    },
    {
     "name": "stdout",
     "output_type": "stream",
     "text": [
      "running model on permutation (0, 1, 0, 1, 1, 0)\n"
     ]
    },
    {
     "data": {
      "application/vnd.jupyter.widget-view+json": {
       "model_id": "01ee683ad648489a8afd454bbc403726",
       "version_major": 2,
       "version_minor": 0
      },
      "text/plain": [
       "HBox(children=(IntProgress(value=0, max=557987), HTML(value='')))"
      ]
     },
     "metadata": {},
     "output_type": "display_data"
    },
    {
     "name": "stdout",
     "output_type": "stream",
     "text": [
      "running model on permutation (0, 1, 1, 0, 0, 1)\n"
     ]
    },
    {
     "data": {
      "application/vnd.jupyter.widget-view+json": {
       "model_id": "8fd827704597490a8517b22c24478528",
       "version_major": 2,
       "version_minor": 0
      },
      "text/plain": [
       "HBox(children=(IntProgress(value=0, max=557987), HTML(value='')))"
      ]
     },
     "metadata": {},
     "output_type": "display_data"
    },
    {
     "name": "stdout",
     "output_type": "stream",
     "text": [
      "running model on permutation (0, 1, 1, 0, 1, 0)\n"
     ]
    },
    {
     "data": {
      "application/vnd.jupyter.widget-view+json": {
       "model_id": "3f19be9b7f924ccfafffaff49a068141",
       "version_major": 2,
       "version_minor": 0
      },
      "text/plain": [
       "HBox(children=(IntProgress(value=0, max=557987), HTML(value='')))"
      ]
     },
     "metadata": {},
     "output_type": "display_data"
    },
    {
     "name": "stdout",
     "output_type": "stream",
     "text": [
      "running model on permutation (0, 1, 1, 1, 0, 0)\n"
     ]
    },
    {
     "data": {
      "application/vnd.jupyter.widget-view+json": {
       "model_id": "f1cd1491f20943b78db24c42de242df9",
       "version_major": 2,
       "version_minor": 0
      },
      "text/plain": [
       "HBox(children=(IntProgress(value=0, max=557987), HTML(value='')))"
      ]
     },
     "metadata": {},
     "output_type": "display_data"
    }
   ],
   "source": [
    "#unique_sym_perms_sans_seasonal = [x for x in unique_sym_perms if x != (0, 1, 0, 1, 0, 1)]\n",
    "\n",
    "CACHE_PERMUTATION_REP = '../data/bergland_et_al_2014/bergland_permutation_per_rep.pkl'\n",
    "if FORCE or not os.path.exists(CACHE_PERMUTATION_REP):\n",
    "    permuted_rep_models = []\n",
    "\n",
    "    for permutation in tqdm_notebook(unique_sym_perms):\n",
    "        print(f\"running model on permutation {permutation}\")\n",
    "        res = apply_model(sf.mat[:, indices, :], seasonal_model, np.array(permutation, dtype='int64'),\n",
    "                           nchr=nchr[indices], permute=False, constant=True)\n",
    "        permuted_rep_models.append(res)\n",
    "else:\n",
    "     with open(CACHE_PERMUTATION_REPe, 'rb') as f:\n",
    "        permuted_rep_models = pickle.load(f)"
   ]
  },
  {
   "cell_type": "code",
   "execution_count": 76,
   "metadata": {},
   "outputs": [],
   "source": [
    "rep_permuted_pvals = np.array([[f.pvalues[1] for f in res] for res in permuted_rep_models])"
   ]
  },
  {
   "cell_type": "code",
   "execution_count": 77,
   "metadata": {},
   "outputs": [],
   "source": [
    "with open('../data/bergland_et_al_2014/rep_level_permutation_pvalues.npy', 'wb') as f:\n",
    "    np.save(f, rep_permuted_pvals)"
   ]
  },
  {
   "cell_type": "code",
   "execution_count": 116,
   "metadata": {},
   "outputs": [
    {
     "data": {
      "text/plain": [
       "<matplotlib.legend.Legend at 0x7ef74a74e588>"
      ]
     },
     "execution_count": 116,
     "metadata": {},
     "output_type": "execute_result"
    },
    {
     "data": {
      "image/png": "[encoded data removed]",
      "text/plain": [
       "<Figure size 1600x800 with 1 Axes>"
      ]
     },
     "metadata": {
      "needs_background": "light"
     },
     "output_type": "display_data"
    }
   ],
   "source": [
    "# we delete the fifth permutation, which is seasonal one.\n",
    "labels = tuple(['seasonal'] + [''.join(map(str, x)) for x in np.delete(np.array(unique_sym_perms), 5, axis=0)])\n",
    "plt.hist(np.hstack((pvals.reshape(-1, 1), np.delete(rep_permuted_pvals.T, 5, axis=1))),\n",
    "         density=True, label=labels)\n",
    "plt.legend(loc=(1, 0.1))"
   ]
  },
  {
   "cell_type": "code",
   "execution_count": null,
   "metadata": {},
   "outputs": [],
   "source": []
  }
 ],
 "metadata": {
  "kernelspec": {
   "display_name": "Python 3",
   "language": "python",
   "name": "python3"
  },
  "language_info": {
   "codemirror_mode": {
    "name": "ipython",
    "version": 3
   },
   "file_extension": ".py",
   "mimetype": "text/x-python",
   "name": "python",
   "nbconvert_exporter": "python",
   "pygments_lexer": "ipython3",
   "version": "3.8.3"
  }
 },
 "nbformat": 4,
 "nbformat_minor": 2
}
